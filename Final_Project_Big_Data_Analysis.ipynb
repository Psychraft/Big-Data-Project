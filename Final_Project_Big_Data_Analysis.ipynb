{
  "nbformat": 4,
  "nbformat_minor": 0,
  "metadata": {
    "colab": {
      "name": "Final Project Big Data Analysis.ipynb",
      "provenance": [],
      "toc_visible": true,
      "authorship_tag": "ABX9TyNFuDica4Vvju4r7uSbo9g9",
      "include_colab_link": true
    },
    "kernelspec": {
      "name": "python3",
      "display_name": "Python 3"
    },
    "language_info": {
      "name": "python"
    }
  },
  "cells": [
    {
      "cell_type": "markdown",
      "metadata": {
        "id": "view-in-github",
        "colab_type": "text"
      },
      "source": [
        "<a href=\"https://colab.research.google.com/github/Psychraft/Big-Data-Project/blob/main/Final_Project_Big_Data_Analysis.ipynb\" target=\"_parent\"><img src=\"https://colab.research.google.com/assets/colab-badge.svg\" alt=\"Open In Colab\"/></a>"
      ]
    },
    {
      "cell_type": "markdown",
      "metadata": {
        "id": "pMvDdiqhrTVa"
      },
      "source": [
        "Victor Oscar Bernal Alpizar\n",
        "Student ID 4156\n",
        "  \n",
        "Final Project Big Data Analysis\n",
        "\n",
        "                                      Professor: Piotr Radkowski \n"
      ]
    },
    {
      "cell_type": "code",
      "metadata": {
        "colab": {
          "resources": {
            "http://localhost:8080/nbextensions/google.colab/files.js": {
              "data": "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",
              "ok": true,
              "headers": [
                [
                  "content-type",
                  "application/javascript"
                ]
              ],
              "status": 200,
              "status_text": ""
            }
          },
          "base_uri": "https://localhost:8080/",
          "height": 89
        },
        "id": "4zsGYDpZmU6G",
        "outputId": "d6d1f759-3aab-41c8-a4c9-0c4892dc30b2"
      },
      "source": [
        "from google.colab import files\n",
        "\n",
        "uploaded = files.upload()\n",
        "\n",
        "for fn in uploaded.keys():\n",
        "\n",
        "  print('User uploaded file \"{name}\" with length {length} bytes'.format(\n",
        "\n",
        "name=fn, length=len(uploaded[fn])))"
      ],
      "execution_count": 2,
      "outputs": [
        {
          "output_type": "display_data",
          "data": {
            "text/html": [
              "\n",
              "     <input type=\"file\" id=\"files-33f7f568-7b70-43d8-a2e8-ffcdf72aecbb\" name=\"files[]\" multiple disabled\n",
              "        style=\"border:none\" />\n",
              "     <output id=\"result-33f7f568-7b70-43d8-a2e8-ffcdf72aecbb\">\n",
              "      Upload widget is only available when the cell has been executed in the\n",
              "      current browser session. Please rerun this cell to enable.\n",
              "      </output>\n",
              "      <script src=\"/nbextensions/google.colab/files.js\"></script> "
            ],
            "text/plain": [
              "<IPython.core.display.HTML object>"
            ]
          },
          "metadata": {
            "tags": []
          }
        },
        {
          "output_type": "stream",
          "text": [
            "Saving cardio_train.csv to cardio_train.csv\n",
            "User uploaded file \"cardio_train.csv\" with length 2941524 bytes\n"
          ],
          "name": "stdout"
        }
      ]
    },
    {
      "cell_type": "code",
      "metadata": {
        "id": "R-sGTDNNm-ry"
      },
      "source": [
        "import pandas as pd #Data processing\n",
        "import numpy as np\n",
        "from scipy import stats\n",
        "\n",
        "# Data visualization  \n",
        "import matplotlib\n",
        "import matplotlib.pyplot as plt\n",
        "import seaborn as sns\n",
        "from sklearn.model_selection import train_test_split\n",
        "from sklearn.metrics import accuracy_score\n",
        "from sklearn.neural_network import MLPRegressor\n",
        "from sklearn.metrics import classification_report\n",
        "from sklearn.metrics import confusion_matrix\n",
        "import os # accessing directory structure\n",
        "from mpl_toolkits.mplot3d import Axes3D\n",
        "from sklearn.preprocessing import StandardScaler\n",
        "import matplotlib.pyplot as plt # plotting\n",
        "import numpy as np # linear algebra\n",
        "\n"
      ],
      "execution_count": 14,
      "outputs": []
    },
    {
      "cell_type": "code",
      "metadata": {
        "id": "V4_kX0GBnMlB"
      },
      "source": [
        "#To read the dataset that was uploaded in colab \n",
        "Cardio_disease = pd.read_csv (r'/content/cardio_train.csv')"
      ],
      "execution_count": null,
      "outputs": []
    },
    {
      "cell_type": "code",
      "metadata": {
        "colab": {
          "base_uri": "https://localhost:8080/",
          "height": 419
        },
        "id": "iGedoKDG4SGv",
        "outputId": "4259bbe5-41c4-41e8-81b2-1dae02cebf06"
      },
      "source": [
        "Cardio_disease\n"
      ],
      "execution_count": null,
      "outputs": [
        {
          "output_type": "execute_result",
          "data": {
            "text/html": [
              "<div>\n",
              "<style scoped>\n",
              "    .dataframe tbody tr th:only-of-type {\n",
              "        vertical-align: middle;\n",
              "    }\n",
              "\n",
              "    .dataframe tbody tr th {\n",
              "        vertical-align: top;\n",
              "    }\n",
              "\n",
              "    .dataframe thead th {\n",
              "        text-align: right;\n",
              "    }\n",
              "</style>\n",
              "<table border=\"1\" class=\"dataframe\">\n",
              "  <thead>\n",
              "    <tr style=\"text-align: right;\">\n",
              "      <th></th>\n",
              "      <th>id;age;gender;height;weight;ap_hi;ap_lo;cholesterol;gluc;smoke;alco;active;cardio</th>\n",
              "    </tr>\n",
              "  </thead>\n",
              "  <tbody>\n",
              "    <tr>\n",
              "      <th>0</th>\n",
              "      <td>0;18393;2;168;62.0;110;80;1;1;0;0;1;0</td>\n",
              "    </tr>\n",
              "    <tr>\n",
              "      <th>1</th>\n",
              "      <td>1;20228;1;156;85.0;140;90;3;1;0;0;1;1</td>\n",
              "    </tr>\n",
              "    <tr>\n",
              "      <th>2</th>\n",
              "      <td>2;18857;1;165;64.0;130;70;3;1;0;0;0;1</td>\n",
              "    </tr>\n",
              "    <tr>\n",
              "      <th>3</th>\n",
              "      <td>3;17623;2;169;82.0;150;100;1;1;0;0;1;1</td>\n",
              "    </tr>\n",
              "    <tr>\n",
              "      <th>4</th>\n",
              "      <td>4;17474;1;156;56.0;100;60;1;1;0;0;0;0</td>\n",
              "    </tr>\n",
              "    <tr>\n",
              "      <th>...</th>\n",
              "      <td>...</td>\n",
              "    </tr>\n",
              "    <tr>\n",
              "      <th>69995</th>\n",
              "      <td>99993;19240;2;168;76.0;120;80;1;1;1;0;1;0</td>\n",
              "    </tr>\n",
              "    <tr>\n",
              "      <th>69996</th>\n",
              "      <td>99995;22601;1;158;126.0;140;90;2;2;0;0;1;1</td>\n",
              "    </tr>\n",
              "    <tr>\n",
              "      <th>69997</th>\n",
              "      <td>99996;19066;2;183;105.0;180;90;3;1;0;1;0;1</td>\n",
              "    </tr>\n",
              "    <tr>\n",
              "      <th>69998</th>\n",
              "      <td>99998;22431;1;163;72.0;135;80;1;2;0;0;0;1</td>\n",
              "    </tr>\n",
              "    <tr>\n",
              "      <th>69999</th>\n",
              "      <td>99999;20540;1;170;72.0;120;80;2;1;0;0;1;0</td>\n",
              "    </tr>\n",
              "  </tbody>\n",
              "</table>\n",
              "<p>70000 rows × 1 columns</p>\n",
              "</div>"
            ],
            "text/plain": [
              "      id;age;gender;height;weight;ap_hi;ap_lo;cholesterol;gluc;smoke;alco;active;cardio\n",
              "0                  0;18393;2;168;62.0;110;80;1;1;0;0;1;0                               \n",
              "1                  1;20228;1;156;85.0;140;90;3;1;0;0;1;1                               \n",
              "2                  2;18857;1;165;64.0;130;70;3;1;0;0;0;1                               \n",
              "3                 3;17623;2;169;82.0;150;100;1;1;0;0;1;1                               \n",
              "4                  4;17474;1;156;56.0;100;60;1;1;0;0;0;0                               \n",
              "...                                                  ...                               \n",
              "69995          99993;19240;2;168;76.0;120;80;1;1;1;0;1;0                               \n",
              "69996         99995;22601;1;158;126.0;140;90;2;2;0;0;1;1                               \n",
              "69997         99996;19066;2;183;105.0;180;90;3;1;0;1;0;1                               \n",
              "69998          99998;22431;1;163;72.0;135;80;1;2;0;0;0;1                               \n",
              "69999          99999;20540;1;170;72.0;120;80;2;1;0;0;1;0                               \n",
              "\n",
              "[70000 rows x 1 columns]"
            ]
          },
          "metadata": {
            "tags": []
          },
          "execution_count": 30
        }
      ]
    },
    {
      "cell_type": "markdown",
      "metadata": {
        "id": "SJC9K5DT8Z6i"
      },
      "source": [
        "First step to be done is the inspection of the files and to check if the data was neither corrupted nor damaged which I made sure this wont happen. Also considering the semicolon as the separator so that all observations can be readeable."
      ]
    },
    {
      "cell_type": "code",
      "metadata": {
        "id": "cuohFmdK4jbO"
      },
      "source": [
        "#Dataset needs to be delimited with semicolon\n",
        "Cardio_disease2 = pd.read_csv (r'/content/cardio_train.csv', delimiter=';')\n"
      ],
      "execution_count": 8,
      "outputs": []
    },
    {
      "cell_type": "code",
      "metadata": {
        "colab": {
          "base_uri": "https://localhost:8080/"
        },
        "id": "_UOpNZZR43JW",
        "outputId": "75e06ffa-1100-41b7-cb67-4bc50ee6e5af"
      },
      "source": [
        "print(Cardio_disease2)"
      ],
      "execution_count": null,
      "outputs": [
        {
          "output_type": "stream",
          "text": [
            "          id    age  gender  height  weight  ...  gluc  smoke  alco  active  cardio\n",
            "0          0  18393       2     168    62.0  ...     1      0     0       1       0\n",
            "1          1  20228       1     156    85.0  ...     1      0     0       1       1\n",
            "2          2  18857       1     165    64.0  ...     1      0     0       0       1\n",
            "3          3  17623       2     169    82.0  ...     1      0     0       1       1\n",
            "4          4  17474       1     156    56.0  ...     1      0     0       0       0\n",
            "...      ...    ...     ...     ...     ...  ...   ...    ...   ...     ...     ...\n",
            "69995  99993  19240       2     168    76.0  ...     1      1     0       1       0\n",
            "69996  99995  22601       1     158   126.0  ...     2      0     0       1       1\n",
            "69997  99996  19066       2     183   105.0  ...     1      0     1       0       1\n",
            "69998  99998  22431       1     163    72.0  ...     2      0     0       0       1\n",
            "69999  99999  20540       1     170    72.0  ...     1      0     0       1       0\n",
            "\n",
            "[70000 rows x 13 columns]\n"
          ],
          "name": "stdout"
        }
      ]
    },
    {
      "cell_type": "markdown",
      "metadata": {
        "id": "AvgKO1L972do"
      },
      "source": [
        "Cardiovascular Disease Dataset was used for this final project.\n",
        "This dataset is composed by 13 variables \n"
      ]
    },
    {
      "cell_type": "markdown",
      "metadata": {
        "id": "uW0stbZ2ATRI"
      },
      "source": [
        "#Data description\n",
        "There are 3 types of input features:\n",
        "\n",
        "Objective: factual information / this input is easy to measure because either you are male or female or you have age or not.\n",
        "\n",
        "Examination: results of medical examination / Tells us something that was measured in a process.\n",
        "\n",
        "Subjective: information given by the patient  /  All the data was collected in reports of patients.\n",
        "\n",
        "\n",
        "\n",
        "Variables are separated as follows:\n",
        "\n",
        "\n",
        "VARIABLE | INPUT FEATURES | NAME OF THE VARIABLE IN THE DATASET |  DATA TYPE | (UNIT OF MEASURE ONLY FOR AGE, HEIGHT AND WEIGHT) |  TYPE OF VARIABLE\n",
        "\n",
        "\n",
        "1. Patient ID | Subjective Feature | ID | int | Quantitative and discrete variable\n",
        "\n",
        "2. Age | Objective Feature | age | int | (days) | Quantitative and continuous variable\n",
        "\n",
        "3. Gender | Objective Feature | gender | categorical code | Dummy variable\n",
        "\n",
        "4. Height | Objective Feature | height | int | (cm) | Quantitative and continuous variable\n",
        "\n",
        "5. Weight | Objective Feature | weight | float | (kg) | Quantitative and continuous variable\n",
        "\n",
        "6. Systolic blood pressure | Examination Feature | ap_hi | int | Quantitative and continuous variable\n",
        "\n",
        "7. Diastolic blood pressure | Examination Feature | ap_lo | int | Quantitative and continuous variable\n",
        "\n",
        "8. Cholesterol | Examination Feature |  1: normal, 2: above normal, 3: well above normal | Categorical variable\n",
        "\n",
        "9. Glucose | Examination Feature | gluc | 1: normal, 2: above normal, 3: well above normal | Categorical variable\n",
        "\n",
        "10. Smoking | Subjective Feature | smoke | binary | Dummy variable\n",
        "\n",
        "11. Alcohol intake | Subjective Feature | alco | binary | Dummy variable\n",
        "\n",
        "12. Physical activity | Subjective Feature | active | binary | Dummy variable\n",
        "\n",
        "13. Presence or absence of cardiovascular disease | Target Variable | cardio | binary | Dummy variable\n",
        "\n",
        "All of the dataset values were collected at the moment of medical examination.\n",
        "\n",
        "It is important to highlight that for the dummy variables (smoke, alco, active and cardio -> 0 stands for 'NO' and 1 stands for 'YES'. Talking about the categorical variables ( cholesterol and gluc we only have 3 levels defined as follows: 1 -> normal, 2 -> above normal, 3 -> well above normal."
      ]
    },
    {
      "cell_type": "markdown",
      "metadata": {
        "id": "iNhiMwiPT-kM"
      },
      "source": [
        "# New Section"
      ]
    },
    {
      "cell_type": "code",
      "metadata": {
        "colab": {
          "base_uri": "https://localhost:8080/"
        },
        "id": "JIs6EVqPV7FM",
        "outputId": "3d2b2ebe-7123-4085-ed6e-d893d84da1cb"
      },
      "source": [
        "Cardio_disease2.info()"
      ],
      "execution_count": null,
      "outputs": [
        {
          "output_type": "stream",
          "text": [
            "<class 'pandas.core.frame.DataFrame'>\n",
            "RangeIndex: 70000 entries, 0 to 69999\n",
            "Data columns (total 13 columns):\n",
            " #   Column       Non-Null Count  Dtype  \n",
            "---  ------       --------------  -----  \n",
            " 0   id           70000 non-null  int64  \n",
            " 1   age          70000 non-null  int64  \n",
            " 2   gender       70000 non-null  int64  \n",
            " 3   height       70000 non-null  int64  \n",
            " 4   weight       70000 non-null  float64\n",
            " 5   ap_hi        70000 non-null  int64  \n",
            " 6   ap_lo        70000 non-null  int64  \n",
            " 7   cholesterol  70000 non-null  int64  \n",
            " 8   gluc         70000 non-null  int64  \n",
            " 9   smoke        70000 non-null  int64  \n",
            " 10  alco         70000 non-null  int64  \n",
            " 11  active       70000 non-null  int64  \n",
            " 12  cardio       70000 non-null  int64  \n",
            "dtypes: float64(1), int64(12)\n",
            "memory usage: 6.9 MB\n"
          ],
          "name": "stdout"
        }
      ]
    },
    {
      "cell_type": "code",
      "metadata": {
        "colab": {
          "base_uri": "https://localhost:8080/"
        },
        "id": "ev0g14MJX4zX",
        "outputId": "7b009442-85f8-4a92-a494-61d916c64eca"
      },
      "source": [
        "Cardio_disease2.columns"
      ],
      "execution_count": null,
      "outputs": [
        {
          "output_type": "execute_result",
          "data": {
            "text/plain": [
              "Index(['id', 'age', 'gender', 'height', 'weight', 'ap_hi', 'ap_lo',\n",
              "       'cholesterol', 'gluc', 'smoke', 'alco', 'active', 'cardio'],\n",
              "      dtype='object')"
            ]
          },
          "metadata": {
            "tags": []
          },
          "execution_count": 54
        }
      ]
    },
    {
      "cell_type": "code",
      "metadata": {
        "colab": {
          "base_uri": "https://localhost:8080/",
          "height": 317
        },
        "id": "8dO1hr5VVCyk",
        "outputId": "734db8d8-16e3-45fb-ab63-c45ec93a2018"
      },
      "source": [
        "Cardio_disease2.describe()"
      ],
      "execution_count": null,
      "outputs": [
        {
          "output_type": "execute_result",
          "data": {
            "text/html": [
              "<div>\n",
              "<style scoped>\n",
              "    .dataframe tbody tr th:only-of-type {\n",
              "        vertical-align: middle;\n",
              "    }\n",
              "\n",
              "    .dataframe tbody tr th {\n",
              "        vertical-align: top;\n",
              "    }\n",
              "\n",
              "    .dataframe thead th {\n",
              "        text-align: right;\n",
              "    }\n",
              "</style>\n",
              "<table border=\"1\" class=\"dataframe\">\n",
              "  <thead>\n",
              "    <tr style=\"text-align: right;\">\n",
              "      <th></th>\n",
              "      <th>id</th>\n",
              "      <th>age</th>\n",
              "      <th>gender</th>\n",
              "      <th>height</th>\n",
              "      <th>weight</th>\n",
              "      <th>ap_hi</th>\n",
              "      <th>ap_lo</th>\n",
              "      <th>cholesterol</th>\n",
              "      <th>gluc</th>\n",
              "      <th>smoke</th>\n",
              "      <th>alco</th>\n",
              "      <th>active</th>\n",
              "      <th>cardio</th>\n",
              "    </tr>\n",
              "  </thead>\n",
              "  <tbody>\n",
              "    <tr>\n",
              "      <th>count</th>\n",
              "      <td>70000.000000</td>\n",
              "      <td>70000.000000</td>\n",
              "      <td>70000.000000</td>\n",
              "      <td>70000.000000</td>\n",
              "      <td>70000.000000</td>\n",
              "      <td>70000.000000</td>\n",
              "      <td>70000.000000</td>\n",
              "      <td>70000.000000</td>\n",
              "      <td>70000.000000</td>\n",
              "      <td>70000.000000</td>\n",
              "      <td>70000.000000</td>\n",
              "      <td>70000.000000</td>\n",
              "      <td>70000.000000</td>\n",
              "    </tr>\n",
              "    <tr>\n",
              "      <th>mean</th>\n",
              "      <td>49972.419900</td>\n",
              "      <td>19468.865814</td>\n",
              "      <td>1.349571</td>\n",
              "      <td>164.359229</td>\n",
              "      <td>74.205690</td>\n",
              "      <td>128.817286</td>\n",
              "      <td>96.630414</td>\n",
              "      <td>1.366871</td>\n",
              "      <td>1.226457</td>\n",
              "      <td>0.088129</td>\n",
              "      <td>0.053771</td>\n",
              "      <td>0.803729</td>\n",
              "      <td>0.499700</td>\n",
              "    </tr>\n",
              "    <tr>\n",
              "      <th>std</th>\n",
              "      <td>28851.302323</td>\n",
              "      <td>2467.251667</td>\n",
              "      <td>0.476838</td>\n",
              "      <td>8.210126</td>\n",
              "      <td>14.395757</td>\n",
              "      <td>154.011419</td>\n",
              "      <td>188.472530</td>\n",
              "      <td>0.680250</td>\n",
              "      <td>0.572270</td>\n",
              "      <td>0.283484</td>\n",
              "      <td>0.225568</td>\n",
              "      <td>0.397179</td>\n",
              "      <td>0.500003</td>\n",
              "    </tr>\n",
              "    <tr>\n",
              "      <th>min</th>\n",
              "      <td>0.000000</td>\n",
              "      <td>10798.000000</td>\n",
              "      <td>1.000000</td>\n",
              "      <td>55.000000</td>\n",
              "      <td>10.000000</td>\n",
              "      <td>-150.000000</td>\n",
              "      <td>-70.000000</td>\n",
              "      <td>1.000000</td>\n",
              "      <td>1.000000</td>\n",
              "      <td>0.000000</td>\n",
              "      <td>0.000000</td>\n",
              "      <td>0.000000</td>\n",
              "      <td>0.000000</td>\n",
              "    </tr>\n",
              "    <tr>\n",
              "      <th>25%</th>\n",
              "      <td>25006.750000</td>\n",
              "      <td>17664.000000</td>\n",
              "      <td>1.000000</td>\n",
              "      <td>159.000000</td>\n",
              "      <td>65.000000</td>\n",
              "      <td>120.000000</td>\n",
              "      <td>80.000000</td>\n",
              "      <td>1.000000</td>\n",
              "      <td>1.000000</td>\n",
              "      <td>0.000000</td>\n",
              "      <td>0.000000</td>\n",
              "      <td>1.000000</td>\n",
              "      <td>0.000000</td>\n",
              "    </tr>\n",
              "    <tr>\n",
              "      <th>50%</th>\n",
              "      <td>50001.500000</td>\n",
              "      <td>19703.000000</td>\n",
              "      <td>1.000000</td>\n",
              "      <td>165.000000</td>\n",
              "      <td>72.000000</td>\n",
              "      <td>120.000000</td>\n",
              "      <td>80.000000</td>\n",
              "      <td>1.000000</td>\n",
              "      <td>1.000000</td>\n",
              "      <td>0.000000</td>\n",
              "      <td>0.000000</td>\n",
              "      <td>1.000000</td>\n",
              "      <td>0.000000</td>\n",
              "    </tr>\n",
              "    <tr>\n",
              "      <th>75%</th>\n",
              "      <td>74889.250000</td>\n",
              "      <td>21327.000000</td>\n",
              "      <td>2.000000</td>\n",
              "      <td>170.000000</td>\n",
              "      <td>82.000000</td>\n",
              "      <td>140.000000</td>\n",
              "      <td>90.000000</td>\n",
              "      <td>2.000000</td>\n",
              "      <td>1.000000</td>\n",
              "      <td>0.000000</td>\n",
              "      <td>0.000000</td>\n",
              "      <td>1.000000</td>\n",
              "      <td>1.000000</td>\n",
              "    </tr>\n",
              "    <tr>\n",
              "      <th>max</th>\n",
              "      <td>99999.000000</td>\n",
              "      <td>23713.000000</td>\n",
              "      <td>2.000000</td>\n",
              "      <td>250.000000</td>\n",
              "      <td>200.000000</td>\n",
              "      <td>16020.000000</td>\n",
              "      <td>11000.000000</td>\n",
              "      <td>3.000000</td>\n",
              "      <td>3.000000</td>\n",
              "      <td>1.000000</td>\n",
              "      <td>1.000000</td>\n",
              "      <td>1.000000</td>\n",
              "      <td>1.000000</td>\n",
              "    </tr>\n",
              "  </tbody>\n",
              "</table>\n",
              "</div>"
            ],
            "text/plain": [
              "                 id           age  ...        active        cardio\n",
              "count  70000.000000  70000.000000  ...  70000.000000  70000.000000\n",
              "mean   49972.419900  19468.865814  ...      0.803729      0.499700\n",
              "std    28851.302323   2467.251667  ...      0.397179      0.500003\n",
              "min        0.000000  10798.000000  ...      0.000000      0.000000\n",
              "25%    25006.750000  17664.000000  ...      1.000000      0.000000\n",
              "50%    50001.500000  19703.000000  ...      1.000000      0.000000\n",
              "75%    74889.250000  21327.000000  ...      1.000000      1.000000\n",
              "max    99999.000000  23713.000000  ...      1.000000      1.000000\n",
              "\n",
              "[8 rows x 13 columns]"
            ]
          },
          "metadata": {
            "tags": []
          },
          "execution_count": 44
        }
      ]
    },
    {
      "cell_type": "code",
      "metadata": {
        "colab": {
          "base_uri": "https://localhost:8080/",
          "height": 452
        },
        "id": "cWZDDfQ4Vemp",
        "outputId": "eeeab906-20e9-4b89-f9d8-af34aad848e8"
      },
      "source": [
        "Cardio_disease2.describe(include='all').T"
      ],
      "execution_count": null,
      "outputs": [
        {
          "output_type": "execute_result",
          "data": {
            "text/html": [
              "<div>\n",
              "<style scoped>\n",
              "    .dataframe tbody tr th:only-of-type {\n",
              "        vertical-align: middle;\n",
              "    }\n",
              "\n",
              "    .dataframe tbody tr th {\n",
              "        vertical-align: top;\n",
              "    }\n",
              "\n",
              "    .dataframe thead th {\n",
              "        text-align: right;\n",
              "    }\n",
              "</style>\n",
              "<table border=\"1\" class=\"dataframe\">\n",
              "  <thead>\n",
              "    <tr style=\"text-align: right;\">\n",
              "      <th></th>\n",
              "      <th>count</th>\n",
              "      <th>mean</th>\n",
              "      <th>std</th>\n",
              "      <th>min</th>\n",
              "      <th>25%</th>\n",
              "      <th>50%</th>\n",
              "      <th>75%</th>\n",
              "      <th>max</th>\n",
              "    </tr>\n",
              "  </thead>\n",
              "  <tbody>\n",
              "    <tr>\n",
              "      <th>id</th>\n",
              "      <td>70000.0</td>\n",
              "      <td>49972.419900</td>\n",
              "      <td>28851.302323</td>\n",
              "      <td>0.0</td>\n",
              "      <td>25006.75</td>\n",
              "      <td>50001.5</td>\n",
              "      <td>74889.25</td>\n",
              "      <td>99999.0</td>\n",
              "    </tr>\n",
              "    <tr>\n",
              "      <th>age</th>\n",
              "      <td>70000.0</td>\n",
              "      <td>19468.865814</td>\n",
              "      <td>2467.251667</td>\n",
              "      <td>10798.0</td>\n",
              "      <td>17664.00</td>\n",
              "      <td>19703.0</td>\n",
              "      <td>21327.00</td>\n",
              "      <td>23713.0</td>\n",
              "    </tr>\n",
              "    <tr>\n",
              "      <th>gender</th>\n",
              "      <td>70000.0</td>\n",
              "      <td>1.349571</td>\n",
              "      <td>0.476838</td>\n",
              "      <td>1.0</td>\n",
              "      <td>1.00</td>\n",
              "      <td>1.0</td>\n",
              "      <td>2.00</td>\n",
              "      <td>2.0</td>\n",
              "    </tr>\n",
              "    <tr>\n",
              "      <th>height</th>\n",
              "      <td>70000.0</td>\n",
              "      <td>164.359229</td>\n",
              "      <td>8.210126</td>\n",
              "      <td>55.0</td>\n",
              "      <td>159.00</td>\n",
              "      <td>165.0</td>\n",
              "      <td>170.00</td>\n",
              "      <td>250.0</td>\n",
              "    </tr>\n",
              "    <tr>\n",
              "      <th>weight</th>\n",
              "      <td>70000.0</td>\n",
              "      <td>74.205690</td>\n",
              "      <td>14.395757</td>\n",
              "      <td>10.0</td>\n",
              "      <td>65.00</td>\n",
              "      <td>72.0</td>\n",
              "      <td>82.00</td>\n",
              "      <td>200.0</td>\n",
              "    </tr>\n",
              "    <tr>\n",
              "      <th>ap_hi</th>\n",
              "      <td>70000.0</td>\n",
              "      <td>128.817286</td>\n",
              "      <td>154.011419</td>\n",
              "      <td>-150.0</td>\n",
              "      <td>120.00</td>\n",
              "      <td>120.0</td>\n",
              "      <td>140.00</td>\n",
              "      <td>16020.0</td>\n",
              "    </tr>\n",
              "    <tr>\n",
              "      <th>ap_lo</th>\n",
              "      <td>70000.0</td>\n",
              "      <td>96.630414</td>\n",
              "      <td>188.472530</td>\n",
              "      <td>-70.0</td>\n",
              "      <td>80.00</td>\n",
              "      <td>80.0</td>\n",
              "      <td>90.00</td>\n",
              "      <td>11000.0</td>\n",
              "    </tr>\n",
              "    <tr>\n",
              "      <th>cholesterol</th>\n",
              "      <td>70000.0</td>\n",
              "      <td>1.366871</td>\n",
              "      <td>0.680250</td>\n",
              "      <td>1.0</td>\n",
              "      <td>1.00</td>\n",
              "      <td>1.0</td>\n",
              "      <td>2.00</td>\n",
              "      <td>3.0</td>\n",
              "    </tr>\n",
              "    <tr>\n",
              "      <th>gluc</th>\n",
              "      <td>70000.0</td>\n",
              "      <td>1.226457</td>\n",
              "      <td>0.572270</td>\n",
              "      <td>1.0</td>\n",
              "      <td>1.00</td>\n",
              "      <td>1.0</td>\n",
              "      <td>1.00</td>\n",
              "      <td>3.0</td>\n",
              "    </tr>\n",
              "    <tr>\n",
              "      <th>smoke</th>\n",
              "      <td>70000.0</td>\n",
              "      <td>0.088129</td>\n",
              "      <td>0.283484</td>\n",
              "      <td>0.0</td>\n",
              "      <td>0.00</td>\n",
              "      <td>0.0</td>\n",
              "      <td>0.00</td>\n",
              "      <td>1.0</td>\n",
              "    </tr>\n",
              "    <tr>\n",
              "      <th>alco</th>\n",
              "      <td>70000.0</td>\n",
              "      <td>0.053771</td>\n",
              "      <td>0.225568</td>\n",
              "      <td>0.0</td>\n",
              "      <td>0.00</td>\n",
              "      <td>0.0</td>\n",
              "      <td>0.00</td>\n",
              "      <td>1.0</td>\n",
              "    </tr>\n",
              "    <tr>\n",
              "      <th>active</th>\n",
              "      <td>70000.0</td>\n",
              "      <td>0.803729</td>\n",
              "      <td>0.397179</td>\n",
              "      <td>0.0</td>\n",
              "      <td>1.00</td>\n",
              "      <td>1.0</td>\n",
              "      <td>1.00</td>\n",
              "      <td>1.0</td>\n",
              "    </tr>\n",
              "    <tr>\n",
              "      <th>cardio</th>\n",
              "      <td>70000.0</td>\n",
              "      <td>0.499700</td>\n",
              "      <td>0.500003</td>\n",
              "      <td>0.0</td>\n",
              "      <td>0.00</td>\n",
              "      <td>0.0</td>\n",
              "      <td>1.00</td>\n",
              "      <td>1.0</td>\n",
              "    </tr>\n",
              "  </tbody>\n",
              "</table>\n",
              "</div>"
            ],
            "text/plain": [
              "               count          mean           std  ...      50%       75%      max\n",
              "id           70000.0  49972.419900  28851.302323  ...  50001.5  74889.25  99999.0\n",
              "age          70000.0  19468.865814   2467.251667  ...  19703.0  21327.00  23713.0\n",
              "gender       70000.0      1.349571      0.476838  ...      1.0      2.00      2.0\n",
              "height       70000.0    164.359229      8.210126  ...    165.0    170.00    250.0\n",
              "weight       70000.0     74.205690     14.395757  ...     72.0     82.00    200.0\n",
              "ap_hi        70000.0    128.817286    154.011419  ...    120.0    140.00  16020.0\n",
              "ap_lo        70000.0     96.630414    188.472530  ...     80.0     90.00  11000.0\n",
              "cholesterol  70000.0      1.366871      0.680250  ...      1.0      2.00      3.0\n",
              "gluc         70000.0      1.226457      0.572270  ...      1.0      1.00      3.0\n",
              "smoke        70000.0      0.088129      0.283484  ...      0.0      0.00      1.0\n",
              "alco         70000.0      0.053771      0.225568  ...      0.0      0.00      1.0\n",
              "active       70000.0      0.803729      0.397179  ...      1.0      1.00      1.0\n",
              "cardio       70000.0      0.499700      0.500003  ...      0.0      1.00      1.0\n",
              "\n",
              "[13 rows x 8 columns]"
            ]
          },
          "metadata": {
            "tags": []
          },
          "execution_count": 50
        }
      ]
    },
    {
      "cell_type": "markdown",
      "metadata": {
        "id": "2EzqoLuekHeU"
      },
      "source": [
        "Looking at the data we can observed some descriptive statistics mean, max, min and dispertion of every single variable. But it is noticeable that some data must be transformed, such as age variable. Because it is expressed in days and  we need to standardize the data therefore it needs to be converted into years. Variables such as ID won't be taken into account. Considering the min and max values we can notice that outliers need to be removed for example: in the case of height there cannot be a person that is only 55 cm tall or the other way around 250 cm tall not even the tallest man in the world is that tall. For Weight some outliers as well do not have to be considered there cant be a person whose weight is 10 kg or even 200 kg. In the following picture we can see the ranges of the Systolic and Diastolic blood pressure. A normal value for Systolic is less than 120 and for Diastolic is 80 therefore negative values cannot be possible besides max values are even 16020 and 11000 accordingly therefore it is evident that some observations known as outliers need to be removed. \n",
        "\n",
        "# Cholesterol ranges can be found on below image\n"
      ]
    },
    {
      "cell_type": "code",
      "metadata": {
        "colab": {
          "base_uri": "https://localhost:8080/",
          "height": 252
        },
        "id": "_7wvNxCMmOQj",
        "outputId": "b344fccc-5b38-4901-ce7e-6082e879f039"
      },
      "source": [
        "import matplotlib.image as mpimg\n",
        "import matplotlib.pyplot as plt\n",
        "img = mpimg.imread('image1.png')\n",
        "plt.imshow(img)"
      ],
      "execution_count": null,
      "outputs": [
        {
          "output_type": "execute_result",
          "data": {
            "text/plain": [
              "<matplotlib.image.AxesImage at 0x7f7cced1f3d0>"
            ]
          },
          "metadata": {
            "tags": []
          },
          "execution_count": 67
        },
        {
          "output_type": "display_data",
          "data": {
            "image/png": "[encoded data removed]",
            "text/plain": [
              "<Figure size 432x288 with 1 Axes>"
            ]
          },
          "metadata": {
            "tags": [],
            "needs_background": "light"
          }
        }
      ]
    },
    {
      "cell_type": "code",
      "metadata": {
        "colab": {
          "resources": {
            "http://localhost:8080/nbextensions/google.colab/files.js": {
              "data": "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",
              "ok": true,
              "headers": [
                [
                  "content-type",
                  "application/javascript"
                ]
              ],
              "status": 200,
              "status_text": ""
            }
          },
          "base_uri": "https://localhost:8080/",
          "height": 89
        },
        "id": "VZALpLIrmFyK",
        "outputId": "72f26a27-b7a7-4f24-e8f0-0527a8b086f1"
      },
      "source": [
        "from google.colab import files\n",
        "\n",
        "uploaded = files.upload()\n",
        "\n",
        "for fn in uploaded.keys():\n",
        "\n",
        "  print('User uploaded file \"{name}\" with length {length} bytes'.format(\n",
        "\n",
        "name=fn, length=len(uploaded[fn])))"
      ],
      "execution_count": null,
      "outputs": [
        {
          "output_type": "display_data",
          "data": {
            "text/html": [
              "\n",
              "     <input type=\"file\" id=\"files-90a6847a-eec2-4b3a-b1b2-539fdc8032a0\" name=\"files[]\" multiple disabled\n",
              "        style=\"border:none\" />\n",
              "     <output id=\"result-90a6847a-eec2-4b3a-b1b2-539fdc8032a0\">\n",
              "      Upload widget is only available when the cell has been executed in the\n",
              "      current browser session. Please rerun this cell to enable.\n",
              "      </output>\n",
              "      <script src=\"/nbextensions/google.colab/files.js\"></script> "
            ],
            "text/plain": [
              "<IPython.core.display.HTML object>"
            ]
          },
          "metadata": {
            "tags": []
          }
        },
        {
          "output_type": "stream",
          "text": [
            "Saving image1.png to image1.png\n",
            "User uploaded file \"image1.png\" with length 8938 bytes\n"
          ],
          "name": "stdout"
        }
      ]
    },
    {
      "cell_type": "code",
      "metadata": {
        "colab": {
          "base_uri": "https://localhost:8080/",
          "height": 204
        },
        "id": "rz6PJgivVoy7",
        "outputId": "f0d4873a-1c88-4722-fdbf-7121c2d4ad44"
      },
      "source": [
        "# Letw take a look about our data and how it looks like the first 4 rows\n",
        "Cardio_disease2.head()"
      ],
      "execution_count": 10,
      "outputs": [
        {
          "output_type": "execute_result",
          "data": {
            "text/html": [
              "<div>\n",
              "<style scoped>\n",
              "    .dataframe tbody tr th:only-of-type {\n",
              "        vertical-align: middle;\n",
              "    }\n",
              "\n",
              "    .dataframe tbody tr th {\n",
              "        vertical-align: top;\n",
              "    }\n",
              "\n",
              "    .dataframe thead th {\n",
              "        text-align: right;\n",
              "    }\n",
              "</style>\n",
              "<table border=\"1\" class=\"dataframe\">\n",
              "  <thead>\n",
              "    <tr style=\"text-align: right;\">\n",
              "      <th></th>\n",
              "      <th>id</th>\n",
              "      <th>age</th>\n",
              "      <th>gender</th>\n",
              "      <th>height</th>\n",
              "      <th>weight</th>\n",
              "      <th>ap_hi</th>\n",
              "      <th>ap_lo</th>\n",
              "      <th>cholesterol</th>\n",
              "      <th>gluc</th>\n",
              "      <th>smoke</th>\n",
              "      <th>alco</th>\n",
              "      <th>active</th>\n",
              "      <th>cardio</th>\n",
              "    </tr>\n",
              "  </thead>\n",
              "  <tbody>\n",
              "    <tr>\n",
              "      <th>0</th>\n",
              "      <td>0</td>\n",
              "      <td>18393</td>\n",
              "      <td>2</td>\n",
              "      <td>168</td>\n",
              "      <td>62.0</td>\n",
              "      <td>110</td>\n",
              "      <td>80</td>\n",
              "      <td>1</td>\n",
              "      <td>1</td>\n",
              "      <td>0</td>\n",
              "      <td>0</td>\n",
              "      <td>1</td>\n",
              "      <td>0</td>\n",
              "    </tr>\n",
              "    <tr>\n",
              "      <th>1</th>\n",
              "      <td>1</td>\n",
              "      <td>20228</td>\n",
              "      <td>1</td>\n",
              "      <td>156</td>\n",
              "      <td>85.0</td>\n",
              "      <td>140</td>\n",
              "      <td>90</td>\n",
              "      <td>3</td>\n",
              "      <td>1</td>\n",
              "      <td>0</td>\n",
              "      <td>0</td>\n",
              "      <td>1</td>\n",
              "      <td>1</td>\n",
              "    </tr>\n",
              "    <tr>\n",
              "      <th>2</th>\n",
              "      <td>2</td>\n",
              "      <td>18857</td>\n",
              "      <td>1</td>\n",
              "      <td>165</td>\n",
              "      <td>64.0</td>\n",
              "      <td>130</td>\n",
              "      <td>70</td>\n",
              "      <td>3</td>\n",
              "      <td>1</td>\n",
              "      <td>0</td>\n",
              "      <td>0</td>\n",
              "      <td>0</td>\n",
              "      <td>1</td>\n",
              "    </tr>\n",
              "    <tr>\n",
              "      <th>3</th>\n",
              "      <td>3</td>\n",
              "      <td>17623</td>\n",
              "      <td>2</td>\n",
              "      <td>169</td>\n",
              "      <td>82.0</td>\n",
              "      <td>150</td>\n",
              "      <td>100</td>\n",
              "      <td>1</td>\n",
              "      <td>1</td>\n",
              "      <td>0</td>\n",
              "      <td>0</td>\n",
              "      <td>1</td>\n",
              "      <td>1</td>\n",
              "    </tr>\n",
              "    <tr>\n",
              "      <th>4</th>\n",
              "      <td>4</td>\n",
              "      <td>17474</td>\n",
              "      <td>1</td>\n",
              "      <td>156</td>\n",
              "      <td>56.0</td>\n",
              "      <td>100</td>\n",
              "      <td>60</td>\n",
              "      <td>1</td>\n",
              "      <td>1</td>\n",
              "      <td>0</td>\n",
              "      <td>0</td>\n",
              "      <td>0</td>\n",
              "      <td>0</td>\n",
              "    </tr>\n",
              "  </tbody>\n",
              "</table>\n",
              "</div>"
            ],
            "text/plain": [
              "   id    age  gender  height  weight  ...  gluc  smoke  alco  active  cardio\n",
              "0   0  18393       2     168    62.0  ...     1      0     0       1       0\n",
              "1   1  20228       1     156    85.0  ...     1      0     0       1       1\n",
              "2   2  18857       1     165    64.0  ...     1      0     0       0       1\n",
              "3   3  17623       2     169    82.0  ...     1      0     0       1       1\n",
              "4   4  17474       1     156    56.0  ...     1      0     0       0       0\n",
              "\n",
              "[5 rows x 13 columns]"
            ]
          },
          "metadata": {
            "tags": []
          },
          "execution_count": 10
        }
      ]
    },
    {
      "cell_type": "code",
      "metadata": {
        "colab": {
          "base_uri": "https://localhost:8080/"
        },
        "id": "ex_854lLn5aQ",
        "outputId": "1825cafa-bcb4-43e9-ded4-b59916b3e622"
      },
      "source": [
        "Cardio_disease2.dtypes.value_counts()"
      ],
      "execution_count": 66,
      "outputs": [
        {
          "output_type": "execute_result",
          "data": {
            "text/plain": [
              "int64      12\n",
              "float64     1\n",
              "dtype: int64"
            ]
          },
          "metadata": {
            "tags": []
          },
          "execution_count": 66
        }
      ]
    },
    {
      "cell_type": "code",
      "metadata": {
        "id": "M5krJe0wbXoX"
      },
      "source": [
        "# Correlation matrix\n",
        "def plotCorrelationMatrix(df, graphWidth):\n",
        "    filename = df.dataframeName\n",
        "    df = df.dropna('columns') # drop columns with NaN\n",
        "    df = df[[col for col in df if df[col].nunique() > 1]] # keep columns where there are more than 1 unique values\n",
        "    if df.shape[1] < 2:\n",
        "        print(f'No correlation plots shown: The number of non-NaN or constant columns ({df.shape[1]}) is less than 2')\n",
        "        return\n",
        "    corr = df.corr()\n",
        "    plt.figure(num=None, figsize=(graphWidth, graphWidth), dpi=80, facecolor='w', edgecolor='k')\n",
        "    corrMat = plt.matshow(corr, fignum = 1)\n",
        "    plt.xticks(range(len(corr.columns)), corr.columns, rotation=90)\n",
        "    plt.yticks(range(len(corr.columns)), corr.columns)\n",
        "    plt.gca().xaxis.tick_bottom()\n",
        "    plt.colorbar(corrMat)\n",
        "    plt.title(f'Correlation Matrix for {filename}', fontsize=15)\n",
        "    plt.show()"
      ],
      "execution_count": 41,
      "outputs": []
    },
    {
      "cell_type": "markdown",
      "metadata": {
        "id": "bmcYYxAsfKut"
      },
      "source": [
        "REVISAR AQUI ARRIBA"
      ]
    },
    {
      "cell_type": "code",
      "metadata": {
        "colab": {
          "base_uri": "https://localhost:8080/",
          "height": 452
        },
        "id": "QoM5FLebfI1m",
        "outputId": "abbc7694-bb04-4c64-8d05-84d82cf051b8"
      },
      "source": [
        "#Part about checking the quality fo the data is to know if there are some NOT APPLICABLE values but this dataset has no such observations. Lets create a table where with missing data\n",
        "miss_values=Cardio_disease2.isnull().sum() # missing values\n",
        "\n",
        "Perc_values_missing = Cardio_disease2.isnull().sum()/Cardio_disease2.shape[0]*100 # missing value %\n",
        "\n",
        "value = {\n",
        "    'miss_values':miss_values,\n",
        "    'Perc_values_missing':Perc_values_missing \n",
        "}\n",
        "frame=pd.DataFrame(value)\n",
        "frame"
      ],
      "execution_count": 56,
      "outputs": [
        {
          "output_type": "execute_result",
          "data": {
            "text/html": [
              "<div>\n",
              "<style scoped>\n",
              "    .dataframe tbody tr th:only-of-type {\n",
              "        vertical-align: middle;\n",
              "    }\n",
              "\n",
              "    .dataframe tbody tr th {\n",
              "        vertical-align: top;\n",
              "    }\n",
              "\n",
              "    .dataframe thead th {\n",
              "        text-align: right;\n",
              "    }\n",
              "</style>\n",
              "<table border=\"1\" class=\"dataframe\">\n",
              "  <thead>\n",
              "    <tr style=\"text-align: right;\">\n",
              "      <th></th>\n",
              "      <th>miss_values</th>\n",
              "      <th>Perc_values_missing</th>\n",
              "    </tr>\n",
              "  </thead>\n",
              "  <tbody>\n",
              "    <tr>\n",
              "      <th>id</th>\n",
              "      <td>0</td>\n",
              "      <td>0.0</td>\n",
              "    </tr>\n",
              "    <tr>\n",
              "      <th>age</th>\n",
              "      <td>0</td>\n",
              "      <td>0.0</td>\n",
              "    </tr>\n",
              "    <tr>\n",
              "      <th>gender</th>\n",
              "      <td>0</td>\n",
              "      <td>0.0</td>\n",
              "    </tr>\n",
              "    <tr>\n",
              "      <th>height</th>\n",
              "      <td>0</td>\n",
              "      <td>0.0</td>\n",
              "    </tr>\n",
              "    <tr>\n",
              "      <th>weight</th>\n",
              "      <td>0</td>\n",
              "      <td>0.0</td>\n",
              "    </tr>\n",
              "    <tr>\n",
              "      <th>ap_hi</th>\n",
              "      <td>0</td>\n",
              "      <td>0.0</td>\n",
              "    </tr>\n",
              "    <tr>\n",
              "      <th>ap_lo</th>\n",
              "      <td>0</td>\n",
              "      <td>0.0</td>\n",
              "    </tr>\n",
              "    <tr>\n",
              "      <th>cholesterol</th>\n",
              "      <td>0</td>\n",
              "      <td>0.0</td>\n",
              "    </tr>\n",
              "    <tr>\n",
              "      <th>gluc</th>\n",
              "      <td>0</td>\n",
              "      <td>0.0</td>\n",
              "    </tr>\n",
              "    <tr>\n",
              "      <th>smoke</th>\n",
              "      <td>0</td>\n",
              "      <td>0.0</td>\n",
              "    </tr>\n",
              "    <tr>\n",
              "      <th>alco</th>\n",
              "      <td>0</td>\n",
              "      <td>0.0</td>\n",
              "    </tr>\n",
              "    <tr>\n",
              "      <th>active</th>\n",
              "      <td>0</td>\n",
              "      <td>0.0</td>\n",
              "    </tr>\n",
              "    <tr>\n",
              "      <th>cardio</th>\n",
              "      <td>0</td>\n",
              "      <td>0.0</td>\n",
              "    </tr>\n",
              "  </tbody>\n",
              "</table>\n",
              "</div>"
            ],
            "text/plain": [
              "             miss_values  Perc_values_missing\n",
              "id                     0                  0.0\n",
              "age                    0                  0.0\n",
              "gender                 0                  0.0\n",
              "height                 0                  0.0\n",
              "weight                 0                  0.0\n",
              "ap_hi                  0                  0.0\n",
              "ap_lo                  0                  0.0\n",
              "cholesterol            0                  0.0\n",
              "gluc                   0                  0.0\n",
              "smoke                  0                  0.0\n",
              "alco                   0                  0.0\n",
              "active                 0                  0.0\n",
              "cardio                 0                  0.0"
            ]
          },
          "metadata": {
            "tags": []
          },
          "execution_count": 56
        }
      ]
    },
    {
      "cell_type": "code",
      "metadata": {
        "colab": {
          "base_uri": "https://localhost:8080/"
        },
        "id": "rpriZowSrgsO",
        "outputId": "9240a80d-de7f-4a1c-d422-c3d762e45079"
      },
      "source": [
        "Cardio_disease2[[\"gender\",\"cholesterol\",\"gluc\",\"smoke\",\"alco\",\"active\",\"cardio\" ]].apply(lambda x: x.value_counts()).T.stack()"
      ],
      "execution_count": 74,
      "outputs": [
        {
          "output_type": "execute_result",
          "data": {
            "text/plain": [
              "gender       1    45530.0\n",
              "             2    24470.0\n",
              "cholesterol  1    52385.0\n",
              "             2     9549.0\n",
              "             3     8066.0\n",
              "gluc         1    59479.0\n",
              "             2     5190.0\n",
              "             3     5331.0\n",
              "smoke        0    63831.0\n",
              "             1     6169.0\n",
              "alco         0    66236.0\n",
              "             1     3764.0\n",
              "active       0    13739.0\n",
              "             1    56261.0\n",
              "cardio       0    35021.0\n",
              "             1    34979.0\n",
              "dtype: float64"
            ]
          },
          "metadata": {
            "tags": []
          },
          "execution_count": 74
        }
      ]
    },
    {
      "cell_type": "markdown",
      "metadata": {
        "id": "k5XdCNhAmIFp"
      },
      "source": [
        "****************************DATA VISUALIZATION OF THE DATA WITHOUT BEING TRANSFORMED*******************************************************************"
      ]
    },
    {
      "cell_type": "code",
      "metadata": {
        "colab": {
          "base_uri": "https://localhost:8080/",
          "height": 882
        },
        "id": "geNoW2BTnanw",
        "outputId": "2a51c646-90f5-44f6-a72f-e26226c94f91"
      },
      "source": [
        "#Let's take a look on the multiple distribution by column\n",
        "Cardio_disease2.hist(figsize=(20,15));"
      ],
      "execution_count": 68,
      "outputs": [
        {
          "output_type": "display_data",
          "data": {
            "image/png": "[encoded data removed]",
            "text/plain": [
              "<Figure size 1440x1080 with 16 Axes>"
            ]
          },
          "metadata": {
            "tags": []
          }
        }
      ]
    },
    {
      "cell_type": "code",
      "metadata": {
        "colab": {
          "base_uri": "https://localhost:8080/",
          "height": 313
        },
        "id": "MyTgU377nali",
        "outputId": "cea4407d-6cd2-43a5-c80c-1d0f772f4be5"
      },
      "source": [
        "#CORRELATION MATRIX OF ALL VARIABLES\n",
        "corr=Cardio_disease2.corr()\n",
        "corr.style.background_gradient(cmap='Oranges_r',axis=None)"
      ],
      "execution_count": 72,
      "outputs": [
        {
          "output_type": "execute_result",
          "data": {
            "text/html": [
              "<style  type=\"text/css\" >\n",
              "#T_e202f03e_c7e1_11eb_a50b_0242ac1c0002row0_col0,#T_e202f03e_c7e1_11eb_a50b_0242ac1c0002row1_col1,#T_e202f03e_c7e1_11eb_a50b_0242ac1c0002row2_col2,#T_e202f03e_c7e1_11eb_a50b_0242ac1c0002row3_col3,#T_e202f03e_c7e1_11eb_a50b_0242ac1c0002row4_col4,#T_e202f03e_c7e1_11eb_a50b_0242ac1c0002row5_col5,#T_e202f03e_c7e1_11eb_a50b_0242ac1c0002row6_col6,#T_e202f03e_c7e1_11eb_a50b_0242ac1c0002row7_col7,#T_e202f03e_c7e1_11eb_a50b_0242ac1c0002row8_col8,#T_e202f03e_c7e1_11eb_a50b_0242ac1c0002row9_col9,#T_e202f03e_c7e1_11eb_a50b_0242ac1c0002row10_col10,#T_e202f03e_c7e1_11eb_a50b_0242ac1c0002row11_col11,#T_e202f03e_c7e1_11eb_a50b_0242ac1c0002row12_col12{\n",
              "            background-color:  #fff5eb;\n",
              "            color:  #000000;\n",
              "        }#T_e202f03e_c7e1_11eb_a50b_0242ac1c0002row0_col1,#T_e202f03e_c7e1_11eb_a50b_0242ac1c0002row0_col2,#T_e202f03e_c7e1_11eb_a50b_0242ac1c0002row0_col5,#T_e202f03e_c7e1_11eb_a50b_0242ac1c0002row0_col7,#T_e202f03e_c7e1_11eb_a50b_0242ac1c0002row0_col11,#T_e202f03e_c7e1_11eb_a50b_0242ac1c0002row0_col12,#T_e202f03e_c7e1_11eb_a50b_0242ac1c0002row1_col0,#T_e202f03e_c7e1_11eb_a50b_0242ac1c0002row2_col0,#T_e202f03e_c7e1_11eb_a50b_0242ac1c0002row2_col5,#T_e202f03e_c7e1_11eb_a50b_0242ac1c0002row2_col11,#T_e202f03e_c7e1_11eb_a50b_0242ac1c0002row3_col5,#T_e202f03e_c7e1_11eb_a50b_0242ac1c0002row3_col6,#T_e202f03e_c7e1_11eb_a50b_0242ac1c0002row5_col0,#T_e202f03e_c7e1_11eb_a50b_0242ac1c0002row5_col2,#T_e202f03e_c7e1_11eb_a50b_0242ac1c0002row5_col3,#T_e202f03e_c7e1_11eb_a50b_0242ac1c0002row6_col3,#T_e202f03e_c7e1_11eb_a50b_0242ac1c0002row6_col9,#T_e202f03e_c7e1_11eb_a50b_0242ac1c0002row6_col11,#T_e202f03e_c7e1_11eb_a50b_0242ac1c0002row7_col0,#T_e202f03e_c7e1_11eb_a50b_0242ac1c0002row9_col6,#T_e202f03e_c7e1_11eb_a50b_0242ac1c0002row11_col0,#T_e202f03e_c7e1_11eb_a50b_0242ac1c0002row11_col2,#T_e202f03e_c7e1_11eb_a50b_0242ac1c0002row11_col6,#T_e202f03e_c7e1_11eb_a50b_0242ac1c0002row12_col0{\n",
              "            background-color:  #973003;\n",
              "            color:  #f1f1f1;\n",
              "        }#T_e202f03e_c7e1_11eb_a50b_0242ac1c0002row0_col3,#T_e202f03e_c7e1_11eb_a50b_0242ac1c0002row0_col4,#T_e202f03e_c7e1_11eb_a50b_0242ac1c0002row0_col6,#T_e202f03e_c7e1_11eb_a50b_0242ac1c0002row0_col9,#T_e202f03e_c7e1_11eb_a50b_0242ac1c0002row3_col0,#T_e202f03e_c7e1_11eb_a50b_0242ac1c0002row4_col0,#T_e202f03e_c7e1_11eb_a50b_0242ac1c0002row6_col0,#T_e202f03e_c7e1_11eb_a50b_0242ac1c0002row8_col9,#T_e202f03e_c7e1_11eb_a50b_0242ac1c0002row9_col0,#T_e202f03e_c7e1_11eb_a50b_0242ac1c0002row9_col8{\n",
              "            background-color:  #952f03;\n",
              "            color:  #f1f1f1;\n",
              "        }#T_e202f03e_c7e1_11eb_a50b_0242ac1c0002row0_col8,#T_e202f03e_c7e1_11eb_a50b_0242ac1c0002row0_col10,#T_e202f03e_c7e1_11eb_a50b_0242ac1c0002row5_col9,#T_e202f03e_c7e1_11eb_a50b_0242ac1c0002row5_col10,#T_e202f03e_c7e1_11eb_a50b_0242ac1c0002row5_col11,#T_e202f03e_c7e1_11eb_a50b_0242ac1c0002row8_col0,#T_e202f03e_c7e1_11eb_a50b_0242ac1c0002row9_col5,#T_e202f03e_c7e1_11eb_a50b_0242ac1c0002row10_col0,#T_e202f03e_c7e1_11eb_a50b_0242ac1c0002row10_col5,#T_e202f03e_c7e1_11eb_a50b_0242ac1c0002row11_col5{\n",
              "            background-color:  #963003;\n",
              "            color:  #f1f1f1;\n",
              "        }#T_e202f03e_c7e1_11eb_a50b_0242ac1c0002row1_col2,#T_e202f03e_c7e1_11eb_a50b_0242ac1c0002row2_col1{\n",
              "            background-color:  #8f2d04;\n",
              "            color:  #f1f1f1;\n",
              "        }#T_e202f03e_c7e1_11eb_a50b_0242ac1c0002row1_col3,#T_e202f03e_c7e1_11eb_a50b_0242ac1c0002row3_col1{\n",
              "            background-color:  #7f2704;\n",
              "            color:  #f1f1f1;\n",
              "        }#T_e202f03e_c7e1_11eb_a50b_0242ac1c0002row1_col4,#T_e202f03e_c7e1_11eb_a50b_0242ac1c0002row4_col1,#T_e202f03e_c7e1_11eb_a50b_0242ac1c0002row5_col12,#T_e202f03e_c7e1_11eb_a50b_0242ac1c0002row12_col5{\n",
              "            background-color:  #a63603;\n",
              "            color:  #f1f1f1;\n",
              "        }#T_e202f03e_c7e1_11eb_a50b_0242ac1c0002row1_col5,#T_e202f03e_c7e1_11eb_a50b_0242ac1c0002row5_col1,#T_e202f03e_c7e1_11eb_a50b_0242ac1c0002row5_col7,#T_e202f03e_c7e1_11eb_a50b_0242ac1c0002row6_col7,#T_e202f03e_c7e1_11eb_a50b_0242ac1c0002row7_col5,#T_e202f03e_c7e1_11eb_a50b_0242ac1c0002row7_col6{\n",
              "            background-color:  #9c3203;\n",
              "            color:  #f1f1f1;\n",
              "        }#T_e202f03e_c7e1_11eb_a50b_0242ac1c0002row1_col6,#T_e202f03e_c7e1_11eb_a50b_0242ac1c0002row5_col6,#T_e202f03e_c7e1_11eb_a50b_0242ac1c0002row6_col1,#T_e202f03e_c7e1_11eb_a50b_0242ac1c0002row6_col5{\n",
              "            background-color:  #9b3203;\n",
              "            color:  #f1f1f1;\n",
              "        }#T_e202f03e_c7e1_11eb_a50b_0242ac1c0002row1_col7,#T_e202f03e_c7e1_11eb_a50b_0242ac1c0002row7_col1{\n",
              "            background-color:  #cb4302;\n",
              "            color:  #f1f1f1;\n",
              "        }#T_e202f03e_c7e1_11eb_a50b_0242ac1c0002row1_col8,#T_e202f03e_c7e1_11eb_a50b_0242ac1c0002row8_col1{\n",
              "            background-color:  #b63c02;\n",
              "            color:  #f1f1f1;\n",
              "        }#T_e202f03e_c7e1_11eb_a50b_0242ac1c0002row1_col9,#T_e202f03e_c7e1_11eb_a50b_0242ac1c0002row9_col1{\n",
              "            background-color:  #892b04;\n",
              "            color:  #f1f1f1;\n",
              "        }#T_e202f03e_c7e1_11eb_a50b_0242ac1c0002row1_col10,#T_e202f03e_c7e1_11eb_a50b_0242ac1c0002row10_col1{\n",
              "            background-color:  #8e2d04;\n",
              "            color:  #f1f1f1;\n",
              "        }#T_e202f03e_c7e1_11eb_a50b_0242ac1c0002row1_col11,#T_e202f03e_c7e1_11eb_a50b_0242ac1c0002row3_col12,#T_e202f03e_c7e1_11eb_a50b_0242ac1c0002row11_col1,#T_e202f03e_c7e1_11eb_a50b_0242ac1c0002row12_col3{\n",
              "            background-color:  #932f03;\n",
              "            color:  #f1f1f1;\n",
              "        }#T_e202f03e_c7e1_11eb_a50b_0242ac1c0002row1_col12,#T_e202f03e_c7e1_11eb_a50b_0242ac1c0002row12_col1{\n",
              "            background-color:  #e15407;\n",
              "            color:  #000000;\n",
              "        }#T_e202f03e_c7e1_11eb_a50b_0242ac1c0002row2_col3,#T_e202f03e_c7e1_11eb_a50b_0242ac1c0002row3_col2{\n",
              "            background-color:  #fd974a;\n",
              "            color:  #000000;\n",
              "        }#T_e202f03e_c7e1_11eb_a50b_0242ac1c0002row2_col4,#T_e202f03e_c7e1_11eb_a50b_0242ac1c0002row4_col2{\n",
              "            background-color:  #cd4401;\n",
              "            color:  #f1f1f1;\n",
              "        }#T_e202f03e_c7e1_11eb_a50b_0242ac1c0002row2_col6,#T_e202f03e_c7e1_11eb_a50b_0242ac1c0002row5_col8,#T_e202f03e_c7e1_11eb_a50b_0242ac1c0002row6_col2,#T_e202f03e_c7e1_11eb_a50b_0242ac1c0002row8_col5{\n",
              "            background-color:  #9a3103;\n",
              "            color:  #f1f1f1;\n",
              "        }#T_e202f03e_c7e1_11eb_a50b_0242ac1c0002row2_col7,#T_e202f03e_c7e1_11eb_a50b_0242ac1c0002row7_col2,#T_e202f03e_c7e1_11eb_a50b_0242ac1c0002row11_col12,#T_e202f03e_c7e1_11eb_a50b_0242ac1c0002row12_col11{\n",
              "            background-color:  #8b2c04;\n",
              "            color:  #f1f1f1;\n",
              "        }#T_e202f03e_c7e1_11eb_a50b_0242ac1c0002row2_col8,#T_e202f03e_c7e1_11eb_a50b_0242ac1c0002row3_col8,#T_e202f03e_c7e1_11eb_a50b_0242ac1c0002row8_col2,#T_e202f03e_c7e1_11eb_a50b_0242ac1c0002row8_col3{\n",
              "            background-color:  #902e04;\n",
              "            color:  #f1f1f1;\n",
              "        }#T_e202f03e_c7e1_11eb_a50b_0242ac1c0002row2_col9,#T_e202f03e_c7e1_11eb_a50b_0242ac1c0002row9_col2,#T_e202f03e_c7e1_11eb_a50b_0242ac1c0002row9_col10,#T_e202f03e_c7e1_11eb_a50b_0242ac1c0002row10_col9{\n",
              "            background-color:  #f26d17;\n",
              "            color:  #000000;\n",
              "        }#T_e202f03e_c7e1_11eb_a50b_0242ac1c0002row2_col10,#T_e202f03e_c7e1_11eb_a50b_0242ac1c0002row10_col2{\n",
              "            background-color:  #d14501;\n",
              "            color:  #f1f1f1;\n",
              "        }#T_e202f03e_c7e1_11eb_a50b_0242ac1c0002row2_col12,#T_e202f03e_c7e1_11eb_a50b_0242ac1c0002row6_col8,#T_e202f03e_c7e1_11eb_a50b_0242ac1c0002row6_col10,#T_e202f03e_c7e1_11eb_a50b_0242ac1c0002row7_col9,#T_e202f03e_c7e1_11eb_a50b_0242ac1c0002row7_col11,#T_e202f03e_c7e1_11eb_a50b_0242ac1c0002row8_col6,#T_e202f03e_c7e1_11eb_a50b_0242ac1c0002row8_col10,#T_e202f03e_c7e1_11eb_a50b_0242ac1c0002row9_col7,#T_e202f03e_c7e1_11eb_a50b_0242ac1c0002row10_col6,#T_e202f03e_c7e1_11eb_a50b_0242ac1c0002row10_col8,#T_e202f03e_c7e1_11eb_a50b_0242ac1c0002row11_col7,#T_e202f03e_c7e1_11eb_a50b_0242ac1c0002row12_col2{\n",
              "            background-color:  #993103;\n",
              "            color:  #f1f1f1;\n",
              "        }#T_e202f03e_c7e1_11eb_a50b_0242ac1c0002row3_col4,#T_e202f03e_c7e1_11eb_a50b_0242ac1c0002row4_col3{\n",
              "            background-color:  #eb610f;\n",
              "            color:  #000000;\n",
              "        }#T_e202f03e_c7e1_11eb_a50b_0242ac1c0002row3_col7,#T_e202f03e_c7e1_11eb_a50b_0242ac1c0002row7_col3{\n",
              "            background-color:  #882a04;\n",
              "            color:  #f1f1f1;\n",
              "        }#T_e202f03e_c7e1_11eb_a50b_0242ac1c0002row3_col9,#T_e202f03e_c7e1_11eb_a50b_0242ac1c0002row9_col3{\n",
              "            background-color:  #d84801;\n",
              "            color:  #f1f1f1;\n",
              "        }#T_e202f03e_c7e1_11eb_a50b_0242ac1c0002row3_col10,#T_e202f03e_c7e1_11eb_a50b_0242ac1c0002row10_col3{\n",
              "            background-color:  #b53b02;\n",
              "            color:  #f1f1f1;\n",
              "        }#T_e202f03e_c7e1_11eb_a50b_0242ac1c0002row3_col11,#T_e202f03e_c7e1_11eb_a50b_0242ac1c0002row8_col11,#T_e202f03e_c7e1_11eb_a50b_0242ac1c0002row10_col12,#T_e202f03e_c7e1_11eb_a50b_0242ac1c0002row11_col3,#T_e202f03e_c7e1_11eb_a50b_0242ac1c0002row11_col8,#T_e202f03e_c7e1_11eb_a50b_0242ac1c0002row12_col10{\n",
              "            background-color:  #942f03;\n",
              "            color:  #f1f1f1;\n",
              "        }#T_e202f03e_c7e1_11eb_a50b_0242ac1c0002row4_col5,#T_e202f03e_c7e1_11eb_a50b_0242ac1c0002row5_col4{\n",
              "            background-color:  #9f3303;\n",
              "            color:  #f1f1f1;\n",
              "        }#T_e202f03e_c7e1_11eb_a50b_0242ac1c0002row4_col6,#T_e202f03e_c7e1_11eb_a50b_0242ac1c0002row6_col4{\n",
              "            background-color:  #a23503;\n",
              "            color:  #f1f1f1;\n",
              "        }#T_e202f03e_c7e1_11eb_a50b_0242ac1c0002row4_col7,#T_e202f03e_c7e1_11eb_a50b_0242ac1c0002row7_col4{\n",
              "            background-color:  #c64102;\n",
              "            color:  #f1f1f1;\n",
              "        }#T_e202f03e_c7e1_11eb_a50b_0242ac1c0002row4_col8,#T_e202f03e_c7e1_11eb_a50b_0242ac1c0002row8_col4{\n",
              "            background-color:  #b93d02;\n",
              "            color:  #f1f1f1;\n",
              "        }#T_e202f03e_c7e1_11eb_a50b_0242ac1c0002row4_col9,#T_e202f03e_c7e1_11eb_a50b_0242ac1c0002row4_col10,#T_e202f03e_c7e1_11eb_a50b_0242ac1c0002row9_col4,#T_e202f03e_c7e1_11eb_a50b_0242ac1c0002row10_col4{\n",
              "            background-color:  #ab3803;\n",
              "            color:  #f1f1f1;\n",
              "        }#T_e202f03e_c7e1_11eb_a50b_0242ac1c0002row4_col11,#T_e202f03e_c7e1_11eb_a50b_0242ac1c0002row9_col12,#T_e202f03e_c7e1_11eb_a50b_0242ac1c0002row11_col4,#T_e202f03e_c7e1_11eb_a50b_0242ac1c0002row12_col9{\n",
              "            background-color:  #912e04;\n",
              "            color:  #f1f1f1;\n",
              "        }#T_e202f03e_c7e1_11eb_a50b_0242ac1c0002row4_col12,#T_e202f03e_c7e1_11eb_a50b_0242ac1c0002row12_col4{\n",
              "            background-color:  #d64701;\n",
              "            color:  #f1f1f1;\n",
              "        }#T_e202f03e_c7e1_11eb_a50b_0242ac1c0002row6_col12,#T_e202f03e_c7e1_11eb_a50b_0242ac1c0002row12_col6{\n",
              "            background-color:  #a93703;\n",
              "            color:  #f1f1f1;\n",
              "        }#T_e202f03e_c7e1_11eb_a50b_0242ac1c0002row7_col8,#T_e202f03e_c7e1_11eb_a50b_0242ac1c0002row8_col7{\n",
              "            background-color:  #fc8b3a;\n",
              "            color:  #000000;\n",
              "        }#T_e202f03e_c7e1_11eb_a50b_0242ac1c0002row7_col10,#T_e202f03e_c7e1_11eb_a50b_0242ac1c0002row10_col7{\n",
              "            background-color:  #a03403;\n",
              "            color:  #f1f1f1;\n",
              "        }#T_e202f03e_c7e1_11eb_a50b_0242ac1c0002row7_col12,#T_e202f03e_c7e1_11eb_a50b_0242ac1c0002row12_col7{\n",
              "            background-color:  #de5005;\n",
              "            color:  #f1f1f1;\n",
              "        }#T_e202f03e_c7e1_11eb_a50b_0242ac1c0002row8_col12,#T_e202f03e_c7e1_11eb_a50b_0242ac1c0002row12_col8{\n",
              "            background-color:  #b33b02;\n",
              "            color:  #f1f1f1;\n",
              "        }#T_e202f03e_c7e1_11eb_a50b_0242ac1c0002row9_col11,#T_e202f03e_c7e1_11eb_a50b_0242ac1c0002row10_col11,#T_e202f03e_c7e1_11eb_a50b_0242ac1c0002row11_col9,#T_e202f03e_c7e1_11eb_a50b_0242ac1c0002row11_col10{\n",
              "            background-color:  #9e3303;\n",
              "            color:  #f1f1f1;\n",
              "        }</style><table id=\"T_e202f03e_c7e1_11eb_a50b_0242ac1c0002\" ><thead>    <tr>        <th class=\"blank level0\" ></th>        <th class=\"col_heading level0 col0\" >id</th>        <th class=\"col_heading level0 col1\" >age</th>        <th class=\"col_heading level0 col2\" >gender</th>        <th class=\"col_heading level0 col3\" >height</th>        <th class=\"col_heading level0 col4\" >weight</th>        <th class=\"col_heading level0 col5\" >ap_hi</th>        <th class=\"col_heading level0 col6\" >ap_lo</th>        <th class=\"col_heading level0 col7\" >cholesterol</th>        <th class=\"col_heading level0 col8\" >gluc</th>        <th class=\"col_heading level0 col9\" >smoke</th>        <th class=\"col_heading level0 col10\" >alco</th>        <th class=\"col_heading level0 col11\" >active</th>        <th class=\"col_heading level0 col12\" >cardio</th>    </tr></thead><tbody>\n",
              "                <tr>\n",
              "                        <th id=\"T_e202f03e_c7e1_11eb_a50b_0242ac1c0002level0_row0\" class=\"row_heading level0 row0\" >id</th>\n",
              "                        <td id=\"T_e202f03e_c7e1_11eb_a50b_0242ac1c0002row0_col0\" class=\"data row0 col0\" >1.000000</td>\n",
              "                        <td id=\"T_e202f03e_c7e1_11eb_a50b_0242ac1c0002row0_col1\" class=\"data row0 col1\" >0.003457</td>\n",
              "                        <td id=\"T_e202f03e_c7e1_11eb_a50b_0242ac1c0002row0_col2\" class=\"data row0 col2\" >0.003502</td>\n",
              "                        <td id=\"T_e202f03e_c7e1_11eb_a50b_0242ac1c0002row0_col3\" class=\"data row0 col3\" >-0.003038</td>\n",
              "                        <td id=\"T_e202f03e_c7e1_11eb_a50b_0242ac1c0002row0_col4\" class=\"data row0 col4\" >-0.001830</td>\n",
              "                        <td id=\"T_e202f03e_c7e1_11eb_a50b_0242ac1c0002row0_col5\" class=\"data row0 col5\" >0.003356</td>\n",
              "                        <td id=\"T_e202f03e_c7e1_11eb_a50b_0242ac1c0002row0_col6\" class=\"data row0 col6\" >-0.002529</td>\n",
              "                        <td id=\"T_e202f03e_c7e1_11eb_a50b_0242ac1c0002row0_col7\" class=\"data row0 col7\" >0.006106</td>\n",
              "                        <td id=\"T_e202f03e_c7e1_11eb_a50b_0242ac1c0002row0_col8\" class=\"data row0 col8\" >0.002467</td>\n",
              "                        <td id=\"T_e202f03e_c7e1_11eb_a50b_0242ac1c0002row0_col9\" class=\"data row0 col9\" >-0.003699</td>\n",
              "                        <td id=\"T_e202f03e_c7e1_11eb_a50b_0242ac1c0002row0_col10\" class=\"data row0 col10\" >0.001210</td>\n",
              "                        <td id=\"T_e202f03e_c7e1_11eb_a50b_0242ac1c0002row0_col11\" class=\"data row0 col11\" >0.003755</td>\n",
              "                        <td id=\"T_e202f03e_c7e1_11eb_a50b_0242ac1c0002row0_col12\" class=\"data row0 col12\" >0.003799</td>\n",
              "            </tr>\n",
              "            <tr>\n",
              "                        <th id=\"T_e202f03e_c7e1_11eb_a50b_0242ac1c0002level0_row1\" class=\"row_heading level0 row1\" >age</th>\n",
              "                        <td id=\"T_e202f03e_c7e1_11eb_a50b_0242ac1c0002row1_col0\" class=\"data row1 col0\" >0.003457</td>\n",
              "                        <td id=\"T_e202f03e_c7e1_11eb_a50b_0242ac1c0002row1_col1\" class=\"data row1 col1\" >1.000000</td>\n",
              "                        <td id=\"T_e202f03e_c7e1_11eb_a50b_0242ac1c0002row1_col2\" class=\"data row1 col2\" >-0.022811</td>\n",
              "                        <td id=\"T_e202f03e_c7e1_11eb_a50b_0242ac1c0002row1_col3\" class=\"data row1 col3\" >-0.081515</td>\n",
              "                        <td id=\"T_e202f03e_c7e1_11eb_a50b_0242ac1c0002row1_col4\" class=\"data row1 col4\" >0.053684</td>\n",
              "                        <td id=\"T_e202f03e_c7e1_11eb_a50b_0242ac1c0002row1_col5\" class=\"data row1 col5\" >0.020764</td>\n",
              "                        <td id=\"T_e202f03e_c7e1_11eb_a50b_0242ac1c0002row1_col6\" class=\"data row1 col6\" >0.017647</td>\n",
              "                        <td id=\"T_e202f03e_c7e1_11eb_a50b_0242ac1c0002row1_col7\" class=\"data row1 col7\" >0.154424</td>\n",
              "                        <td id=\"T_e202f03e_c7e1_11eb_a50b_0242ac1c0002row1_col8\" class=\"data row1 col8\" >0.098703</td>\n",
              "                        <td id=\"T_e202f03e_c7e1_11eb_a50b_0242ac1c0002row1_col9\" class=\"data row1 col9\" >-0.047633</td>\n",
              "                        <td id=\"T_e202f03e_c7e1_11eb_a50b_0242ac1c0002row1_col10\" class=\"data row1 col10\" >-0.029723</td>\n",
              "                        <td id=\"T_e202f03e_c7e1_11eb_a50b_0242ac1c0002row1_col11\" class=\"data row1 col11\" >-0.009927</td>\n",
              "                        <td id=\"T_e202f03e_c7e1_11eb_a50b_0242ac1c0002row1_col12\" class=\"data row1 col12\" >0.238159</td>\n",
              "            </tr>\n",
              "            <tr>\n",
              "                        <th id=\"T_e202f03e_c7e1_11eb_a50b_0242ac1c0002level0_row2\" class=\"row_heading level0 row2\" >gender</th>\n",
              "                        <td id=\"T_e202f03e_c7e1_11eb_a50b_0242ac1c0002row2_col0\" class=\"data row2 col0\" >0.003502</td>\n",
              "                        <td id=\"T_e202f03e_c7e1_11eb_a50b_0242ac1c0002row2_col1\" class=\"data row2 col1\" >-0.022811</td>\n",
              "                        <td id=\"T_e202f03e_c7e1_11eb_a50b_0242ac1c0002row2_col2\" class=\"data row2 col2\" >1.000000</td>\n",
              "                        <td id=\"T_e202f03e_c7e1_11eb_a50b_0242ac1c0002row2_col3\" class=\"data row2 col3\" >0.499033</td>\n",
              "                        <td id=\"T_e202f03e_c7e1_11eb_a50b_0242ac1c0002row2_col4\" class=\"data row2 col4\" >0.155406</td>\n",
              "                        <td id=\"T_e202f03e_c7e1_11eb_a50b_0242ac1c0002row2_col5\" class=\"data row2 col5\" >0.006005</td>\n",
              "                        <td id=\"T_e202f03e_c7e1_11eb_a50b_0242ac1c0002row2_col6\" class=\"data row2 col6\" >0.015254</td>\n",
              "                        <td id=\"T_e202f03e_c7e1_11eb_a50b_0242ac1c0002row2_col7\" class=\"data row2 col7\" >-0.035821</td>\n",
              "                        <td id=\"T_e202f03e_c7e1_11eb_a50b_0242ac1c0002row2_col8\" class=\"data row2 col8\" >-0.020491</td>\n",
              "                        <td id=\"T_e202f03e_c7e1_11eb_a50b_0242ac1c0002row2_col9\" class=\"data row2 col9\" >0.338135</td>\n",
              "                        <td id=\"T_e202f03e_c7e1_11eb_a50b_0242ac1c0002row2_col10\" class=\"data row2 col10\" >0.170966</td>\n",
              "                        <td id=\"T_e202f03e_c7e1_11eb_a50b_0242ac1c0002row2_col11\" class=\"data row2 col11\" >0.005866</td>\n",
              "                        <td id=\"T_e202f03e_c7e1_11eb_a50b_0242ac1c0002row2_col12\" class=\"data row2 col12\" >0.008109</td>\n",
              "            </tr>\n",
              "            <tr>\n",
              "                        <th id=\"T_e202f03e_c7e1_11eb_a50b_0242ac1c0002level0_row3\" class=\"row_heading level0 row3\" >height</th>\n",
              "                        <td id=\"T_e202f03e_c7e1_11eb_a50b_0242ac1c0002row3_col0\" class=\"data row3 col0\" >-0.003038</td>\n",
              "                        <td id=\"T_e202f03e_c7e1_11eb_a50b_0242ac1c0002row3_col1\" class=\"data row3 col1\" >-0.081515</td>\n",
              "                        <td id=\"T_e202f03e_c7e1_11eb_a50b_0242ac1c0002row3_col2\" class=\"data row3 col2\" >0.499033</td>\n",
              "                        <td id=\"T_e202f03e_c7e1_11eb_a50b_0242ac1c0002row3_col3\" class=\"data row3 col3\" >1.000000</td>\n",
              "                        <td id=\"T_e202f03e_c7e1_11eb_a50b_0242ac1c0002row3_col4\" class=\"data row3 col4\" >0.290968</td>\n",
              "                        <td id=\"T_e202f03e_c7e1_11eb_a50b_0242ac1c0002row3_col5\" class=\"data row3 col5\" >0.005488</td>\n",
              "                        <td id=\"T_e202f03e_c7e1_11eb_a50b_0242ac1c0002row3_col6\" class=\"data row3 col6\" >0.006150</td>\n",
              "                        <td id=\"T_e202f03e_c7e1_11eb_a50b_0242ac1c0002row3_col7\" class=\"data row3 col7\" >-0.050226</td>\n",
              "                        <td id=\"T_e202f03e_c7e1_11eb_a50b_0242ac1c0002row3_col8\" class=\"data row3 col8\" >-0.018595</td>\n",
              "                        <td id=\"T_e202f03e_c7e1_11eb_a50b_0242ac1c0002row3_col9\" class=\"data row3 col9\" >0.187989</td>\n",
              "                        <td id=\"T_e202f03e_c7e1_11eb_a50b_0242ac1c0002row3_col10\" class=\"data row3 col10\" >0.094419</td>\n",
              "                        <td id=\"T_e202f03e_c7e1_11eb_a50b_0242ac1c0002row3_col11\" class=\"data row3 col11\" >-0.006570</td>\n",
              "                        <td id=\"T_e202f03e_c7e1_11eb_a50b_0242ac1c0002row3_col12\" class=\"data row3 col12\" >-0.010821</td>\n",
              "            </tr>\n",
              "            <tr>\n",
              "                        <th id=\"T_e202f03e_c7e1_11eb_a50b_0242ac1c0002level0_row4\" class=\"row_heading level0 row4\" >weight</th>\n",
              "                        <td id=\"T_e202f03e_c7e1_11eb_a50b_0242ac1c0002row4_col0\" class=\"data row4 col0\" >-0.001830</td>\n",
              "                        <td id=\"T_e202f03e_c7e1_11eb_a50b_0242ac1c0002row4_col1\" class=\"data row4 col1\" >0.053684</td>\n",
              "                        <td id=\"T_e202f03e_c7e1_11eb_a50b_0242ac1c0002row4_col2\" class=\"data row4 col2\" >0.155406</td>\n",
              "                        <td id=\"T_e202f03e_c7e1_11eb_a50b_0242ac1c0002row4_col3\" class=\"data row4 col3\" >0.290968</td>\n",
              "                        <td id=\"T_e202f03e_c7e1_11eb_a50b_0242ac1c0002row4_col4\" class=\"data row4 col4\" >1.000000</td>\n",
              "                        <td id=\"T_e202f03e_c7e1_11eb_a50b_0242ac1c0002row4_col5\" class=\"data row4 col5\" >0.030702</td>\n",
              "                        <td id=\"T_e202f03e_c7e1_11eb_a50b_0242ac1c0002row4_col6\" class=\"data row4 col6\" >0.043710</td>\n",
              "                        <td id=\"T_e202f03e_c7e1_11eb_a50b_0242ac1c0002row4_col7\" class=\"data row4 col7\" >0.141768</td>\n",
              "                        <td id=\"T_e202f03e_c7e1_11eb_a50b_0242ac1c0002row4_col8\" class=\"data row4 col8\" >0.106857</td>\n",
              "                        <td id=\"T_e202f03e_c7e1_11eb_a50b_0242ac1c0002row4_col9\" class=\"data row4 col9\" >0.067780</td>\n",
              "                        <td id=\"T_e202f03e_c7e1_11eb_a50b_0242ac1c0002row4_col10\" class=\"data row4 col10\" >0.067113</td>\n",
              "                        <td id=\"T_e202f03e_c7e1_11eb_a50b_0242ac1c0002row4_col11\" class=\"data row4 col11\" >-0.016867</td>\n",
              "                        <td id=\"T_e202f03e_c7e1_11eb_a50b_0242ac1c0002row4_col12\" class=\"data row4 col12\" >0.181660</td>\n",
              "            </tr>\n",
              "            <tr>\n",
              "                        <th id=\"T_e202f03e_c7e1_11eb_a50b_0242ac1c0002level0_row5\" class=\"row_heading level0 row5\" >ap_hi</th>\n",
              "                        <td id=\"T_e202f03e_c7e1_11eb_a50b_0242ac1c0002row5_col0\" class=\"data row5 col0\" >0.003356</td>\n",
              "                        <td id=\"T_e202f03e_c7e1_11eb_a50b_0242ac1c0002row5_col1\" class=\"data row5 col1\" >0.020764</td>\n",
              "                        <td id=\"T_e202f03e_c7e1_11eb_a50b_0242ac1c0002row5_col2\" class=\"data row5 col2\" >0.006005</td>\n",
              "                        <td id=\"T_e202f03e_c7e1_11eb_a50b_0242ac1c0002row5_col3\" class=\"data row5 col3\" >0.005488</td>\n",
              "                        <td id=\"T_e202f03e_c7e1_11eb_a50b_0242ac1c0002row5_col4\" class=\"data row5 col4\" >0.030702</td>\n",
              "                        <td id=\"T_e202f03e_c7e1_11eb_a50b_0242ac1c0002row5_col5\" class=\"data row5 col5\" >1.000000</td>\n",
              "                        <td id=\"T_e202f03e_c7e1_11eb_a50b_0242ac1c0002row5_col6\" class=\"data row5 col6\" >0.016086</td>\n",
              "                        <td id=\"T_e202f03e_c7e1_11eb_a50b_0242ac1c0002row5_col7\" class=\"data row5 col7\" >0.023778</td>\n",
              "                        <td id=\"T_e202f03e_c7e1_11eb_a50b_0242ac1c0002row5_col8\" class=\"data row5 col8\" >0.011841</td>\n",
              "                        <td id=\"T_e202f03e_c7e1_11eb_a50b_0242ac1c0002row5_col9\" class=\"data row5 col9\" >-0.000922</td>\n",
              "                        <td id=\"T_e202f03e_c7e1_11eb_a50b_0242ac1c0002row5_col10\" class=\"data row5 col10\" >0.001408</td>\n",
              "                        <td id=\"T_e202f03e_c7e1_11eb_a50b_0242ac1c0002row5_col11\" class=\"data row5 col11\" >-0.000033</td>\n",
              "                        <td id=\"T_e202f03e_c7e1_11eb_a50b_0242ac1c0002row5_col12\" class=\"data row5 col12\" >0.054475</td>\n",
              "            </tr>\n",
              "            <tr>\n",
              "                        <th id=\"T_e202f03e_c7e1_11eb_a50b_0242ac1c0002level0_row6\" class=\"row_heading level0 row6\" >ap_lo</th>\n",
              "                        <td id=\"T_e202f03e_c7e1_11eb_a50b_0242ac1c0002row6_col0\" class=\"data row6 col0\" >-0.002529</td>\n",
              "                        <td id=\"T_e202f03e_c7e1_11eb_a50b_0242ac1c0002row6_col1\" class=\"data row6 col1\" >0.017647</td>\n",
              "                        <td id=\"T_e202f03e_c7e1_11eb_a50b_0242ac1c0002row6_col2\" class=\"data row6 col2\" >0.015254</td>\n",
              "                        <td id=\"T_e202f03e_c7e1_11eb_a50b_0242ac1c0002row6_col3\" class=\"data row6 col3\" >0.006150</td>\n",
              "                        <td id=\"T_e202f03e_c7e1_11eb_a50b_0242ac1c0002row6_col4\" class=\"data row6 col4\" >0.043710</td>\n",
              "                        <td id=\"T_e202f03e_c7e1_11eb_a50b_0242ac1c0002row6_col5\" class=\"data row6 col5\" >0.016086</td>\n",
              "                        <td id=\"T_e202f03e_c7e1_11eb_a50b_0242ac1c0002row6_col6\" class=\"data row6 col6\" >1.000000</td>\n",
              "                        <td id=\"T_e202f03e_c7e1_11eb_a50b_0242ac1c0002row6_col7\" class=\"data row6 col7\" >0.024019</td>\n",
              "                        <td id=\"T_e202f03e_c7e1_11eb_a50b_0242ac1c0002row6_col8\" class=\"data row6 col8\" >0.010806</td>\n",
              "                        <td id=\"T_e202f03e_c7e1_11eb_a50b_0242ac1c0002row6_col9\" class=\"data row6 col9\" >0.005186</td>\n",
              "                        <td id=\"T_e202f03e_c7e1_11eb_a50b_0242ac1c0002row6_col10\" class=\"data row6 col10\" >0.010601</td>\n",
              "                        <td id=\"T_e202f03e_c7e1_11eb_a50b_0242ac1c0002row6_col11\" class=\"data row6 col11\" >0.004780</td>\n",
              "                        <td id=\"T_e202f03e_c7e1_11eb_a50b_0242ac1c0002row6_col12\" class=\"data row6 col12\" >0.065719</td>\n",
              "            </tr>\n",
              "            <tr>\n",
              "                        <th id=\"T_e202f03e_c7e1_11eb_a50b_0242ac1c0002level0_row7\" class=\"row_heading level0 row7\" >cholesterol</th>\n",
              "                        <td id=\"T_e202f03e_c7e1_11eb_a50b_0242ac1c0002row7_col0\" class=\"data row7 col0\" >0.006106</td>\n",
              "                        <td id=\"T_e202f03e_c7e1_11eb_a50b_0242ac1c0002row7_col1\" class=\"data row7 col1\" >0.154424</td>\n",
              "                        <td id=\"T_e202f03e_c7e1_11eb_a50b_0242ac1c0002row7_col2\" class=\"data row7 col2\" >-0.035821</td>\n",
              "                        <td id=\"T_e202f03e_c7e1_11eb_a50b_0242ac1c0002row7_col3\" class=\"data row7 col3\" >-0.050226</td>\n",
              "                        <td id=\"T_e202f03e_c7e1_11eb_a50b_0242ac1c0002row7_col4\" class=\"data row7 col4\" >0.141768</td>\n",
              "                        <td id=\"T_e202f03e_c7e1_11eb_a50b_0242ac1c0002row7_col5\" class=\"data row7 col5\" >0.023778</td>\n",
              "                        <td id=\"T_e202f03e_c7e1_11eb_a50b_0242ac1c0002row7_col6\" class=\"data row7 col6\" >0.024019</td>\n",
              "                        <td id=\"T_e202f03e_c7e1_11eb_a50b_0242ac1c0002row7_col7\" class=\"data row7 col7\" >1.000000</td>\n",
              "                        <td id=\"T_e202f03e_c7e1_11eb_a50b_0242ac1c0002row7_col8\" class=\"data row7 col8\" >0.451578</td>\n",
              "                        <td id=\"T_e202f03e_c7e1_11eb_a50b_0242ac1c0002row7_col9\" class=\"data row7 col9\" >0.010354</td>\n",
              "                        <td id=\"T_e202f03e_c7e1_11eb_a50b_0242ac1c0002row7_col10\" class=\"data row7 col10\" >0.035760</td>\n",
              "                        <td id=\"T_e202f03e_c7e1_11eb_a50b_0242ac1c0002row7_col11\" class=\"data row7 col11\" >0.009911</td>\n",
              "                        <td id=\"T_e202f03e_c7e1_11eb_a50b_0242ac1c0002row7_col12\" class=\"data row7 col12\" >0.221147</td>\n",
              "            </tr>\n",
              "            <tr>\n",
              "                        <th id=\"T_e202f03e_c7e1_11eb_a50b_0242ac1c0002level0_row8\" class=\"row_heading level0 row8\" >gluc</th>\n",
              "                        <td id=\"T_e202f03e_c7e1_11eb_a50b_0242ac1c0002row8_col0\" class=\"data row8 col0\" >0.002467</td>\n",
              "                        <td id=\"T_e202f03e_c7e1_11eb_a50b_0242ac1c0002row8_col1\" class=\"data row8 col1\" >0.098703</td>\n",
              "                        <td id=\"T_e202f03e_c7e1_11eb_a50b_0242ac1c0002row8_col2\" class=\"data row8 col2\" >-0.020491</td>\n",
              "                        <td id=\"T_e202f03e_c7e1_11eb_a50b_0242ac1c0002row8_col3\" class=\"data row8 col3\" >-0.018595</td>\n",
              "                        <td id=\"T_e202f03e_c7e1_11eb_a50b_0242ac1c0002row8_col4\" class=\"data row8 col4\" >0.106857</td>\n",
              "                        <td id=\"T_e202f03e_c7e1_11eb_a50b_0242ac1c0002row8_col5\" class=\"data row8 col5\" >0.011841</td>\n",
              "                        <td id=\"T_e202f03e_c7e1_11eb_a50b_0242ac1c0002row8_col6\" class=\"data row8 col6\" >0.010806</td>\n",
              "                        <td id=\"T_e202f03e_c7e1_11eb_a50b_0242ac1c0002row8_col7\" class=\"data row8 col7\" >0.451578</td>\n",
              "                        <td id=\"T_e202f03e_c7e1_11eb_a50b_0242ac1c0002row8_col8\" class=\"data row8 col8\" >1.000000</td>\n",
              "                        <td id=\"T_e202f03e_c7e1_11eb_a50b_0242ac1c0002row8_col9\" class=\"data row8 col9\" >-0.004756</td>\n",
              "                        <td id=\"T_e202f03e_c7e1_11eb_a50b_0242ac1c0002row8_col10\" class=\"data row8 col10\" >0.011246</td>\n",
              "                        <td id=\"T_e202f03e_c7e1_11eb_a50b_0242ac1c0002row8_col11\" class=\"data row8 col11\" >-0.006770</td>\n",
              "                        <td id=\"T_e202f03e_c7e1_11eb_a50b_0242ac1c0002row8_col12\" class=\"data row8 col12\" >0.089307</td>\n",
              "            </tr>\n",
              "            <tr>\n",
              "                        <th id=\"T_e202f03e_c7e1_11eb_a50b_0242ac1c0002level0_row9\" class=\"row_heading level0 row9\" >smoke</th>\n",
              "                        <td id=\"T_e202f03e_c7e1_11eb_a50b_0242ac1c0002row9_col0\" class=\"data row9 col0\" >-0.003699</td>\n",
              "                        <td id=\"T_e202f03e_c7e1_11eb_a50b_0242ac1c0002row9_col1\" class=\"data row9 col1\" >-0.047633</td>\n",
              "                        <td id=\"T_e202f03e_c7e1_11eb_a50b_0242ac1c0002row9_col2\" class=\"data row9 col2\" >0.338135</td>\n",
              "                        <td id=\"T_e202f03e_c7e1_11eb_a50b_0242ac1c0002row9_col3\" class=\"data row9 col3\" >0.187989</td>\n",
              "                        <td id=\"T_e202f03e_c7e1_11eb_a50b_0242ac1c0002row9_col4\" class=\"data row9 col4\" >0.067780</td>\n",
              "                        <td id=\"T_e202f03e_c7e1_11eb_a50b_0242ac1c0002row9_col5\" class=\"data row9 col5\" >-0.000922</td>\n",
              "                        <td id=\"T_e202f03e_c7e1_11eb_a50b_0242ac1c0002row9_col6\" class=\"data row9 col6\" >0.005186</td>\n",
              "                        <td id=\"T_e202f03e_c7e1_11eb_a50b_0242ac1c0002row9_col7\" class=\"data row9 col7\" >0.010354</td>\n",
              "                        <td id=\"T_e202f03e_c7e1_11eb_a50b_0242ac1c0002row9_col8\" class=\"data row9 col8\" >-0.004756</td>\n",
              "                        <td id=\"T_e202f03e_c7e1_11eb_a50b_0242ac1c0002row9_col9\" class=\"data row9 col9\" >1.000000</td>\n",
              "                        <td id=\"T_e202f03e_c7e1_11eb_a50b_0242ac1c0002row9_col10\" class=\"data row9 col10\" >0.340094</td>\n",
              "                        <td id=\"T_e202f03e_c7e1_11eb_a50b_0242ac1c0002row9_col11\" class=\"data row9 col11\" >0.025858</td>\n",
              "                        <td id=\"T_e202f03e_c7e1_11eb_a50b_0242ac1c0002row9_col12\" class=\"data row9 col12\" >-0.015486</td>\n",
              "            </tr>\n",
              "            <tr>\n",
              "                        <th id=\"T_e202f03e_c7e1_11eb_a50b_0242ac1c0002level0_row10\" class=\"row_heading level0 row10\" >alco</th>\n",
              "                        <td id=\"T_e202f03e_c7e1_11eb_a50b_0242ac1c0002row10_col0\" class=\"data row10 col0\" >0.001210</td>\n",
              "                        <td id=\"T_e202f03e_c7e1_11eb_a50b_0242ac1c0002row10_col1\" class=\"data row10 col1\" >-0.029723</td>\n",
              "                        <td id=\"T_e202f03e_c7e1_11eb_a50b_0242ac1c0002row10_col2\" class=\"data row10 col2\" >0.170966</td>\n",
              "                        <td id=\"T_e202f03e_c7e1_11eb_a50b_0242ac1c0002row10_col3\" class=\"data row10 col3\" >0.094419</td>\n",
              "                        <td id=\"T_e202f03e_c7e1_11eb_a50b_0242ac1c0002row10_col4\" class=\"data row10 col4\" >0.067113</td>\n",
              "                        <td id=\"T_e202f03e_c7e1_11eb_a50b_0242ac1c0002row10_col5\" class=\"data row10 col5\" >0.001408</td>\n",
              "                        <td id=\"T_e202f03e_c7e1_11eb_a50b_0242ac1c0002row10_col6\" class=\"data row10 col6\" >0.010601</td>\n",
              "                        <td id=\"T_e202f03e_c7e1_11eb_a50b_0242ac1c0002row10_col7\" class=\"data row10 col7\" >0.035760</td>\n",
              "                        <td id=\"T_e202f03e_c7e1_11eb_a50b_0242ac1c0002row10_col8\" class=\"data row10 col8\" >0.011246</td>\n",
              "                        <td id=\"T_e202f03e_c7e1_11eb_a50b_0242ac1c0002row10_col9\" class=\"data row10 col9\" >0.340094</td>\n",
              "                        <td id=\"T_e202f03e_c7e1_11eb_a50b_0242ac1c0002row10_col10\" class=\"data row10 col10\" >1.000000</td>\n",
              "                        <td id=\"T_e202f03e_c7e1_11eb_a50b_0242ac1c0002row10_col11\" class=\"data row10 col11\" >0.025476</td>\n",
              "                        <td id=\"T_e202f03e_c7e1_11eb_a50b_0242ac1c0002row10_col12\" class=\"data row10 col12\" >-0.007330</td>\n",
              "            </tr>\n",
              "            <tr>\n",
              "                        <th id=\"T_e202f03e_c7e1_11eb_a50b_0242ac1c0002level0_row11\" class=\"row_heading level0 row11\" >active</th>\n",
              "                        <td id=\"T_e202f03e_c7e1_11eb_a50b_0242ac1c0002row11_col0\" class=\"data row11 col0\" >0.003755</td>\n",
              "                        <td id=\"T_e202f03e_c7e1_11eb_a50b_0242ac1c0002row11_col1\" class=\"data row11 col1\" >-0.009927</td>\n",
              "                        <td id=\"T_e202f03e_c7e1_11eb_a50b_0242ac1c0002row11_col2\" class=\"data row11 col2\" >0.005866</td>\n",
              "                        <td id=\"T_e202f03e_c7e1_11eb_a50b_0242ac1c0002row11_col3\" class=\"data row11 col3\" >-0.006570</td>\n",
              "                        <td id=\"T_e202f03e_c7e1_11eb_a50b_0242ac1c0002row11_col4\" class=\"data row11 col4\" >-0.016867</td>\n",
              "                        <td id=\"T_e202f03e_c7e1_11eb_a50b_0242ac1c0002row11_col5\" class=\"data row11 col5\" >-0.000033</td>\n",
              "                        <td id=\"T_e202f03e_c7e1_11eb_a50b_0242ac1c0002row11_col6\" class=\"data row11 col6\" >0.004780</td>\n",
              "                        <td id=\"T_e202f03e_c7e1_11eb_a50b_0242ac1c0002row11_col7\" class=\"data row11 col7\" >0.009911</td>\n",
              "                        <td id=\"T_e202f03e_c7e1_11eb_a50b_0242ac1c0002row11_col8\" class=\"data row11 col8\" >-0.006770</td>\n",
              "                        <td id=\"T_e202f03e_c7e1_11eb_a50b_0242ac1c0002row11_col9\" class=\"data row11 col9\" >0.025858</td>\n",
              "                        <td id=\"T_e202f03e_c7e1_11eb_a50b_0242ac1c0002row11_col10\" class=\"data row11 col10\" >0.025476</td>\n",
              "                        <td id=\"T_e202f03e_c7e1_11eb_a50b_0242ac1c0002row11_col11\" class=\"data row11 col11\" >1.000000</td>\n",
              "                        <td id=\"T_e202f03e_c7e1_11eb_a50b_0242ac1c0002row11_col12\" class=\"data row11 col12\" >-0.035653</td>\n",
              "            </tr>\n",
              "            <tr>\n",
              "                        <th id=\"T_e202f03e_c7e1_11eb_a50b_0242ac1c0002level0_row12\" class=\"row_heading level0 row12\" >cardio</th>\n",
              "                        <td id=\"T_e202f03e_c7e1_11eb_a50b_0242ac1c0002row12_col0\" class=\"data row12 col0\" >0.003799</td>\n",
              "                        <td id=\"T_e202f03e_c7e1_11eb_a50b_0242ac1c0002row12_col1\" class=\"data row12 col1\" >0.238159</td>\n",
              "                        <td id=\"T_e202f03e_c7e1_11eb_a50b_0242ac1c0002row12_col2\" class=\"data row12 col2\" >0.008109</td>\n",
              "                        <td id=\"T_e202f03e_c7e1_11eb_a50b_0242ac1c0002row12_col3\" class=\"data row12 col3\" >-0.010821</td>\n",
              "                        <td id=\"T_e202f03e_c7e1_11eb_a50b_0242ac1c0002row12_col4\" class=\"data row12 col4\" >0.181660</td>\n",
              "                        <td id=\"T_e202f03e_c7e1_11eb_a50b_0242ac1c0002row12_col5\" class=\"data row12 col5\" >0.054475</td>\n",
              "                        <td id=\"T_e202f03e_c7e1_11eb_a50b_0242ac1c0002row12_col6\" class=\"data row12 col6\" >0.065719</td>\n",
              "                        <td id=\"T_e202f03e_c7e1_11eb_a50b_0242ac1c0002row12_col7\" class=\"data row12 col7\" >0.221147</td>\n",
              "                        <td id=\"T_e202f03e_c7e1_11eb_a50b_0242ac1c0002row12_col8\" class=\"data row12 col8\" >0.089307</td>\n",
              "                        <td id=\"T_e202f03e_c7e1_11eb_a50b_0242ac1c0002row12_col9\" class=\"data row12 col9\" >-0.015486</td>\n",
              "                        <td id=\"T_e202f03e_c7e1_11eb_a50b_0242ac1c0002row12_col10\" class=\"data row12 col10\" >-0.007330</td>\n",
              "                        <td id=\"T_e202f03e_c7e1_11eb_a50b_0242ac1c0002row12_col11\" class=\"data row12 col11\" >-0.035653</td>\n",
              "                        <td id=\"T_e202f03e_c7e1_11eb_a50b_0242ac1c0002row12_col12\" class=\"data row12 col12\" >1.000000</td>\n",
              "            </tr>\n",
              "    </tbody></table>"
            ],
            "text/plain": [
              "<pandas.io.formats.style.Styler at 0x7f80cbc5d390>"
            ]
          },
          "metadata": {
            "tags": []
          },
          "execution_count": 72
        }
      ]
    },
    {
      "cell_type": "code",
      "metadata": {
        "id": "s7zTODSgquaK"
      },
      "source": [
        "main_data.hist(column=['age','weight','height'],bins=25, figsize=(15, 10), color='#FFCF56', edgecolor='black')"
      ],
      "execution_count": null,
      "outputs": []
    }
  ]
}