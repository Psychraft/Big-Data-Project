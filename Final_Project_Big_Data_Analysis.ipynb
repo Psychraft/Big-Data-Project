{
  "nbformat": 4,
  "nbformat_minor": 0,
  "metadata": {
    "colab": {
      "name": "Final Project Big Data Analysis.ipynb",
      "provenance": [],
      "toc_visible": true,
      "authorship_tag": "ABX9TyM55Rbbq9aoOXzv1e6eOUMS",
      "include_colab_link": true
    },
    "kernelspec": {
      "name": "python3",
      "display_name": "Python 3"
    },
    "language_info": {
      "name": "python"
    }
  },
  "cells": [
    {
      "cell_type": "markdown",
      "metadata": {
        "id": "view-in-github",
        "colab_type": "text"
      },
      "source": [
        "<a href=\"https://colab.research.google.com/github/Psychraft/Big-Data-Project/blob/main/Final_Project_Big_Data_Analysis.ipynb\" target=\"_parent\"><img src=\"https://colab.research.google.com/assets/colab-badge.svg\" alt=\"Open In Colab\"/></a>"
      ]
    },
    {
      "cell_type": "markdown",
      "metadata": {
        "id": "pMvDdiqhrTVa"
      },
      "source": [
        "Victor Oscar Bernal Alpizar\n",
        "Student ID 4156\n",
        "  \n",
        "Final Project Big Data Analysis\n",
        "\n",
        "                                      Professor: Piotr Radkowski \n"
      ]
    },
    {
      "cell_type": "code",
      "metadata": {
        "colab": {
          "resources": {
            "http://localhost:8080/nbextensions/google.colab/files.js": {
              "data": "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",
              "ok": true,
              "headers": [
                [
                  "content-type",
                  "application/javascript"
                ]
              ],
              "status": 200,
              "status_text": ""
            }
          },
          "base_uri": "https://localhost:8080/",
          "height": 89
        },
        "id": "4zsGYDpZmU6G",
        "outputId": "02247570-4945-4100-af50-2f3e63184351"
      },
      "source": [
        "from google.colab import files\n",
        "\n",
        "uploaded = files.upload()\n",
        "\n",
        "for fn in uploaded.keys():\n",
        "\n",
        "  print('User uploaded file \"{name}\" with length {length} bytes'.format(\n",
        "\n",
        "name=fn, length=len(uploaded[fn])))"
      ],
      "execution_count": 1,
      "outputs": [
        {
          "output_type": "display_data",
          "data": {
            "text/html": [
              "\n",
              "     <input type=\"file\" id=\"files-a5e387da-d5db-4560-b8b0-d25a1dca5410\" name=\"files[]\" multiple disabled\n",
              "        style=\"border:none\" />\n",
              "     <output id=\"result-a5e387da-d5db-4560-b8b0-d25a1dca5410\">\n",
              "      Upload widget is only available when the cell has been executed in the\n",
              "      current browser session. Please rerun this cell to enable.\n",
              "      </output>\n",
              "      <script src=\"/nbextensions/google.colab/files.js\"></script> "
            ],
            "text/plain": [
              "<IPython.core.display.HTML object>"
            ]
          },
          "metadata": {
            "tags": []
          }
        },
        {
          "output_type": "stream",
          "text": [
            "Saving cardio_train.csv to cardio_train.csv\n",
            "User uploaded file \"cardio_train.csv\" with length 2941524 bytes\n"
          ],
          "name": "stdout"
        }
      ]
    },
    {
      "cell_type": "markdown",
      "metadata": {
        "id": "gf0wqNwfcT13"
      },
      "source": [
        "# New Section"
      ]
    },
    {
      "cell_type": "code",
      "metadata": {
        "id": "R-sGTDNNm-ry"
      },
      "source": [
        "import pandas as pd #Data processing\n",
        "import numpy as np\n",
        "from scipy import stats\n",
        "\n",
        "# Data visualization  \n",
        "import matplotlib\n",
        "import matplotlib.pyplot as plt\n",
        "import seaborn as sns\n",
        "from sklearn.model_selection import train_test_split\n",
        "from sklearn.metrics import accuracy_score\n",
        "from sklearn import metrics\n",
        "from sklearn.neural_network import MLPRegressor\n",
        "from sklearn.metrics import classification_report\n",
        "from sklearn.metrics import confusion_matrix\n",
        "import os # accessing directory structure\n",
        "from mpl_toolkits.mplot3d import Axes3D\n",
        "from sklearn.preprocessing import StandardScaler\n",
        "import matplotlib.pyplot as plt # plotting\n",
        "import numpy as np # linear algebra\n",
        "\n"
      ],
      "execution_count": 4,
      "outputs": []
    },
    {
      "cell_type": "code",
      "metadata": {
        "id": "V4_kX0GBnMlB"
      },
      "source": [
        "#To read the dataset that was uploaded in colab \n",
        "Cardio_disease = pd.read_csv (r'/content/cardio_train.csv')"
      ],
      "execution_count": null,
      "outputs": []
    },
    {
      "cell_type": "code",
      "metadata": {
        "colab": {
          "base_uri": "https://localhost:8080/",
          "height": 419
        },
        "id": "iGedoKDG4SGv",
        "outputId": "4259bbe5-41c4-41e8-81b2-1dae02cebf06"
      },
      "source": [
        "Cardio_disease\n"
      ],
      "execution_count": null,
      "outputs": [
        {
          "output_type": "execute_result",
          "data": {
            "text/html": [
              "<div>\n",
              "<style scoped>\n",
              "    .dataframe tbody tr th:only-of-type {\n",
              "        vertical-align: middle;\n",
              "    }\n",
              "\n",
              "    .dataframe tbody tr th {\n",
              "        vertical-align: top;\n",
              "    }\n",
              "\n",
              "    .dataframe thead th {\n",
              "        text-align: right;\n",
              "    }\n",
              "</style>\n",
              "<table border=\"1\" class=\"dataframe\">\n",
              "  <thead>\n",
              "    <tr style=\"text-align: right;\">\n",
              "      <th></th>\n",
              "      <th>id;age;gender;height;weight;ap_hi;ap_lo;cholesterol;gluc;smoke;alco;active;cardio</th>\n",
              "    </tr>\n",
              "  </thead>\n",
              "  <tbody>\n",
              "    <tr>\n",
              "      <th>0</th>\n",
              "      <td>0;18393;2;168;62.0;110;80;1;1;0;0;1;0</td>\n",
              "    </tr>\n",
              "    <tr>\n",
              "      <th>1</th>\n",
              "      <td>1;20228;1;156;85.0;140;90;3;1;0;0;1;1</td>\n",
              "    </tr>\n",
              "    <tr>\n",
              "      <th>2</th>\n",
              "      <td>2;18857;1;165;64.0;130;70;3;1;0;0;0;1</td>\n",
              "    </tr>\n",
              "    <tr>\n",
              "      <th>3</th>\n",
              "      <td>3;17623;2;169;82.0;150;100;1;1;0;0;1;1</td>\n",
              "    </tr>\n",
              "    <tr>\n",
              "      <th>4</th>\n",
              "      <td>4;17474;1;156;56.0;100;60;1;1;0;0;0;0</td>\n",
              "    </tr>\n",
              "    <tr>\n",
              "      <th>...</th>\n",
              "      <td>...</td>\n",
              "    </tr>\n",
              "    <tr>\n",
              "      <th>69995</th>\n",
              "      <td>99993;19240;2;168;76.0;120;80;1;1;1;0;1;0</td>\n",
              "    </tr>\n",
              "    <tr>\n",
              "      <th>69996</th>\n",
              "      <td>99995;22601;1;158;126.0;140;90;2;2;0;0;1;1</td>\n",
              "    </tr>\n",
              "    <tr>\n",
              "      <th>69997</th>\n",
              "      <td>99996;19066;2;183;105.0;180;90;3;1;0;1;0;1</td>\n",
              "    </tr>\n",
              "    <tr>\n",
              "      <th>69998</th>\n",
              "      <td>99998;22431;1;163;72.0;135;80;1;2;0;0;0;1</td>\n",
              "    </tr>\n",
              "    <tr>\n",
              "      <th>69999</th>\n",
              "      <td>99999;20540;1;170;72.0;120;80;2;1;0;0;1;0</td>\n",
              "    </tr>\n",
              "  </tbody>\n",
              "</table>\n",
              "<p>70000 rows × 1 columns</p>\n",
              "</div>"
            ],
            "text/plain": [
              "      id;age;gender;height;weight;ap_hi;ap_lo;cholesterol;gluc;smoke;alco;active;cardio\n",
              "0                  0;18393;2;168;62.0;110;80;1;1;0;0;1;0                               \n",
              "1                  1;20228;1;156;85.0;140;90;3;1;0;0;1;1                               \n",
              "2                  2;18857;1;165;64.0;130;70;3;1;0;0;0;1                               \n",
              "3                 3;17623;2;169;82.0;150;100;1;1;0;0;1;1                               \n",
              "4                  4;17474;1;156;56.0;100;60;1;1;0;0;0;0                               \n",
              "...                                                  ...                               \n",
              "69995          99993;19240;2;168;76.0;120;80;1;1;1;0;1;0                               \n",
              "69996         99995;22601;1;158;126.0;140;90;2;2;0;0;1;1                               \n",
              "69997         99996;19066;2;183;105.0;180;90;3;1;0;1;0;1                               \n",
              "69998          99998;22431;1;163;72.0;135;80;1;2;0;0;0;1                               \n",
              "69999          99999;20540;1;170;72.0;120;80;2;1;0;0;1;0                               \n",
              "\n",
              "[70000 rows x 1 columns]"
            ]
          },
          "metadata": {
            "tags": []
          },
          "execution_count": 30
        }
      ]
    },
    {
      "cell_type": "markdown",
      "metadata": {
        "id": "SJC9K5DT8Z6i"
      },
      "source": [
        "First step to be done is the inspection of the files and to check if the data was neither corrupted nor damaged which I made sure this wont happen. Also considering the semicolon as the separator so that all observations can be readeable."
      ]
    },
    {
      "cell_type": "code",
      "metadata": {
        "id": "cuohFmdK4jbO"
      },
      "source": [
        "#Dataset needs to be delimited with semicolon\n",
        "Cardio_disease2 = pd.read_csv (r'/content/cardio_train.csv', delimiter=';')\n"
      ],
      "execution_count": 5,
      "outputs": []
    },
    {
      "cell_type": "code",
      "metadata": {
        "colab": {
          "base_uri": "https://localhost:8080/"
        },
        "id": "_UOpNZZR43JW",
        "outputId": "75e06ffa-1100-41b7-cb67-4bc50ee6e5af"
      },
      "source": [
        "print(Cardio_disease2)"
      ],
      "execution_count": null,
      "outputs": [
        {
          "output_type": "stream",
          "text": [
            "          id    age  gender  height  weight  ...  gluc  smoke  alco  active  cardio\n",
            "0          0  18393       2     168    62.0  ...     1      0     0       1       0\n",
            "1          1  20228       1     156    85.0  ...     1      0     0       1       1\n",
            "2          2  18857       1     165    64.0  ...     1      0     0       0       1\n",
            "3          3  17623       2     169    82.0  ...     1      0     0       1       1\n",
            "4          4  17474       1     156    56.0  ...     1      0     0       0       0\n",
            "...      ...    ...     ...     ...     ...  ...   ...    ...   ...     ...     ...\n",
            "69995  99993  19240       2     168    76.0  ...     1      1     0       1       0\n",
            "69996  99995  22601       1     158   126.0  ...     2      0     0       1       1\n",
            "69997  99996  19066       2     183   105.0  ...     1      0     1       0       1\n",
            "69998  99998  22431       1     163    72.0  ...     2      0     0       0       1\n",
            "69999  99999  20540       1     170    72.0  ...     1      0     0       1       0\n",
            "\n",
            "[70000 rows x 13 columns]\n"
          ],
          "name": "stdout"
        }
      ]
    },
    {
      "cell_type": "markdown",
      "metadata": {
        "id": "AvgKO1L972do"
      },
      "source": [
        "Cardiovascular Disease Dataset was used for this final project.\n",
        "This dataset is composed by 13 variables \n"
      ]
    },
    {
      "cell_type": "markdown",
      "metadata": {
        "id": "uW0stbZ2ATRI"
      },
      "source": [
        "#Data description\n",
        "There are 3 types of input features:\n",
        "\n",
        "Objective: factual information / this input is easy to measure because either you are male or female or you have age or not.\n",
        "\n",
        "Examination: results of medical examination / Tells us something that was measured in a process.\n",
        "\n",
        "Subjective: information given by the patient  /  All the data was collected in reports of patients.\n",
        "\n",
        "\n",
        "\n",
        "Variables are separated as follows:\n",
        "\n",
        "\n",
        "VARIABLE | INPUT FEATURES | NAME OF THE VARIABLE IN THE DATASET |  DATA TYPE | (UNIT OF MEASURE ONLY FOR AGE, HEIGHT AND WEIGHT) |  TYPE OF VARIABLE\n",
        "\n",
        "\n",
        "1. Patient ID | Subjective Feature | ID | int | Quantitative and discrete variable\n",
        "\n",
        "2. Age | Objective Feature | age | int | (days) | Quantitative and continuous variable\n",
        "\n",
        "3. Gender | Objective Feature | gender | categorical code | Dummy variable\n",
        "\n",
        "4. Height | Objective Feature | height | int | (cm) | Quantitative and continuous variable\n",
        "\n",
        "5. Weight | Objective Feature | weight | float | (kg) | Quantitative and continuous variable\n",
        "\n",
        "6. Systolic blood pressure | Examination Feature | ap_hi | int | Quantitative and continuous variable\n",
        "\n",
        "7. Diastolic blood pressure | Examination Feature | ap_lo | int | Quantitative and continuous variable\n",
        "\n",
        "8. Cholesterol | Examination Feature |  1: normal, 2: above normal, 3: well above normal | Categorical variable\n",
        "\n",
        "9. Glucose | Examination Feature | gluc | 1: normal, 2: above normal, 3: well above normal | Categorical variable\n",
        "\n",
        "10. Smoking | Subjective Feature | smoke | binary | Dummy variable\n",
        "\n",
        "11. Alcohol intake | Subjective Feature | alco | binary | Dummy variable\n",
        "\n",
        "12. Physical activity | Subjective Feature | active | binary | Dummy variable\n",
        "\n",
        "13. Presence or absence of cardiovascular disease | Target Variable | cardio | binary | Dummy variable\n",
        "\n",
        "All of the dataset values were collected at the moment of medical examination.\n",
        "\n",
        "It is important to highlight that for the dummy variables (smoke, alco, active and cardio -> 0 stands for 'NO' and 1 stands for 'YES'. Talking about the categorical variables ( cholesterol and gluc we only have 3 levels defined as follows: 1 -> normal, 2 -> above normal, 3 -> well above normal."
      ]
    },
    {
      "cell_type": "markdown",
      "metadata": {
        "id": "iNhiMwiPT-kM"
      },
      "source": [
        "# New Section"
      ]
    },
    {
      "cell_type": "code",
      "metadata": {
        "colab": {
          "base_uri": "https://localhost:8080/"
        },
        "id": "JIs6EVqPV7FM",
        "outputId": "3d2b2ebe-7123-4085-ed6e-d893d84da1cb"
      },
      "source": [
        "Cardio_disease2.info()"
      ],
      "execution_count": null,
      "outputs": [
        {
          "output_type": "stream",
          "text": [
            "<class 'pandas.core.frame.DataFrame'>\n",
            "RangeIndex: 70000 entries, 0 to 69999\n",
            "Data columns (total 13 columns):\n",
            " #   Column       Non-Null Count  Dtype  \n",
            "---  ------       --------------  -----  \n",
            " 0   id           70000 non-null  int64  \n",
            " 1   age          70000 non-null  int64  \n",
            " 2   gender       70000 non-null  int64  \n",
            " 3   height       70000 non-null  int64  \n",
            " 4   weight       70000 non-null  float64\n",
            " 5   ap_hi        70000 non-null  int64  \n",
            " 6   ap_lo        70000 non-null  int64  \n",
            " 7   cholesterol  70000 non-null  int64  \n",
            " 8   gluc         70000 non-null  int64  \n",
            " 9   smoke        70000 non-null  int64  \n",
            " 10  alco         70000 non-null  int64  \n",
            " 11  active       70000 non-null  int64  \n",
            " 12  cardio       70000 non-null  int64  \n",
            "dtypes: float64(1), int64(12)\n",
            "memory usage: 6.9 MB\n"
          ],
          "name": "stdout"
        }
      ]
    },
    {
      "cell_type": "code",
      "metadata": {
        "colab": {
          "base_uri": "https://localhost:8080/"
        },
        "id": "ev0g14MJX4zX",
        "outputId": "7b009442-85f8-4a92-a494-61d916c64eca"
      },
      "source": [
        "Cardio_disease2.columns"
      ],
      "execution_count": null,
      "outputs": [
        {
          "output_type": "execute_result",
          "data": {
            "text/plain": [
              "Index(['id', 'age', 'gender', 'height', 'weight', 'ap_hi', 'ap_lo',\n",
              "       'cholesterol', 'gluc', 'smoke', 'alco', 'active', 'cardio'],\n",
              "      dtype='object')"
            ]
          },
          "metadata": {
            "tags": []
          },
          "execution_count": 54
        }
      ]
    },
    {
      "cell_type": "code",
      "metadata": {
        "colab": {
          "base_uri": "https://localhost:8080/",
          "height": 317
        },
        "id": "8dO1hr5VVCyk",
        "outputId": "734db8d8-16e3-45fb-ab63-c45ec93a2018"
      },
      "source": [
        "Cardio_disease2.describe()"
      ],
      "execution_count": null,
      "outputs": [
        {
          "output_type": "execute_result",
          "data": {
            "text/html": [
              "<div>\n",
              "<style scoped>\n",
              "    .dataframe tbody tr th:only-of-type {\n",
              "        vertical-align: middle;\n",
              "    }\n",
              "\n",
              "    .dataframe tbody tr th {\n",
              "        vertical-align: top;\n",
              "    }\n",
              "\n",
              "    .dataframe thead th {\n",
              "        text-align: right;\n",
              "    }\n",
              "</style>\n",
              "<table border=\"1\" class=\"dataframe\">\n",
              "  <thead>\n",
              "    <tr style=\"text-align: right;\">\n",
              "      <th></th>\n",
              "      <th>id</th>\n",
              "      <th>age</th>\n",
              "      <th>gender</th>\n",
              "      <th>height</th>\n",
              "      <th>weight</th>\n",
              "      <th>ap_hi</th>\n",
              "      <th>ap_lo</th>\n",
              "      <th>cholesterol</th>\n",
              "      <th>gluc</th>\n",
              "      <th>smoke</th>\n",
              "      <th>alco</th>\n",
              "      <th>active</th>\n",
              "      <th>cardio</th>\n",
              "    </tr>\n",
              "  </thead>\n",
              "  <tbody>\n",
              "    <tr>\n",
              "      <th>count</th>\n",
              "      <td>70000.000000</td>\n",
              "      <td>70000.000000</td>\n",
              "      <td>70000.000000</td>\n",
              "      <td>70000.000000</td>\n",
              "      <td>70000.000000</td>\n",
              "      <td>70000.000000</td>\n",
              "      <td>70000.000000</td>\n",
              "      <td>70000.000000</td>\n",
              "      <td>70000.000000</td>\n",
              "      <td>70000.000000</td>\n",
              "      <td>70000.000000</td>\n",
              "      <td>70000.000000</td>\n",
              "      <td>70000.000000</td>\n",
              "    </tr>\n",
              "    <tr>\n",
              "      <th>mean</th>\n",
              "      <td>49972.419900</td>\n",
              "      <td>19468.865814</td>\n",
              "      <td>1.349571</td>\n",
              "      <td>164.359229</td>\n",
              "      <td>74.205690</td>\n",
              "      <td>128.817286</td>\n",
              "      <td>96.630414</td>\n",
              "      <td>1.366871</td>\n",
              "      <td>1.226457</td>\n",
              "      <td>0.088129</td>\n",
              "      <td>0.053771</td>\n",
              "      <td>0.803729</td>\n",
              "      <td>0.499700</td>\n",
              "    </tr>\n",
              "    <tr>\n",
              "      <th>std</th>\n",
              "      <td>28851.302323</td>\n",
              "      <td>2467.251667</td>\n",
              "      <td>0.476838</td>\n",
              "      <td>8.210126</td>\n",
              "      <td>14.395757</td>\n",
              "      <td>154.011419</td>\n",
              "      <td>188.472530</td>\n",
              "      <td>0.680250</td>\n",
              "      <td>0.572270</td>\n",
              "      <td>0.283484</td>\n",
              "      <td>0.225568</td>\n",
              "      <td>0.397179</td>\n",
              "      <td>0.500003</td>\n",
              "    </tr>\n",
              "    <tr>\n",
              "      <th>min</th>\n",
              "      <td>0.000000</td>\n",
              "      <td>10798.000000</td>\n",
              "      <td>1.000000</td>\n",
              "      <td>55.000000</td>\n",
              "      <td>10.000000</td>\n",
              "      <td>-150.000000</td>\n",
              "      <td>-70.000000</td>\n",
              "      <td>1.000000</td>\n",
              "      <td>1.000000</td>\n",
              "      <td>0.000000</td>\n",
              "      <td>0.000000</td>\n",
              "      <td>0.000000</td>\n",
              "      <td>0.000000</td>\n",
              "    </tr>\n",
              "    <tr>\n",
              "      <th>25%</th>\n",
              "      <td>25006.750000</td>\n",
              "      <td>17664.000000</td>\n",
              "      <td>1.000000</td>\n",
              "      <td>159.000000</td>\n",
              "      <td>65.000000</td>\n",
              "      <td>120.000000</td>\n",
              "      <td>80.000000</td>\n",
              "      <td>1.000000</td>\n",
              "      <td>1.000000</td>\n",
              "      <td>0.000000</td>\n",
              "      <td>0.000000</td>\n",
              "      <td>1.000000</td>\n",
              "      <td>0.000000</td>\n",
              "    </tr>\n",
              "    <tr>\n",
              "      <th>50%</th>\n",
              "      <td>50001.500000</td>\n",
              "      <td>19703.000000</td>\n",
              "      <td>1.000000</td>\n",
              "      <td>165.000000</td>\n",
              "      <td>72.000000</td>\n",
              "      <td>120.000000</td>\n",
              "      <td>80.000000</td>\n",
              "      <td>1.000000</td>\n",
              "      <td>1.000000</td>\n",
              "      <td>0.000000</td>\n",
              "      <td>0.000000</td>\n",
              "      <td>1.000000</td>\n",
              "      <td>0.000000</td>\n",
              "    </tr>\n",
              "    <tr>\n",
              "      <th>75%</th>\n",
              "      <td>74889.250000</td>\n",
              "      <td>21327.000000</td>\n",
              "      <td>2.000000</td>\n",
              "      <td>170.000000</td>\n",
              "      <td>82.000000</td>\n",
              "      <td>140.000000</td>\n",
              "      <td>90.000000</td>\n",
              "      <td>2.000000</td>\n",
              "      <td>1.000000</td>\n",
              "      <td>0.000000</td>\n",
              "      <td>0.000000</td>\n",
              "      <td>1.000000</td>\n",
              "      <td>1.000000</td>\n",
              "    </tr>\n",
              "    <tr>\n",
              "      <th>max</th>\n",
              "      <td>99999.000000</td>\n",
              "      <td>23713.000000</td>\n",
              "      <td>2.000000</td>\n",
              "      <td>250.000000</td>\n",
              "      <td>200.000000</td>\n",
              "      <td>16020.000000</td>\n",
              "      <td>11000.000000</td>\n",
              "      <td>3.000000</td>\n",
              "      <td>3.000000</td>\n",
              "      <td>1.000000</td>\n",
              "      <td>1.000000</td>\n",
              "      <td>1.000000</td>\n",
              "      <td>1.000000</td>\n",
              "    </tr>\n",
              "  </tbody>\n",
              "</table>\n",
              "</div>"
            ],
            "text/plain": [
              "                 id           age  ...        active        cardio\n",
              "count  70000.000000  70000.000000  ...  70000.000000  70000.000000\n",
              "mean   49972.419900  19468.865814  ...      0.803729      0.499700\n",
              "std    28851.302323   2467.251667  ...      0.397179      0.500003\n",
              "min        0.000000  10798.000000  ...      0.000000      0.000000\n",
              "25%    25006.750000  17664.000000  ...      1.000000      0.000000\n",
              "50%    50001.500000  19703.000000  ...      1.000000      0.000000\n",
              "75%    74889.250000  21327.000000  ...      1.000000      1.000000\n",
              "max    99999.000000  23713.000000  ...      1.000000      1.000000\n",
              "\n",
              "[8 rows x 13 columns]"
            ]
          },
          "metadata": {
            "tags": []
          },
          "execution_count": 44
        }
      ]
    },
    {
      "cell_type": "code",
      "metadata": {
        "colab": {
          "base_uri": "https://localhost:8080/",
          "height": 452
        },
        "id": "cWZDDfQ4Vemp",
        "outputId": "eeeab906-20e9-4b89-f9d8-af34aad848e8"
      },
      "source": [
        "Cardio_disease2.describe(include='all').T"
      ],
      "execution_count": null,
      "outputs": [
        {
          "output_type": "execute_result",
          "data": {
            "text/html": [
              "<div>\n",
              "<style scoped>\n",
              "    .dataframe tbody tr th:only-of-type {\n",
              "        vertical-align: middle;\n",
              "    }\n",
              "\n",
              "    .dataframe tbody tr th {\n",
              "        vertical-align: top;\n",
              "    }\n",
              "\n",
              "    .dataframe thead th {\n",
              "        text-align: right;\n",
              "    }\n",
              "</style>\n",
              "<table border=\"1\" class=\"dataframe\">\n",
              "  <thead>\n",
              "    <tr style=\"text-align: right;\">\n",
              "      <th></th>\n",
              "      <th>count</th>\n",
              "      <th>mean</th>\n",
              "      <th>std</th>\n",
              "      <th>min</th>\n",
              "      <th>25%</th>\n",
              "      <th>50%</th>\n",
              "      <th>75%</th>\n",
              "      <th>max</th>\n",
              "    </tr>\n",
              "  </thead>\n",
              "  <tbody>\n",
              "    <tr>\n",
              "      <th>id</th>\n",
              "      <td>70000.0</td>\n",
              "      <td>49972.419900</td>\n",
              "      <td>28851.302323</td>\n",
              "      <td>0.0</td>\n",
              "      <td>25006.75</td>\n",
              "      <td>50001.5</td>\n",
              "      <td>74889.25</td>\n",
              "      <td>99999.0</td>\n",
              "    </tr>\n",
              "    <tr>\n",
              "      <th>age</th>\n",
              "      <td>70000.0</td>\n",
              "      <td>19468.865814</td>\n",
              "      <td>2467.251667</td>\n",
              "      <td>10798.0</td>\n",
              "      <td>17664.00</td>\n",
              "      <td>19703.0</td>\n",
              "      <td>21327.00</td>\n",
              "      <td>23713.0</td>\n",
              "    </tr>\n",
              "    <tr>\n",
              "      <th>gender</th>\n",
              "      <td>70000.0</td>\n",
              "      <td>1.349571</td>\n",
              "      <td>0.476838</td>\n",
              "      <td>1.0</td>\n",
              "      <td>1.00</td>\n",
              "      <td>1.0</td>\n",
              "      <td>2.00</td>\n",
              "      <td>2.0</td>\n",
              "    </tr>\n",
              "    <tr>\n",
              "      <th>height</th>\n",
              "      <td>70000.0</td>\n",
              "      <td>164.359229</td>\n",
              "      <td>8.210126</td>\n",
              "      <td>55.0</td>\n",
              "      <td>159.00</td>\n",
              "      <td>165.0</td>\n",
              "      <td>170.00</td>\n",
              "      <td>250.0</td>\n",
              "    </tr>\n",
              "    <tr>\n",
              "      <th>weight</th>\n",
              "      <td>70000.0</td>\n",
              "      <td>74.205690</td>\n",
              "      <td>14.395757</td>\n",
              "      <td>10.0</td>\n",
              "      <td>65.00</td>\n",
              "      <td>72.0</td>\n",
              "      <td>82.00</td>\n",
              "      <td>200.0</td>\n",
              "    </tr>\n",
              "    <tr>\n",
              "      <th>ap_hi</th>\n",
              "      <td>70000.0</td>\n",
              "      <td>128.817286</td>\n",
              "      <td>154.011419</td>\n",
              "      <td>-150.0</td>\n",
              "      <td>120.00</td>\n",
              "      <td>120.0</td>\n",
              "      <td>140.00</td>\n",
              "      <td>16020.0</td>\n",
              "    </tr>\n",
              "    <tr>\n",
              "      <th>ap_lo</th>\n",
              "      <td>70000.0</td>\n",
              "      <td>96.630414</td>\n",
              "      <td>188.472530</td>\n",
              "      <td>-70.0</td>\n",
              "      <td>80.00</td>\n",
              "      <td>80.0</td>\n",
              "      <td>90.00</td>\n",
              "      <td>11000.0</td>\n",
              "    </tr>\n",
              "    <tr>\n",
              "      <th>cholesterol</th>\n",
              "      <td>70000.0</td>\n",
              "      <td>1.366871</td>\n",
              "      <td>0.680250</td>\n",
              "      <td>1.0</td>\n",
              "      <td>1.00</td>\n",
              "      <td>1.0</td>\n",
              "      <td>2.00</td>\n",
              "      <td>3.0</td>\n",
              "    </tr>\n",
              "    <tr>\n",
              "      <th>gluc</th>\n",
              "      <td>70000.0</td>\n",
              "      <td>1.226457</td>\n",
              "      <td>0.572270</td>\n",
              "      <td>1.0</td>\n",
              "      <td>1.00</td>\n",
              "      <td>1.0</td>\n",
              "      <td>1.00</td>\n",
              "      <td>3.0</td>\n",
              "    </tr>\n",
              "    <tr>\n",
              "      <th>smoke</th>\n",
              "      <td>70000.0</td>\n",
              "      <td>0.088129</td>\n",
              "      <td>0.283484</td>\n",
              "      <td>0.0</td>\n",
              "      <td>0.00</td>\n",
              "      <td>0.0</td>\n",
              "      <td>0.00</td>\n",
              "      <td>1.0</td>\n",
              "    </tr>\n",
              "    <tr>\n",
              "      <th>alco</th>\n",
              "      <td>70000.0</td>\n",
              "      <td>0.053771</td>\n",
              "      <td>0.225568</td>\n",
              "      <td>0.0</td>\n",
              "      <td>0.00</td>\n",
              "      <td>0.0</td>\n",
              "      <td>0.00</td>\n",
              "      <td>1.0</td>\n",
              "    </tr>\n",
              "    <tr>\n",
              "      <th>active</th>\n",
              "      <td>70000.0</td>\n",
              "      <td>0.803729</td>\n",
              "      <td>0.397179</td>\n",
              "      <td>0.0</td>\n",
              "      <td>1.00</td>\n",
              "      <td>1.0</td>\n",
              "      <td>1.00</td>\n",
              "      <td>1.0</td>\n",
              "    </tr>\n",
              "    <tr>\n",
              "      <th>cardio</th>\n",
              "      <td>70000.0</td>\n",
              "      <td>0.499700</td>\n",
              "      <td>0.500003</td>\n",
              "      <td>0.0</td>\n",
              "      <td>0.00</td>\n",
              "      <td>0.0</td>\n",
              "      <td>1.00</td>\n",
              "      <td>1.0</td>\n",
              "    </tr>\n",
              "  </tbody>\n",
              "</table>\n",
              "</div>"
            ],
            "text/plain": [
              "               count          mean           std  ...      50%       75%      max\n",
              "id           70000.0  49972.419900  28851.302323  ...  50001.5  74889.25  99999.0\n",
              "age          70000.0  19468.865814   2467.251667  ...  19703.0  21327.00  23713.0\n",
              "gender       70000.0      1.349571      0.476838  ...      1.0      2.00      2.0\n",
              "height       70000.0    164.359229      8.210126  ...    165.0    170.00    250.0\n",
              "weight       70000.0     74.205690     14.395757  ...     72.0     82.00    200.0\n",
              "ap_hi        70000.0    128.817286    154.011419  ...    120.0    140.00  16020.0\n",
              "ap_lo        70000.0     96.630414    188.472530  ...     80.0     90.00  11000.0\n",
              "cholesterol  70000.0      1.366871      0.680250  ...      1.0      2.00      3.0\n",
              "gluc         70000.0      1.226457      0.572270  ...      1.0      1.00      3.0\n",
              "smoke        70000.0      0.088129      0.283484  ...      0.0      0.00      1.0\n",
              "alco         70000.0      0.053771      0.225568  ...      0.0      0.00      1.0\n",
              "active       70000.0      0.803729      0.397179  ...      1.0      1.00      1.0\n",
              "cardio       70000.0      0.499700      0.500003  ...      0.0      1.00      1.0\n",
              "\n",
              "[13 rows x 8 columns]"
            ]
          },
          "metadata": {
            "tags": []
          },
          "execution_count": 50
        }
      ]
    },
    {
      "cell_type": "markdown",
      "metadata": {
        "id": "2EzqoLuekHeU"
      },
      "source": [
        "Looking at the data we can observed some descriptive statistics mean, max, min and dispertion of every single variable. But it is noticeable that some data must be transformed, such as age variable. Because it is expressed in days and  we need to standardize the data therefore it needs to be converted into years. Variables such as ID won't be taken into account. Considering the min and max values we can notice that outliers need to be removed for example: in the case of height there cannot be a person that is only 55 cm tall or the other way around 250 cm tall not even the tallest man in the world is that tall. For Weight some outliers as well do not have to be considered there cant be a person whose weight is 10 kg or even 200 kg. In the following picture we can see the ranges of the Systolic and Diastolic blood pressure. A normal value for Systolic is less than 120 and for Diastolic is 80 therefore negative values cannot be possible besides max values are even 16020 and 11000 accordingly therefore it is evident that some observations known as outliers need to be removed. \n",
        "\n",
        "# Cholesterol ranges can be found in the image below\n"
      ]
    },
    {
      "cell_type": "code",
      "metadata": {
        "colab": {
          "resources": {
            "http://localhost:8080/nbextensions/google.colab/files.js": {
              "data": "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",
              "ok": true,
              "headers": [
                [
                  "content-type",
                  "application/javascript"
                ]
              ],
              "status": 200,
              "status_text": ""
            }
          },
          "base_uri": "https://localhost:8080/",
          "height": 89
        },
        "id": "VZALpLIrmFyK",
        "outputId": "72f26a27-b7a7-4f24-e8f0-0527a8b086f1"
      },
      "source": [
        "from google.colab import files\n",
        "\n",
        "uploaded = files.upload()\n",
        "\n",
        "for fn in uploaded.keys():\n",
        "\n",
        "  print('User uploaded file \"{name}\" with length {length} bytes'.format(\n",
        "\n",
        "name=fn, length=len(uploaded[fn])))"
      ],
      "execution_count": null,
      "outputs": [
        {
          "output_type": "display_data",
          "data": {
            "text/html": [
              "\n",
              "     <input type=\"file\" id=\"files-90a6847a-eec2-4b3a-b1b2-539fdc8032a0\" name=\"files[]\" multiple disabled\n",
              "        style=\"border:none\" />\n",
              "     <output id=\"result-90a6847a-eec2-4b3a-b1b2-539fdc8032a0\">\n",
              "      Upload widget is only available when the cell has been executed in the\n",
              "      current browser session. Please rerun this cell to enable.\n",
              "      </output>\n",
              "      <script src=\"/nbextensions/google.colab/files.js\"></script> "
            ],
            "text/plain": [
              "<IPython.core.display.HTML object>"
            ]
          },
          "metadata": {
            "tags": []
          }
        },
        {
          "output_type": "stream",
          "text": [
            "Saving image1.png to image1.png\n",
            "User uploaded file \"image1.png\" with length 8938 bytes\n"
          ],
          "name": "stdout"
        }
      ]
    },
    {
      "cell_type": "code",
      "metadata": {
        "colab": {
          "base_uri": "https://localhost:8080/",
          "height": 252
        },
        "id": "_7wvNxCMmOQj",
        "outputId": "b344fccc-5b38-4901-ce7e-6082e879f039"
      },
      "source": [
        "import matplotlib.image as mpimg\n",
        "import matplotlib.pyplot as plt\n",
        "img = mpimg.imread('image1.png')\n",
        "plt.imshow(img)"
      ],
      "execution_count": null,
      "outputs": [
        {
          "output_type": "execute_result",
          "data": {
            "text/plain": [
              "<matplotlib.image.AxesImage at 0x7f7cced1f3d0>"
            ]
          },
          "metadata": {
            "tags": []
          },
          "execution_count": 67
        },
        {
          "output_type": "display_data",
          "data": {
            "image/png": "[encoded data removed]",
            "text/plain": [
              "<Figure size 432x288 with 1 Axes>"
            ]
          },
          "metadata": {
            "tags": [],
            "needs_background": "light"
          }
        }
      ]
    },
    {
      "cell_type": "code",
      "metadata": {
        "colab": {
          "base_uri": "https://localhost:8080/",
          "height": 204
        },
        "id": "rz6PJgivVoy7",
        "outputId": "f0d4873a-1c88-4722-fdbf-7121c2d4ad44"
      },
      "source": [
        "# Letw take a look about our data and how it looks like the first 4 rows\n",
        "Cardio_disease2.head()"
      ],
      "execution_count": null,
      "outputs": [
        {
          "output_type": "execute_result",
          "data": {
            "text/html": [
              "<div>\n",
              "<style scoped>\n",
              "    .dataframe tbody tr th:only-of-type {\n",
              "        vertical-align: middle;\n",
              "    }\n",
              "\n",
              "    .dataframe tbody tr th {\n",
              "        vertical-align: top;\n",
              "    }\n",
              "\n",
              "    .dataframe thead th {\n",
              "        text-align: right;\n",
              "    }\n",
              "</style>\n",
              "<table border=\"1\" class=\"dataframe\">\n",
              "  <thead>\n",
              "    <tr style=\"text-align: right;\">\n",
              "      <th></th>\n",
              "      <th>id</th>\n",
              "      <th>age</th>\n",
              "      <th>gender</th>\n",
              "      <th>height</th>\n",
              "      <th>weight</th>\n",
              "      <th>ap_hi</th>\n",
              "      <th>ap_lo</th>\n",
              "      <th>cholesterol</th>\n",
              "      <th>gluc</th>\n",
              "      <th>smoke</th>\n",
              "      <th>alco</th>\n",
              "      <th>active</th>\n",
              "      <th>cardio</th>\n",
              "    </tr>\n",
              "  </thead>\n",
              "  <tbody>\n",
              "    <tr>\n",
              "      <th>0</th>\n",
              "      <td>0</td>\n",
              "      <td>18393</td>\n",
              "      <td>2</td>\n",
              "      <td>168</td>\n",
              "      <td>62.0</td>\n",
              "      <td>110</td>\n",
              "      <td>80</td>\n",
              "      <td>1</td>\n",
              "      <td>1</td>\n",
              "      <td>0</td>\n",
              "      <td>0</td>\n",
              "      <td>1</td>\n",
              "      <td>0</td>\n",
              "    </tr>\n",
              "    <tr>\n",
              "      <th>1</th>\n",
              "      <td>1</td>\n",
              "      <td>20228</td>\n",
              "      <td>1</td>\n",
              "      <td>156</td>\n",
              "      <td>85.0</td>\n",
              "      <td>140</td>\n",
              "      <td>90</td>\n",
              "      <td>3</td>\n",
              "      <td>1</td>\n",
              "      <td>0</td>\n",
              "      <td>0</td>\n",
              "      <td>1</td>\n",
              "      <td>1</td>\n",
              "    </tr>\n",
              "    <tr>\n",
              "      <th>2</th>\n",
              "      <td>2</td>\n",
              "      <td>18857</td>\n",
              "      <td>1</td>\n",
              "      <td>165</td>\n",
              "      <td>64.0</td>\n",
              "      <td>130</td>\n",
              "      <td>70</td>\n",
              "      <td>3</td>\n",
              "      <td>1</td>\n",
              "      <td>0</td>\n",
              "      <td>0</td>\n",
              "      <td>0</td>\n",
              "      <td>1</td>\n",
              "    </tr>\n",
              "    <tr>\n",
              "      <th>3</th>\n",
              "      <td>3</td>\n",
              "      <td>17623</td>\n",
              "      <td>2</td>\n",
              "      <td>169</td>\n",
              "      <td>82.0</td>\n",
              "      <td>150</td>\n",
              "      <td>100</td>\n",
              "      <td>1</td>\n",
              "      <td>1</td>\n",
              "      <td>0</td>\n",
              "      <td>0</td>\n",
              "      <td>1</td>\n",
              "      <td>1</td>\n",
              "    </tr>\n",
              "    <tr>\n",
              "      <th>4</th>\n",
              "      <td>4</td>\n",
              "      <td>17474</td>\n",
              "      <td>1</td>\n",
              "      <td>156</td>\n",
              "      <td>56.0</td>\n",
              "      <td>100</td>\n",
              "      <td>60</td>\n",
              "      <td>1</td>\n",
              "      <td>1</td>\n",
              "      <td>0</td>\n",
              "      <td>0</td>\n",
              "      <td>0</td>\n",
              "      <td>0</td>\n",
              "    </tr>\n",
              "  </tbody>\n",
              "</table>\n",
              "</div>"
            ],
            "text/plain": [
              "   id    age  gender  height  weight  ...  gluc  smoke  alco  active  cardio\n",
              "0   0  18393       2     168    62.0  ...     1      0     0       1       0\n",
              "1   1  20228       1     156    85.0  ...     1      0     0       1       1\n",
              "2   2  18857       1     165    64.0  ...     1      0     0       0       1\n",
              "3   3  17623       2     169    82.0  ...     1      0     0       1       1\n",
              "4   4  17474       1     156    56.0  ...     1      0     0       0       0\n",
              "\n",
              "[5 rows x 13 columns]"
            ]
          },
          "metadata": {
            "tags": []
          },
          "execution_count": 10
        }
      ]
    },
    {
      "cell_type": "code",
      "metadata": {
        "colab": {
          "base_uri": "https://localhost:8080/"
        },
        "id": "ex_854lLn5aQ",
        "outputId": "1825cafa-bcb4-43e9-ded4-b59916b3e622"
      },
      "source": [
        "Cardio_disease2.dtypes.value_counts()"
      ],
      "execution_count": null,
      "outputs": [
        {
          "output_type": "execute_result",
          "data": {
            "text/plain": [
              "int64      12\n",
              "float64     1\n",
              "dtype: int64"
            ]
          },
          "metadata": {
            "tags": []
          },
          "execution_count": 66
        }
      ]
    },
    {
      "cell_type": "code",
      "metadata": {
        "colab": {
          "base_uri": "https://localhost:8080/",
          "height": 452
        },
        "id": "QoM5FLebfI1m",
        "outputId": "abbc7694-bb04-4c64-8d05-84d82cf051b8"
      },
      "source": [
        "#Part about checking the quality fo the data is to know if there are some NOT APPLICABLE values but this dataset has no such observations. Lets create a table where with missing data\n",
        "miss_values=Cardio_disease2.isnull().sum() # missing values\n",
        "\n",
        "Perc_values_missing = Cardio_disease2.isnull().sum()/Cardio_disease2.shape[0]*100 # missing value %\n",
        "\n",
        "value = {\n",
        "    'miss_values':miss_values,\n",
        "    'Perc_values_missing':Perc_values_missing \n",
        "}\n",
        "frame=pd.DataFrame(value)\n",
        "frame"
      ],
      "execution_count": null,
      "outputs": [
        {
          "output_type": "execute_result",
          "data": {
            "text/html": [
              "<div>\n",
              "<style scoped>\n",
              "    .dataframe tbody tr th:only-of-type {\n",
              "        vertical-align: middle;\n",
              "    }\n",
              "\n",
              "    .dataframe tbody tr th {\n",
              "        vertical-align: top;\n",
              "    }\n",
              "\n",
              "    .dataframe thead th {\n",
              "        text-align: right;\n",
              "    }\n",
              "</style>\n",
              "<table border=\"1\" class=\"dataframe\">\n",
              "  <thead>\n",
              "    <tr style=\"text-align: right;\">\n",
              "      <th></th>\n",
              "      <th>miss_values</th>\n",
              "      <th>Perc_values_missing</th>\n",
              "    </tr>\n",
              "  </thead>\n",
              "  <tbody>\n",
              "    <tr>\n",
              "      <th>id</th>\n",
              "      <td>0</td>\n",
              "      <td>0.0</td>\n",
              "    </tr>\n",
              "    <tr>\n",
              "      <th>age</th>\n",
              "      <td>0</td>\n",
              "      <td>0.0</td>\n",
              "    </tr>\n",
              "    <tr>\n",
              "      <th>gender</th>\n",
              "      <td>0</td>\n",
              "      <td>0.0</td>\n",
              "    </tr>\n",
              "    <tr>\n",
              "      <th>height</th>\n",
              "      <td>0</td>\n",
              "      <td>0.0</td>\n",
              "    </tr>\n",
              "    <tr>\n",
              "      <th>weight</th>\n",
              "      <td>0</td>\n",
              "      <td>0.0</td>\n",
              "    </tr>\n",
              "    <tr>\n",
              "      <th>ap_hi</th>\n",
              "      <td>0</td>\n",
              "      <td>0.0</td>\n",
              "    </tr>\n",
              "    <tr>\n",
              "      <th>ap_lo</th>\n",
              "      <td>0</td>\n",
              "      <td>0.0</td>\n",
              "    </tr>\n",
              "    <tr>\n",
              "      <th>cholesterol</th>\n",
              "      <td>0</td>\n",
              "      <td>0.0</td>\n",
              "    </tr>\n",
              "    <tr>\n",
              "      <th>gluc</th>\n",
              "      <td>0</td>\n",
              "      <td>0.0</td>\n",
              "    </tr>\n",
              "    <tr>\n",
              "      <th>smoke</th>\n",
              "      <td>0</td>\n",
              "      <td>0.0</td>\n",
              "    </tr>\n",
              "    <tr>\n",
              "      <th>alco</th>\n",
              "      <td>0</td>\n",
              "      <td>0.0</td>\n",
              "    </tr>\n",
              "    <tr>\n",
              "      <th>active</th>\n",
              "      <td>0</td>\n",
              "      <td>0.0</td>\n",
              "    </tr>\n",
              "    <tr>\n",
              "      <th>cardio</th>\n",
              "      <td>0</td>\n",
              "      <td>0.0</td>\n",
              "    </tr>\n",
              "  </tbody>\n",
              "</table>\n",
              "</div>"
            ],
            "text/plain": [
              "             miss_values  Perc_values_missing\n",
              "id                     0                  0.0\n",
              "age                    0                  0.0\n",
              "gender                 0                  0.0\n",
              "height                 0                  0.0\n",
              "weight                 0                  0.0\n",
              "ap_hi                  0                  0.0\n",
              "ap_lo                  0                  0.0\n",
              "cholesterol            0                  0.0\n",
              "gluc                   0                  0.0\n",
              "smoke                  0                  0.0\n",
              "alco                   0                  0.0\n",
              "active                 0                  0.0\n",
              "cardio                 0                  0.0"
            ]
          },
          "metadata": {
            "tags": []
          },
          "execution_count": 56
        }
      ]
    },
    {
      "cell_type": "code",
      "metadata": {
        "colab": {
          "base_uri": "https://localhost:8080/"
        },
        "id": "n9SWpB-82bEJ",
        "outputId": "a9ec318f-f4c6-41fc-b9c9-cdcb2000797b"
      },
      "source": [
        "#Frequency of Dummy and categorical variables\n",
        "Cardio_disease2[[\"gender\",\"cholesterol\",\"gluc\",\"smoke\",\"alco\",\"active\",\"cardio\" ]].apply(lambda x: x.value_counts()).T.stack()"
      ],
      "execution_count": null,
      "outputs": [
        {
          "output_type": "execute_result",
          "data": {
            "text/plain": [
              "gender       1    45530.0\n",
              "             2    24470.0\n",
              "cholesterol  1    52385.0\n",
              "             2     9549.0\n",
              "             3     8066.0\n",
              "gluc         1    59479.0\n",
              "             2     5190.0\n",
              "             3     5331.0\n",
              "smoke        0    63831.0\n",
              "             1     6169.0\n",
              "alco         0    66236.0\n",
              "             1     3764.0\n",
              "active       0    13739.0\n",
              "             1    56261.0\n",
              "cardio       0    35021.0\n",
              "             1    34979.0\n",
              "dtype: float64"
            ]
          },
          "metadata": {
            "tags": []
          },
          "execution_count": 94
        }
      ]
    },
    {
      "cell_type": "markdown",
      "metadata": {
        "id": "k5XdCNhAmIFp"
      },
      "source": [
        "****************************DATA VISUALIZATION OF THE DATA WITHOUT BEING TRANSFORMED*******************************************************************"
      ]
    },
    {
      "cell_type": "code",
      "metadata": {
        "colab": {
          "base_uri": "https://localhost:8080/",
          "height": 882
        },
        "id": "geNoW2BTnanw",
        "outputId": "2a51c646-90f5-44f6-a72f-e26226c94f91"
      },
      "source": [
        "#Let's take a look on the multiple distribution by column\n",
        "Cardio_disease2.hist(figsize=(20,15));"
      ],
      "execution_count": null,
      "outputs": [
        {
          "output_type": "display_data",
          "data": {
            "image/png": "[encoded data removed]",
            "text/plain": [
              "<Figure size 1440x1080 with 16 Axes>"
            ]
          },
          "metadata": {
            "tags": []
          }
        }
      ]
    },
    {
      "cell_type": "code",
      "metadata": {
        "colab": {
          "base_uri": "https://localhost:8080/",
          "height": 1000
        },
        "id": "s7zTODSgquaK",
        "outputId": "20ecef89-39cb-407c-c835-61bb1d75cdd0"
      },
      "source": [
        "# Histograms for continious, discrete, dummy and categorical variables\n",
        "Cardio_disease2.hist(column=['age', 'gender','height','weight','ap_hi','ap_lo','cholesterol','gluc','smoke','alco','active','cardio'], bins=25, figsize=(20, 15), color='#b4d997', edgecolor='black')"
      ],
      "execution_count": null,
      "outputs": [
        {
          "output_type": "execute_result",
          "data": {
            "text/plain": [
              "array([[<matplotlib.axes._subplots.AxesSubplot object at 0x7f80c9e1cb50>,\n",
              "        <matplotlib.axes._subplots.AxesSubplot object at 0x7f80c96f12d0>,\n",
              "        <matplotlib.axes._subplots.AxesSubplot object at 0x7f80caa08990>],\n",
              "       [<matplotlib.axes._subplots.AxesSubplot object at 0x7f80cb0decd0>,\n",
              "        <matplotlib.axes._subplots.AxesSubplot object at 0x7f80cb494090>,\n",
              "        <matplotlib.axes._subplots.AxesSubplot object at 0x7f80cc62bcd0>],\n",
              "       [<matplotlib.axes._subplots.AxesSubplot object at 0x7f80ca8ff8d0>,\n",
              "        <matplotlib.axes._subplots.AxesSubplot object at 0x7f80ca9b51d0>,\n",
              "        <matplotlib.axes._subplots.AxesSubplot object at 0x7f80ca9b8dd0>],\n",
              "       [<matplotlib.axes._subplots.AxesSubplot object at 0x7f80ca99c710>,\n",
              "        <matplotlib.axes._subplots.AxesSubplot object at 0x7f80ca91c310>,\n",
              "        <matplotlib.axes._subplots.AxesSubplot object at 0x7f80ca8c8890>]],\n",
              "      dtype=object)"
            ]
          },
          "metadata": {
            "tags": []
          },
          "execution_count": 102
        },
        {
          "output_type": "display_data",
          "data": {
            "image/png": "[encoded data removed]",
            "text/plain": [
              "<Figure size 1440x1080 with 12 Axes>"
            ]
          },
          "metadata": {
            "tags": []
          }
        }
      ]
    },
    {
      "cell_type": "code",
      "metadata": {
        "colab": {
          "base_uri": "https://localhost:8080/",
          "height": 355
        },
        "id": "MyTgU377nali",
        "outputId": "24e5c98a-5f46-43c5-d4e3-d75c7ebda10b"
      },
      "source": [
        "#CORRELATION MATRIX OF ALL VARIABLES WITHOUT BEING TRANSFORMED\n",
        "corr=Cardio_disease2.corr()\n",
        "corr.style.background_gradient(cmap='Oranges_r',axis=None)"
      ],
      "execution_count": null,
      "outputs": [
        {
          "output_type": "execute_result",
          "data": {
            "text/html": [
              "<style  type=\"text/css\" >\n",
              "#T_a66cb3a6_c7f1_11eb_a50b_0242ac1c0002row0_col0,#T_a66cb3a6_c7f1_11eb_a50b_0242ac1c0002row1_col1,#T_a66cb3a6_c7f1_11eb_a50b_0242ac1c0002row2_col2,#T_a66cb3a6_c7f1_11eb_a50b_0242ac1c0002row3_col3,#T_a66cb3a6_c7f1_11eb_a50b_0242ac1c0002row4_col4,#T_a66cb3a6_c7f1_11eb_a50b_0242ac1c0002row5_col5,#T_a66cb3a6_c7f1_11eb_a50b_0242ac1c0002row6_col6,#T_a66cb3a6_c7f1_11eb_a50b_0242ac1c0002row7_col7,#T_a66cb3a6_c7f1_11eb_a50b_0242ac1c0002row8_col8,#T_a66cb3a6_c7f1_11eb_a50b_0242ac1c0002row9_col9,#T_a66cb3a6_c7f1_11eb_a50b_0242ac1c0002row10_col10,#T_a66cb3a6_c7f1_11eb_a50b_0242ac1c0002row11_col11,#T_a66cb3a6_c7f1_11eb_a50b_0242ac1c0002row12_col12,#T_a66cb3a6_c7f1_11eb_a50b_0242ac1c0002row13_col13,#T_a66cb3a6_c7f1_11eb_a50b_0242ac1c0002row14_col14{\n",
              "            background-color:  #fff5eb;\n",
              "            color:  #000000;\n",
              "        }#T_a66cb3a6_c7f1_11eb_a50b_0242ac1c0002row0_col1,#T_a66cb3a6_c7f1_11eb_a50b_0242ac1c0002row0_col4,#T_a66cb3a6_c7f1_11eb_a50b_0242ac1c0002row0_col6,#T_a66cb3a6_c7f1_11eb_a50b_0242ac1c0002row0_col7,#T_a66cb3a6_c7f1_11eb_a50b_0242ac1c0002row0_col10,#T_a66cb3a6_c7f1_11eb_a50b_0242ac1c0002row0_col11,#T_a66cb3a6_c7f1_11eb_a50b_0242ac1c0002row0_col13,#T_a66cb3a6_c7f1_11eb_a50b_0242ac1c0002row0_col14,#T_a66cb3a6_c7f1_11eb_a50b_0242ac1c0002row1_col0,#T_a66cb3a6_c7f1_11eb_a50b_0242ac1c0002row1_col4,#T_a66cb3a6_c7f1_11eb_a50b_0242ac1c0002row1_col10,#T_a66cb3a6_c7f1_11eb_a50b_0242ac1c0002row2_col4,#T_a66cb3a6_c7f1_11eb_a50b_0242ac1c0002row2_col5,#T_a66cb3a6_c7f1_11eb_a50b_0242ac1c0002row4_col0,#T_a66cb3a6_c7f1_11eb_a50b_0242ac1c0002row4_col1,#T_a66cb3a6_c7f1_11eb_a50b_0242ac1c0002row4_col2,#T_a66cb3a6_c7f1_11eb_a50b_0242ac1c0002row5_col2,#T_a66cb3a6_c7f1_11eb_a50b_0242ac1c0002row5_col8,#T_a66cb3a6_c7f1_11eb_a50b_0242ac1c0002row5_col10,#T_a66cb3a6_c7f1_11eb_a50b_0242ac1c0002row6_col0,#T_a66cb3a6_c7f1_11eb_a50b_0242ac1c0002row7_col0,#T_a66cb3a6_c7f1_11eb_a50b_0242ac1c0002row8_col5,#T_a66cb3a6_c7f1_11eb_a50b_0242ac1c0002row10_col0,#T_a66cb3a6_c7f1_11eb_a50b_0242ac1c0002row10_col1,#T_a66cb3a6_c7f1_11eb_a50b_0242ac1c0002row10_col5,#T_a66cb3a6_c7f1_11eb_a50b_0242ac1c0002row11_col0,#T_a66cb3a6_c7f1_11eb_a50b_0242ac1c0002row13_col0,#T_a66cb3a6_c7f1_11eb_a50b_0242ac1c0002row14_col0{\n",
              "            background-color:  #d04501;\n",
              "            color:  #f1f1f1;\n",
              "        }#T_a66cb3a6_c7f1_11eb_a50b_0242ac1c0002row0_col2,#T_a66cb3a6_c7f1_11eb_a50b_0242ac1c0002row0_col3,#T_a66cb3a6_c7f1_11eb_a50b_0242ac1c0002row0_col5,#T_a66cb3a6_c7f1_11eb_a50b_0242ac1c0002row0_col9,#T_a66cb3a6_c7f1_11eb_a50b_0242ac1c0002row0_col12,#T_a66cb3a6_c7f1_11eb_a50b_0242ac1c0002row2_col0,#T_a66cb3a6_c7f1_11eb_a50b_0242ac1c0002row3_col0,#T_a66cb3a6_c7f1_11eb_a50b_0242ac1c0002row4_col8,#T_a66cb3a6_c7f1_11eb_a50b_0242ac1c0002row4_col9,#T_a66cb3a6_c7f1_11eb_a50b_0242ac1c0002row4_col10,#T_a66cb3a6_c7f1_11eb_a50b_0242ac1c0002row5_col0,#T_a66cb3a6_c7f1_11eb_a50b_0242ac1c0002row8_col4,#T_a66cb3a6_c7f1_11eb_a50b_0242ac1c0002row9_col0,#T_a66cb3a6_c7f1_11eb_a50b_0242ac1c0002row9_col4,#T_a66cb3a6_c7f1_11eb_a50b_0242ac1c0002row10_col4,#T_a66cb3a6_c7f1_11eb_a50b_0242ac1c0002row12_col0{\n",
              "            background-color:  #ce4401;\n",
              "            color:  #f1f1f1;\n",
              "        }#T_a66cb3a6_c7f1_11eb_a50b_0242ac1c0002row0_col8,#T_a66cb3a6_c7f1_11eb_a50b_0242ac1c0002row2_col10,#T_a66cb3a6_c7f1_11eb_a50b_0242ac1c0002row7_col8,#T_a66cb3a6_c7f1_11eb_a50b_0242ac1c0002row7_col10,#T_a66cb3a6_c7f1_11eb_a50b_0242ac1c0002row8_col0,#T_a66cb3a6_c7f1_11eb_a50b_0242ac1c0002row8_col7,#T_a66cb3a6_c7f1_11eb_a50b_0242ac1c0002row9_col11,#T_a66cb3a6_c7f1_11eb_a50b_0242ac1c0002row10_col2,#T_a66cb3a6_c7f1_11eb_a50b_0242ac1c0002row10_col7,#T_a66cb3a6_c7f1_11eb_a50b_0242ac1c0002row11_col9{\n",
              "            background-color:  #cd4401;\n",
              "            color:  #f1f1f1;\n",
              "        }#T_a66cb3a6_c7f1_11eb_a50b_0242ac1c0002row1_col2,#T_a66cb3a6_c7f1_11eb_a50b_0242ac1c0002row2_col1{\n",
              "            background-color:  #fdab66;\n",
              "            color:  #000000;\n",
              "        }#T_a66cb3a6_c7f1_11eb_a50b_0242ac1c0002row1_col3,#T_a66cb3a6_c7f1_11eb_a50b_0242ac1c0002row3_col1,#T_a66cb3a6_c7f1_11eb_a50b_0242ac1c0002row6_col13,#T_a66cb3a6_c7f1_11eb_a50b_0242ac1c0002row6_col14,#T_a66cb3a6_c7f1_11eb_a50b_0242ac1c0002row11_col14,#T_a66cb3a6_c7f1_11eb_a50b_0242ac1c0002row13_col6,#T_a66cb3a6_c7f1_11eb_a50b_0242ac1c0002row14_col6,#T_a66cb3a6_c7f1_11eb_a50b_0242ac1c0002row14_col11{\n",
              "            background-color:  #eb610f;\n",
              "            color:  #000000;\n",
              "        }#T_a66cb3a6_c7f1_11eb_a50b_0242ac1c0002row1_col5,#T_a66cb3a6_c7f1_11eb_a50b_0242ac1c0002row4_col5,#T_a66cb3a6_c7f1_11eb_a50b_0242ac1c0002row5_col1,#T_a66cb3a6_c7f1_11eb_a50b_0242ac1c0002row5_col4,#T_a66cb3a6_c7f1_11eb_a50b_0242ac1c0002row9_col12,#T_a66cb3a6_c7f1_11eb_a50b_0242ac1c0002row9_col14,#T_a66cb3a6_c7f1_11eb_a50b_0242ac1c0002row12_col9,#T_a66cb3a6_c7f1_11eb_a50b_0242ac1c0002row14_col9{\n",
              "            background-color:  #d34601;\n",
              "            color:  #f1f1f1;\n",
              "        }#T_a66cb3a6_c7f1_11eb_a50b_0242ac1c0002row1_col6,#T_a66cb3a6_c7f1_11eb_a50b_0242ac1c0002row6_col1,#T_a66cb3a6_c7f1_11eb_a50b_0242ac1c0002row10_col11,#T_a66cb3a6_c7f1_11eb_a50b_0242ac1c0002row11_col10{\n",
              "            background-color:  #c34002;\n",
              "            color:  #f1f1f1;\n",
              "        }#T_a66cb3a6_c7f1_11eb_a50b_0242ac1c0002row1_col7,#T_a66cb3a6_c7f1_11eb_a50b_0242ac1c0002row1_col13,#T_a66cb3a6_c7f1_11eb_a50b_0242ac1c0002row2_col7,#T_a66cb3a6_c7f1_11eb_a50b_0242ac1c0002row7_col1,#T_a66cb3a6_c7f1_11eb_a50b_0242ac1c0002row7_col2,#T_a66cb3a6_c7f1_11eb_a50b_0242ac1c0002row13_col1{\n",
              "            background-color:  #c84202;\n",
              "            color:  #f1f1f1;\n",
              "        }#T_a66cb3a6_c7f1_11eb_a50b_0242ac1c0002row1_col8,#T_a66cb3a6_c7f1_11eb_a50b_0242ac1c0002row8_col1{\n",
              "            background-color:  #fc8937;\n",
              "            color:  #000000;\n",
              "        }#T_a66cb3a6_c7f1_11eb_a50b_0242ac1c0002row1_col9,#T_a66cb3a6_c7f1_11eb_a50b_0242ac1c0002row9_col1{\n",
              "            background-color:  #ee6410;\n",
              "            color:  #000000;\n",
              "        }#T_a66cb3a6_c7f1_11eb_a50b_0242ac1c0002row1_col11,#T_a66cb3a6_c7f1_11eb_a50b_0242ac1c0002row4_col7,#T_a66cb3a6_c7f1_11eb_a50b_0242ac1c0002row5_col7,#T_a66cb3a6_c7f1_11eb_a50b_0242ac1c0002row5_col9,#T_a66cb3a6_c7f1_11eb_a50b_0242ac1c0002row6_col8,#T_a66cb3a6_c7f1_11eb_a50b_0242ac1c0002row6_col10,#T_a66cb3a6_c7f1_11eb_a50b_0242ac1c0002row7_col4,#T_a66cb3a6_c7f1_11eb_a50b_0242ac1c0002row7_col5,#T_a66cb3a6_c7f1_11eb_a50b_0242ac1c0002row7_col9,#T_a66cb3a6_c7f1_11eb_a50b_0242ac1c0002row8_col6,#T_a66cb3a6_c7f1_11eb_a50b_0242ac1c0002row9_col5,#T_a66cb3a6_c7f1_11eb_a50b_0242ac1c0002row9_col7,#T_a66cb3a6_c7f1_11eb_a50b_0242ac1c0002row10_col6,#T_a66cb3a6_c7f1_11eb_a50b_0242ac1c0002row11_col1{\n",
              "            background-color:  #d14501;\n",
              "            color:  #f1f1f1;\n",
              "        }#T_a66cb3a6_c7f1_11eb_a50b_0242ac1c0002row1_col12,#T_a66cb3a6_c7f1_11eb_a50b_0242ac1c0002row12_col1{\n",
              "            background-color:  #b03903;\n",
              "            color:  #f1f1f1;\n",
              "        }#T_a66cb3a6_c7f1_11eb_a50b_0242ac1c0002row1_col14,#T_a66cb3a6_c7f1_11eb_a50b_0242ac1c0002row14_col1{\n",
              "            background-color:  #ab3803;\n",
              "            color:  #f1f1f1;\n",
              "        }#T_a66cb3a6_c7f1_11eb_a50b_0242ac1c0002row2_col3,#T_a66cb3a6_c7f1_11eb_a50b_0242ac1c0002row3_col2{\n",
              "            background-color:  #f87f2c;\n",
              "            color:  #000000;\n",
              "        }#T_a66cb3a6_c7f1_11eb_a50b_0242ac1c0002row2_col6,#T_a66cb3a6_c7f1_11eb_a50b_0242ac1c0002row6_col2{\n",
              "            background-color:  #be3f02;\n",
              "            color:  #f1f1f1;\n",
              "        }#T_a66cb3a6_c7f1_11eb_a50b_0242ac1c0002row2_col8,#T_a66cb3a6_c7f1_11eb_a50b_0242ac1c0002row8_col2{\n",
              "            background-color:  #f06712;\n",
              "            color:  #000000;\n",
              "        }#T_a66cb3a6_c7f1_11eb_a50b_0242ac1c0002row2_col9,#T_a66cb3a6_c7f1_11eb_a50b_0242ac1c0002row9_col2{\n",
              "            background-color:  #e25508;\n",
              "            color:  #000000;\n",
              "        }#T_a66cb3a6_c7f1_11eb_a50b_0242ac1c0002row2_col11,#T_a66cb3a6_c7f1_11eb_a50b_0242ac1c0002row10_col13,#T_a66cb3a6_c7f1_11eb_a50b_0242ac1c0002row10_col14,#T_a66cb3a6_c7f1_11eb_a50b_0242ac1c0002row11_col2,#T_a66cb3a6_c7f1_11eb_a50b_0242ac1c0002row13_col10,#T_a66cb3a6_c7f1_11eb_a50b_0242ac1c0002row14_col10{\n",
              "            background-color:  #cb4302;\n",
              "            color:  #f1f1f1;\n",
              "        }#T_a66cb3a6_c7f1_11eb_a50b_0242ac1c0002row2_col12,#T_a66cb3a6_c7f1_11eb_a50b_0242ac1c0002row12_col2{\n",
              "            background-color:  #7f2704;\n",
              "            color:  #f1f1f1;\n",
              "        }#T_a66cb3a6_c7f1_11eb_a50b_0242ac1c0002row2_col13,#T_a66cb3a6_c7f1_11eb_a50b_0242ac1c0002row13_col2{\n",
              "            background-color:  #b53b02;\n",
              "            color:  #f1f1f1;\n",
              "        }#T_a66cb3a6_c7f1_11eb_a50b_0242ac1c0002row2_col14,#T_a66cb3a6_c7f1_11eb_a50b_0242ac1c0002row14_col2{\n",
              "            background-color:  #973003;\n",
              "            color:  #f1f1f1;\n",
              "        }#T_a66cb3a6_c7f1_11eb_a50b_0242ac1c0002row3_col4,#T_a66cb3a6_c7f1_11eb_a50b_0242ac1c0002row4_col3{\n",
              "            background-color:  #d84801;\n",
              "            color:  #f1f1f1;\n",
              "        }#T_a66cb3a6_c7f1_11eb_a50b_0242ac1c0002row3_col5,#T_a66cb3a6_c7f1_11eb_a50b_0242ac1c0002row5_col3{\n",
              "            background-color:  #db4a02;\n",
              "            color:  #f1f1f1;\n",
              "        }#T_a66cb3a6_c7f1_11eb_a50b_0242ac1c0002row3_col6,#T_a66cb3a6_c7f1_11eb_a50b_0242ac1c0002row6_col3{\n",
              "            background-color:  #e95e0d;\n",
              "            color:  #000000;\n",
              "        }#T_a66cb3a6_c7f1_11eb_a50b_0242ac1c0002row3_col7,#T_a66cb3a6_c7f1_11eb_a50b_0242ac1c0002row7_col3,#T_a66cb3a6_c7f1_11eb_a50b_0242ac1c0002row7_col14,#T_a66cb3a6_c7f1_11eb_a50b_0242ac1c0002row14_col7{\n",
              "            background-color:  #e45709;\n",
              "            color:  #000000;\n",
              "        }#T_a66cb3a6_c7f1_11eb_a50b_0242ac1c0002row3_col8,#T_a66cb3a6_c7f1_11eb_a50b_0242ac1c0002row8_col3{\n",
              "            background-color:  #de5005;\n",
              "            color:  #f1f1f1;\n",
              "        }#T_a66cb3a6_c7f1_11eb_a50b_0242ac1c0002row3_col9,#T_a66cb3a6_c7f1_11eb_a50b_0242ac1c0002row5_col11,#T_a66cb3a6_c7f1_11eb_a50b_0242ac1c0002row9_col3,#T_a66cb3a6_c7f1_11eb_a50b_0242ac1c0002row11_col5{\n",
              "            background-color:  #de4e05;\n",
              "            color:  #f1f1f1;\n",
              "        }#T_a66cb3a6_c7f1_11eb_a50b_0242ac1c0002row3_col10,#T_a66cb3a6_c7f1_11eb_a50b_0242ac1c0002row8_col11,#T_a66cb3a6_c7f1_11eb_a50b_0242ac1c0002row10_col3,#T_a66cb3a6_c7f1_11eb_a50b_0242ac1c0002row10_col12,#T_a66cb3a6_c7f1_11eb_a50b_0242ac1c0002row11_col8,#T_a66cb3a6_c7f1_11eb_a50b_0242ac1c0002row12_col10{\n",
              "            background-color:  #c94202;\n",
              "            color:  #f1f1f1;\n",
              "        }#T_a66cb3a6_c7f1_11eb_a50b_0242ac1c0002row3_col11,#T_a66cb3a6_c7f1_11eb_a50b_0242ac1c0002row11_col3{\n",
              "            background-color:  #ef6612;\n",
              "            color:  #000000;\n",
              "        }#T_a66cb3a6_c7f1_11eb_a50b_0242ac1c0002row3_col12,#T_a66cb3a6_c7f1_11eb_a50b_0242ac1c0002row12_col3{\n",
              "            background-color:  #fedcb9;\n",
              "            color:  #000000;\n",
              "        }#T_a66cb3a6_c7f1_11eb_a50b_0242ac1c0002row3_col13,#T_a66cb3a6_c7f1_11eb_a50b_0242ac1c0002row4_col11,#T_a66cb3a6_c7f1_11eb_a50b_0242ac1c0002row11_col4,#T_a66cb3a6_c7f1_11eb_a50b_0242ac1c0002row13_col3{\n",
              "            background-color:  #dc4c03;\n",
              "            color:  #f1f1f1;\n",
              "        }#T_a66cb3a6_c7f1_11eb_a50b_0242ac1c0002row3_col14,#T_a66cb3a6_c7f1_11eb_a50b_0242ac1c0002row14_col3{\n",
              "            background-color:  #fdd0a2;\n",
              "            color:  #000000;\n",
              "        }#T_a66cb3a6_c7f1_11eb_a50b_0242ac1c0002row4_col6,#T_a66cb3a6_c7f1_11eb_a50b_0242ac1c0002row4_col12,#T_a66cb3a6_c7f1_11eb_a50b_0242ac1c0002row4_col14,#T_a66cb3a6_c7f1_11eb_a50b_0242ac1c0002row5_col6,#T_a66cb3a6_c7f1_11eb_a50b_0242ac1c0002row6_col4,#T_a66cb3a6_c7f1_11eb_a50b_0242ac1c0002row6_col5,#T_a66cb3a6_c7f1_11eb_a50b_0242ac1c0002row8_col10,#T_a66cb3a6_c7f1_11eb_a50b_0242ac1c0002row9_col10,#T_a66cb3a6_c7f1_11eb_a50b_0242ac1c0002row10_col8,#T_a66cb3a6_c7f1_11eb_a50b_0242ac1c0002row10_col9,#T_a66cb3a6_c7f1_11eb_a50b_0242ac1c0002row12_col4,#T_a66cb3a6_c7f1_11eb_a50b_0242ac1c0002row14_col4{\n",
              "            background-color:  #d64701;\n",
              "            color:  #f1f1f1;\n",
              "        }#T_a66cb3a6_c7f1_11eb_a50b_0242ac1c0002row4_col13,#T_a66cb3a6_c7f1_11eb_a50b_0242ac1c0002row5_col13,#T_a66cb3a6_c7f1_11eb_a50b_0242ac1c0002row13_col4,#T_a66cb3a6_c7f1_11eb_a50b_0242ac1c0002row13_col5{\n",
              "            background-color:  #d54601;\n",
              "            color:  #f1f1f1;\n",
              "        }#T_a66cb3a6_c7f1_11eb_a50b_0242ac1c0002row5_col12,#T_a66cb3a6_c7f1_11eb_a50b_0242ac1c0002row5_col14,#T_a66cb3a6_c7f1_11eb_a50b_0242ac1c0002row6_col9,#T_a66cb3a6_c7f1_11eb_a50b_0242ac1c0002row9_col6,#T_a66cb3a6_c7f1_11eb_a50b_0242ac1c0002row12_col5,#T_a66cb3a6_c7f1_11eb_a50b_0242ac1c0002row14_col5{\n",
              "            background-color:  #d94801;\n",
              "            color:  #f1f1f1;\n",
              "        }#T_a66cb3a6_c7f1_11eb_a50b_0242ac1c0002row6_col7,#T_a66cb3a6_c7f1_11eb_a50b_0242ac1c0002row7_col6{\n",
              "            background-color:  #fda159;\n",
              "            color:  #000000;\n",
              "        }#T_a66cb3a6_c7f1_11eb_a50b_0242ac1c0002row6_col11,#T_a66cb3a6_c7f1_11eb_a50b_0242ac1c0002row11_col6{\n",
              "            background-color:  #f36f1a;\n",
              "            color:  #000000;\n",
              "        }#T_a66cb3a6_c7f1_11eb_a50b_0242ac1c0002row6_col12,#T_a66cb3a6_c7f1_11eb_a50b_0242ac1c0002row12_col6{\n",
              "            background-color:  #ea5f0e;\n",
              "            color:  #000000;\n",
              "        }#T_a66cb3a6_c7f1_11eb_a50b_0242ac1c0002row7_col11,#T_a66cb3a6_c7f1_11eb_a50b_0242ac1c0002row11_col7{\n",
              "            background-color:  #e15407;\n",
              "            color:  #000000;\n",
              "        }#T_a66cb3a6_c7f1_11eb_a50b_0242ac1c0002row7_col12,#T_a66cb3a6_c7f1_11eb_a50b_0242ac1c0002row7_col13,#T_a66cb3a6_c7f1_11eb_a50b_0242ac1c0002row12_col7,#T_a66cb3a6_c7f1_11eb_a50b_0242ac1c0002row13_col7{\n",
              "            background-color:  #e35608;\n",
              "            color:  #000000;\n",
              "        }#T_a66cb3a6_c7f1_11eb_a50b_0242ac1c0002row8_col9,#T_a66cb3a6_c7f1_11eb_a50b_0242ac1c0002row9_col8{\n",
              "            background-color:  #fc8a39;\n",
              "            color:  #000000;\n",
              "        }#T_a66cb3a6_c7f1_11eb_a50b_0242ac1c0002row8_col12,#T_a66cb3a6_c7f1_11eb_a50b_0242ac1c0002row12_col8{\n",
              "            background-color:  #c64102;\n",
              "            color:  #f1f1f1;\n",
              "        }#T_a66cb3a6_c7f1_11eb_a50b_0242ac1c0002row8_col13,#T_a66cb3a6_c7f1_11eb_a50b_0242ac1c0002row13_col8{\n",
              "            background-color:  #c03f02;\n",
              "            color:  #f1f1f1;\n",
              "        }#T_a66cb3a6_c7f1_11eb_a50b_0242ac1c0002row8_col14,#T_a66cb3a6_c7f1_11eb_a50b_0242ac1c0002row9_col13,#T_a66cb3a6_c7f1_11eb_a50b_0242ac1c0002row13_col9,#T_a66cb3a6_c7f1_11eb_a50b_0242ac1c0002row14_col8{\n",
              "            background-color:  #c54102;\n",
              "            color:  #f1f1f1;\n",
              "        }#T_a66cb3a6_c7f1_11eb_a50b_0242ac1c0002row11_col12,#T_a66cb3a6_c7f1_11eb_a50b_0242ac1c0002row12_col11{\n",
              "            background-color:  #ed6310;\n",
              "            color:  #000000;\n",
              "        }#T_a66cb3a6_c7f1_11eb_a50b_0242ac1c0002row11_col13,#T_a66cb3a6_c7f1_11eb_a50b_0242ac1c0002row13_col11{\n",
              "            background-color:  #f4721e;\n",
              "            color:  #000000;\n",
              "        }#T_a66cb3a6_c7f1_11eb_a50b_0242ac1c0002row12_col13,#T_a66cb3a6_c7f1_11eb_a50b_0242ac1c0002row13_col12{\n",
              "            background-color:  #e15307;\n",
              "            color:  #000000;\n",
              "        }#T_a66cb3a6_c7f1_11eb_a50b_0242ac1c0002row12_col14,#T_a66cb3a6_c7f1_11eb_a50b_0242ac1c0002row14_col12{\n",
              "            background-color:  #fdd4aa;\n",
              "            color:  #000000;\n",
              "        }#T_a66cb3a6_c7f1_11eb_a50b_0242ac1c0002row13_col14,#T_a66cb3a6_c7f1_11eb_a50b_0242ac1c0002row14_col13{\n",
              "            background-color:  #e05206;\n",
              "            color:  #000000;\n",
              "        }</style><table id=\"T_a66cb3a6_c7f1_11eb_a50b_0242ac1c0002\" ><thead>    <tr>        <th class=\"blank level0\" ></th>        <th class=\"col_heading level0 col0\" >id</th>        <th class=\"col_heading level0 col1\" >gender</th>        <th class=\"col_heading level0 col2\" >height</th>        <th class=\"col_heading level0 col3\" >weight</th>        <th class=\"col_heading level0 col4\" >ap_hi</th>        <th class=\"col_heading level0 col5\" >ap_lo</th>        <th class=\"col_heading level0 col6\" >cholesterol</th>        <th class=\"col_heading level0 col7\" >gluc</th>        <th class=\"col_heading level0 col8\" >smoke</th>        <th class=\"col_heading level0 col9\" >alco</th>        <th class=\"col_heading level0 col10\" >active</th>        <th class=\"col_heading level0 col11\" >cardio</th>        <th class=\"col_heading level0 col12\" >bmi</th>        <th class=\"col_heading level0 col13\" >age_y</th>        <th class=\"col_heading level0 col14\" >bmi_high</th>    </tr></thead><tbody>\n",
              "                <tr>\n",
              "                        <th id=\"T_a66cb3a6_c7f1_11eb_a50b_0242ac1c0002level0_row0\" class=\"row_heading level0 row0\" >id</th>\n",
              "                        <td id=\"T_a66cb3a6_c7f1_11eb_a50b_0242ac1c0002row0_col0\" class=\"data row0 col0\" >1.000000</td>\n",
              "                        <td id=\"T_a66cb3a6_c7f1_11eb_a50b_0242ac1c0002row0_col1\" class=\"data row0 col1\" >0.003502</td>\n",
              "                        <td id=\"T_a66cb3a6_c7f1_11eb_a50b_0242ac1c0002row0_col2\" class=\"data row0 col2\" >-0.003038</td>\n",
              "                        <td id=\"T_a66cb3a6_c7f1_11eb_a50b_0242ac1c0002row0_col3\" class=\"data row0 col3\" >-0.001830</td>\n",
              "                        <td id=\"T_a66cb3a6_c7f1_11eb_a50b_0242ac1c0002row0_col4\" class=\"data row0 col4\" >0.003356</td>\n",
              "                        <td id=\"T_a66cb3a6_c7f1_11eb_a50b_0242ac1c0002row0_col5\" class=\"data row0 col5\" >-0.002529</td>\n",
              "                        <td id=\"T_a66cb3a6_c7f1_11eb_a50b_0242ac1c0002row0_col6\" class=\"data row0 col6\" >0.006106</td>\n",
              "                        <td id=\"T_a66cb3a6_c7f1_11eb_a50b_0242ac1c0002row0_col7\" class=\"data row0 col7\" >0.002467</td>\n",
              "                        <td id=\"T_a66cb3a6_c7f1_11eb_a50b_0242ac1c0002row0_col8\" class=\"data row0 col8\" >-0.003699</td>\n",
              "                        <td id=\"T_a66cb3a6_c7f1_11eb_a50b_0242ac1c0002row0_col9\" class=\"data row0 col9\" >0.001210</td>\n",
              "                        <td id=\"T_a66cb3a6_c7f1_11eb_a50b_0242ac1c0002row0_col10\" class=\"data row0 col10\" >0.003755</td>\n",
              "                        <td id=\"T_a66cb3a6_c7f1_11eb_a50b_0242ac1c0002row0_col11\" class=\"data row0 col11\" >0.003799</td>\n",
              "                        <td id=\"T_a66cb3a6_c7f1_11eb_a50b_0242ac1c0002row0_col12\" class=\"data row0 col12\" >-0.001378</td>\n",
              "                        <td id=\"T_a66cb3a6_c7f1_11eb_a50b_0242ac1c0002row0_col13\" class=\"data row0 col13\" >0.003457</td>\n",
              "                        <td id=\"T_a66cb3a6_c7f1_11eb_a50b_0242ac1c0002row0_col14\" class=\"data row0 col14\" >0.002849</td>\n",
              "            </tr>\n",
              "            <tr>\n",
              "                        <th id=\"T_a66cb3a6_c7f1_11eb_a50b_0242ac1c0002level0_row1\" class=\"row_heading level0 row1\" >gender</th>\n",
              "                        <td id=\"T_a66cb3a6_c7f1_11eb_a50b_0242ac1c0002row1_col0\" class=\"data row1 col0\" >0.003502</td>\n",
              "                        <td id=\"T_a66cb3a6_c7f1_11eb_a50b_0242ac1c0002row1_col1\" class=\"data row1 col1\" >1.000000</td>\n",
              "                        <td id=\"T_a66cb3a6_c7f1_11eb_a50b_0242ac1c0002row1_col2\" class=\"data row1 col2\" >0.499033</td>\n",
              "                        <td id=\"T_a66cb3a6_c7f1_11eb_a50b_0242ac1c0002row1_col3\" class=\"data row1 col3\" >0.155406</td>\n",
              "                        <td id=\"T_a66cb3a6_c7f1_11eb_a50b_0242ac1c0002row1_col4\" class=\"data row1 col4\" >0.006005</td>\n",
              "                        <td id=\"T_a66cb3a6_c7f1_11eb_a50b_0242ac1c0002row1_col5\" class=\"data row1 col5\" >0.015254</td>\n",
              "                        <td id=\"T_a66cb3a6_c7f1_11eb_a50b_0242ac1c0002row1_col6\" class=\"data row1 col6\" >-0.035821</td>\n",
              "                        <td id=\"T_a66cb3a6_c7f1_11eb_a50b_0242ac1c0002row1_col7\" class=\"data row1 col7\" >-0.020491</td>\n",
              "                        <td id=\"T_a66cb3a6_c7f1_11eb_a50b_0242ac1c0002row1_col8\" class=\"data row1 col8\" >0.338135</td>\n",
              "                        <td id=\"T_a66cb3a6_c7f1_11eb_a50b_0242ac1c0002row1_col9\" class=\"data row1 col9\" >0.170966</td>\n",
              "                        <td id=\"T_a66cb3a6_c7f1_11eb_a50b_0242ac1c0002row1_col10\" class=\"data row1 col10\" >0.005866</td>\n",
              "                        <td id=\"T_a66cb3a6_c7f1_11eb_a50b_0242ac1c0002row1_col11\" class=\"data row1 col11\" >0.008109</td>\n",
              "                        <td id=\"T_a66cb3a6_c7f1_11eb_a50b_0242ac1c0002row1_col12\" class=\"data row1 col12\" >-0.096533</td>\n",
              "                        <td id=\"T_a66cb3a6_c7f1_11eb_a50b_0242ac1c0002row1_col13\" class=\"data row1 col13\" >-0.022812</td>\n",
              "                        <td id=\"T_a66cb3a6_c7f1_11eb_a50b_0242ac1c0002row1_col14\" class=\"data row1 col14\" >-0.110007</td>\n",
              "            </tr>\n",
              "            <tr>\n",
              "                        <th id=\"T_a66cb3a6_c7f1_11eb_a50b_0242ac1c0002level0_row2\" class=\"row_heading level0 row2\" >height</th>\n",
              "                        <td id=\"T_a66cb3a6_c7f1_11eb_a50b_0242ac1c0002row2_col0\" class=\"data row2 col0\" >-0.003038</td>\n",
              "                        <td id=\"T_a66cb3a6_c7f1_11eb_a50b_0242ac1c0002row2_col1\" class=\"data row2 col1\" >0.499033</td>\n",
              "                        <td id=\"T_a66cb3a6_c7f1_11eb_a50b_0242ac1c0002row2_col2\" class=\"data row2 col2\" >1.000000</td>\n",
              "                        <td id=\"T_a66cb3a6_c7f1_11eb_a50b_0242ac1c0002row2_col3\" class=\"data row2 col3\" >0.290968</td>\n",
              "                        <td id=\"T_a66cb3a6_c7f1_11eb_a50b_0242ac1c0002row2_col4\" class=\"data row2 col4\" >0.005488</td>\n",
              "                        <td id=\"T_a66cb3a6_c7f1_11eb_a50b_0242ac1c0002row2_col5\" class=\"data row2 col5\" >0.006150</td>\n",
              "                        <td id=\"T_a66cb3a6_c7f1_11eb_a50b_0242ac1c0002row2_col6\" class=\"data row2 col6\" >-0.050226</td>\n",
              "                        <td id=\"T_a66cb3a6_c7f1_11eb_a50b_0242ac1c0002row2_col7\" class=\"data row2 col7\" >-0.018595</td>\n",
              "                        <td id=\"T_a66cb3a6_c7f1_11eb_a50b_0242ac1c0002row2_col8\" class=\"data row2 col8\" >0.187989</td>\n",
              "                        <td id=\"T_a66cb3a6_c7f1_11eb_a50b_0242ac1c0002row2_col9\" class=\"data row2 col9\" >0.094419</td>\n",
              "                        <td id=\"T_a66cb3a6_c7f1_11eb_a50b_0242ac1c0002row2_col10\" class=\"data row2 col10\" >-0.006570</td>\n",
              "                        <td id=\"T_a66cb3a6_c7f1_11eb_a50b_0242ac1c0002row2_col11\" class=\"data row2 col11\" >-0.010821</td>\n",
              "                        <td id=\"T_a66cb3a6_c7f1_11eb_a50b_0242ac1c0002row2_col12\" class=\"data row2 col12\" >-0.290642</td>\n",
              "                        <td id=\"T_a66cb3a6_c7f1_11eb_a50b_0242ac1c0002row2_col13\" class=\"data row2 col13\" >-0.081516</td>\n",
              "                        <td id=\"T_a66cb3a6_c7f1_11eb_a50b_0242ac1c0002row2_col14\" class=\"data row2 col14\" >-0.189375</td>\n",
              "            </tr>\n",
              "            <tr>\n",
              "                        <th id=\"T_a66cb3a6_c7f1_11eb_a50b_0242ac1c0002level0_row3\" class=\"row_heading level0 row3\" >weight</th>\n",
              "                        <td id=\"T_a66cb3a6_c7f1_11eb_a50b_0242ac1c0002row3_col0\" class=\"data row3 col0\" >-0.001830</td>\n",
              "                        <td id=\"T_a66cb3a6_c7f1_11eb_a50b_0242ac1c0002row3_col1\" class=\"data row3 col1\" >0.155406</td>\n",
              "                        <td id=\"T_a66cb3a6_c7f1_11eb_a50b_0242ac1c0002row3_col2\" class=\"data row3 col2\" >0.290968</td>\n",
              "                        <td id=\"T_a66cb3a6_c7f1_11eb_a50b_0242ac1c0002row3_col3\" class=\"data row3 col3\" >1.000000</td>\n",
              "                        <td id=\"T_a66cb3a6_c7f1_11eb_a50b_0242ac1c0002row3_col4\" class=\"data row3 col4\" >0.030702</td>\n",
              "                        <td id=\"T_a66cb3a6_c7f1_11eb_a50b_0242ac1c0002row3_col5\" class=\"data row3 col5\" >0.043710</td>\n",
              "                        <td id=\"T_a66cb3a6_c7f1_11eb_a50b_0242ac1c0002row3_col6\" class=\"data row3 col6\" >0.141768</td>\n",
              "                        <td id=\"T_a66cb3a6_c7f1_11eb_a50b_0242ac1c0002row3_col7\" class=\"data row3 col7\" >0.106857</td>\n",
              "                        <td id=\"T_a66cb3a6_c7f1_11eb_a50b_0242ac1c0002row3_col8\" class=\"data row3 col8\" >0.067780</td>\n",
              "                        <td id=\"T_a66cb3a6_c7f1_11eb_a50b_0242ac1c0002row3_col9\" class=\"data row3 col9\" >0.067113</td>\n",
              "                        <td id=\"T_a66cb3a6_c7f1_11eb_a50b_0242ac1c0002row3_col10\" class=\"data row3 col10\" >-0.016867</td>\n",
              "                        <td id=\"T_a66cb3a6_c7f1_11eb_a50b_0242ac1c0002row3_col11\" class=\"data row3 col11\" >0.181660</td>\n",
              "                        <td id=\"T_a66cb3a6_c7f1_11eb_a50b_0242ac1c0002row3_col12\" class=\"data row3 col12\" >0.762003</td>\n",
              "                        <td id=\"T_a66cb3a6_c7f1_11eb_a50b_0242ac1c0002row3_col13\" class=\"data row3 col13\" >0.053682</td>\n",
              "                        <td id=\"T_a66cb3a6_c7f1_11eb_a50b_0242ac1c0002row3_col14\" class=\"data row3 col14\" >0.675777</td>\n",
              "            </tr>\n",
              "            <tr>\n",
              "                        <th id=\"T_a66cb3a6_c7f1_11eb_a50b_0242ac1c0002level0_row4\" class=\"row_heading level0 row4\" >ap_hi</th>\n",
              "                        <td id=\"T_a66cb3a6_c7f1_11eb_a50b_0242ac1c0002row4_col0\" class=\"data row4 col0\" >0.003356</td>\n",
              "                        <td id=\"T_a66cb3a6_c7f1_11eb_a50b_0242ac1c0002row4_col1\" class=\"data row4 col1\" >0.006005</td>\n",
              "                        <td id=\"T_a66cb3a6_c7f1_11eb_a50b_0242ac1c0002row4_col2\" class=\"data row4 col2\" >0.005488</td>\n",
              "                        <td id=\"T_a66cb3a6_c7f1_11eb_a50b_0242ac1c0002row4_col3\" class=\"data row4 col3\" >0.030702</td>\n",
              "                        <td id=\"T_a66cb3a6_c7f1_11eb_a50b_0242ac1c0002row4_col4\" class=\"data row4 col4\" >1.000000</td>\n",
              "                        <td id=\"T_a66cb3a6_c7f1_11eb_a50b_0242ac1c0002row4_col5\" class=\"data row4 col5\" >0.016086</td>\n",
              "                        <td id=\"T_a66cb3a6_c7f1_11eb_a50b_0242ac1c0002row4_col6\" class=\"data row4 col6\" >0.023778</td>\n",
              "                        <td id=\"T_a66cb3a6_c7f1_11eb_a50b_0242ac1c0002row4_col7\" class=\"data row4 col7\" >0.011841</td>\n",
              "                        <td id=\"T_a66cb3a6_c7f1_11eb_a50b_0242ac1c0002row4_col8\" class=\"data row4 col8\" >-0.000922</td>\n",
              "                        <td id=\"T_a66cb3a6_c7f1_11eb_a50b_0242ac1c0002row4_col9\" class=\"data row4 col9\" >0.001408</td>\n",
              "                        <td id=\"T_a66cb3a6_c7f1_11eb_a50b_0242ac1c0002row4_col10\" class=\"data row4 col10\" >-0.000033</td>\n",
              "                        <td id=\"T_a66cb3a6_c7f1_11eb_a50b_0242ac1c0002row4_col11\" class=\"data row4 col11\" >0.054475</td>\n",
              "                        <td id=\"T_a66cb3a6_c7f1_11eb_a50b_0242ac1c0002row4_col12\" class=\"data row4 col12\" >0.024851</td>\n",
              "                        <td id=\"T_a66cb3a6_c7f1_11eb_a50b_0242ac1c0002row4_col13\" class=\"data row4 col13\" >0.020764</td>\n",
              "                        <td id=\"T_a66cb3a6_c7f1_11eb_a50b_0242ac1c0002row4_col14\" class=\"data row4 col14\" >0.022592</td>\n",
              "            </tr>\n",
              "            <tr>\n",
              "                        <th id=\"T_a66cb3a6_c7f1_11eb_a50b_0242ac1c0002level0_row5\" class=\"row_heading level0 row5\" >ap_lo</th>\n",
              "                        <td id=\"T_a66cb3a6_c7f1_11eb_a50b_0242ac1c0002row5_col0\" class=\"data row5 col0\" >-0.002529</td>\n",
              "                        <td id=\"T_a66cb3a6_c7f1_11eb_a50b_0242ac1c0002row5_col1\" class=\"data row5 col1\" >0.015254</td>\n",
              "                        <td id=\"T_a66cb3a6_c7f1_11eb_a50b_0242ac1c0002row5_col2\" class=\"data row5 col2\" >0.006150</td>\n",
              "                        <td id=\"T_a66cb3a6_c7f1_11eb_a50b_0242ac1c0002row5_col3\" class=\"data row5 col3\" >0.043710</td>\n",
              "                        <td id=\"T_a66cb3a6_c7f1_11eb_a50b_0242ac1c0002row5_col4\" class=\"data row5 col4\" >0.016086</td>\n",
              "                        <td id=\"T_a66cb3a6_c7f1_11eb_a50b_0242ac1c0002row5_col5\" class=\"data row5 col5\" >1.000000</td>\n",
              "                        <td id=\"T_a66cb3a6_c7f1_11eb_a50b_0242ac1c0002row5_col6\" class=\"data row5 col6\" >0.024019</td>\n",
              "                        <td id=\"T_a66cb3a6_c7f1_11eb_a50b_0242ac1c0002row5_col7\" class=\"data row5 col7\" >0.010806</td>\n",
              "                        <td id=\"T_a66cb3a6_c7f1_11eb_a50b_0242ac1c0002row5_col8\" class=\"data row5 col8\" >0.005186</td>\n",
              "                        <td id=\"T_a66cb3a6_c7f1_11eb_a50b_0242ac1c0002row5_col9\" class=\"data row5 col9\" >0.010601</td>\n",
              "                        <td id=\"T_a66cb3a6_c7f1_11eb_a50b_0242ac1c0002row5_col10\" class=\"data row5 col10\" >0.004780</td>\n",
              "                        <td id=\"T_a66cb3a6_c7f1_11eb_a50b_0242ac1c0002row5_col11\" class=\"data row5 col11\" >0.065719</td>\n",
              "                        <td id=\"T_a66cb3a6_c7f1_11eb_a50b_0242ac1c0002row5_col12\" class=\"data row5 col12\" >0.035344</td>\n",
              "                        <td id=\"T_a66cb3a6_c7f1_11eb_a50b_0242ac1c0002row5_col13\" class=\"data row5 col13\" >0.017647</td>\n",
              "                        <td id=\"T_a66cb3a6_c7f1_11eb_a50b_0242ac1c0002row5_col14\" class=\"data row5 col14\" >0.033401</td>\n",
              "            </tr>\n",
              "            <tr>\n",
              "                        <th id=\"T_a66cb3a6_c7f1_11eb_a50b_0242ac1c0002level0_row6\" class=\"row_heading level0 row6\" >cholesterol</th>\n",
              "                        <td id=\"T_a66cb3a6_c7f1_11eb_a50b_0242ac1c0002row6_col0\" class=\"data row6 col0\" >0.006106</td>\n",
              "                        <td id=\"T_a66cb3a6_c7f1_11eb_a50b_0242ac1c0002row6_col1\" class=\"data row6 col1\" >-0.035821</td>\n",
              "                        <td id=\"T_a66cb3a6_c7f1_11eb_a50b_0242ac1c0002row6_col2\" class=\"data row6 col2\" >-0.050226</td>\n",
              "                        <td id=\"T_a66cb3a6_c7f1_11eb_a50b_0242ac1c0002row6_col3\" class=\"data row6 col3\" >0.141768</td>\n",
              "                        <td id=\"T_a66cb3a6_c7f1_11eb_a50b_0242ac1c0002row6_col4\" class=\"data row6 col4\" >0.023778</td>\n",
              "                        <td id=\"T_a66cb3a6_c7f1_11eb_a50b_0242ac1c0002row6_col5\" class=\"data row6 col5\" >0.024019</td>\n",
              "                        <td id=\"T_a66cb3a6_c7f1_11eb_a50b_0242ac1c0002row6_col6\" class=\"data row6 col6\" >1.000000</td>\n",
              "                        <td id=\"T_a66cb3a6_c7f1_11eb_a50b_0242ac1c0002row6_col7\" class=\"data row6 col7\" >0.451578</td>\n",
              "                        <td id=\"T_a66cb3a6_c7f1_11eb_a50b_0242ac1c0002row6_col8\" class=\"data row6 col8\" >0.010354</td>\n",
              "                        <td id=\"T_a66cb3a6_c7f1_11eb_a50b_0242ac1c0002row6_col9\" class=\"data row6 col9\" >0.035760</td>\n",
              "                        <td id=\"T_a66cb3a6_c7f1_11eb_a50b_0242ac1c0002row6_col10\" class=\"data row6 col10\" >0.009911</td>\n",
              "                        <td id=\"T_a66cb3a6_c7f1_11eb_a50b_0242ac1c0002row6_col11\" class=\"data row6 col11\" >0.221147</td>\n",
              "                        <td id=\"T_a66cb3a6_c7f1_11eb_a50b_0242ac1c0002row6_col12\" class=\"data row6 col12\" >0.146268</td>\n",
              "                        <td id=\"T_a66cb3a6_c7f1_11eb_a50b_0242ac1c0002row6_col13\" class=\"data row6 col13\" >0.154426</td>\n",
              "                        <td id=\"T_a66cb3a6_c7f1_11eb_a50b_0242ac1c0002row6_col14\" class=\"data row6 col14\" >0.155228</td>\n",
              "            </tr>\n",
              "            <tr>\n",
              "                        <th id=\"T_a66cb3a6_c7f1_11eb_a50b_0242ac1c0002level0_row7\" class=\"row_heading level0 row7\" >gluc</th>\n",
              "                        <td id=\"T_a66cb3a6_c7f1_11eb_a50b_0242ac1c0002row7_col0\" class=\"data row7 col0\" >0.002467</td>\n",
              "                        <td id=\"T_a66cb3a6_c7f1_11eb_a50b_0242ac1c0002row7_col1\" class=\"data row7 col1\" >-0.020491</td>\n",
              "                        <td id=\"T_a66cb3a6_c7f1_11eb_a50b_0242ac1c0002row7_col2\" class=\"data row7 col2\" >-0.018595</td>\n",
              "                        <td id=\"T_a66cb3a6_c7f1_11eb_a50b_0242ac1c0002row7_col3\" class=\"data row7 col3\" >0.106857</td>\n",
              "                        <td id=\"T_a66cb3a6_c7f1_11eb_a50b_0242ac1c0002row7_col4\" class=\"data row7 col4\" >0.011841</td>\n",
              "                        <td id=\"T_a66cb3a6_c7f1_11eb_a50b_0242ac1c0002row7_col5\" class=\"data row7 col5\" >0.010806</td>\n",
              "                        <td id=\"T_a66cb3a6_c7f1_11eb_a50b_0242ac1c0002row7_col6\" class=\"data row7 col6\" >0.451578</td>\n",
              "                        <td id=\"T_a66cb3a6_c7f1_11eb_a50b_0242ac1c0002row7_col7\" class=\"data row7 col7\" >1.000000</td>\n",
              "                        <td id=\"T_a66cb3a6_c7f1_11eb_a50b_0242ac1c0002row7_col8\" class=\"data row7 col8\" >-0.004756</td>\n",
              "                        <td id=\"T_a66cb3a6_c7f1_11eb_a50b_0242ac1c0002row7_col9\" class=\"data row7 col9\" >0.011246</td>\n",
              "                        <td id=\"T_a66cb3a6_c7f1_11eb_a50b_0242ac1c0002row7_col10\" class=\"data row7 col10\" >-0.006770</td>\n",
              "                        <td id=\"T_a66cb3a6_c7f1_11eb_a50b_0242ac1c0002row7_col11\" class=\"data row7 col11\" >0.089307</td>\n",
              "                        <td id=\"T_a66cb3a6_c7f1_11eb_a50b_0242ac1c0002row7_col12\" class=\"data row7 col12\" >0.101393</td>\n",
              "                        <td id=\"T_a66cb3a6_c7f1_11eb_a50b_0242ac1c0002row7_col13\" class=\"data row7 col13\" >0.098703</td>\n",
              "                        <td id=\"T_a66cb3a6_c7f1_11eb_a50b_0242ac1c0002row7_col14\" class=\"data row7 col14\" >0.106888</td>\n",
              "            </tr>\n",
              "            <tr>\n",
              "                        <th id=\"T_a66cb3a6_c7f1_11eb_a50b_0242ac1c0002level0_row8\" class=\"row_heading level0 row8\" >smoke</th>\n",
              "                        <td id=\"T_a66cb3a6_c7f1_11eb_a50b_0242ac1c0002row8_col0\" class=\"data row8 col0\" >-0.003699</td>\n",
              "                        <td id=\"T_a66cb3a6_c7f1_11eb_a50b_0242ac1c0002row8_col1\" class=\"data row8 col1\" >0.338135</td>\n",
              "                        <td id=\"T_a66cb3a6_c7f1_11eb_a50b_0242ac1c0002row8_col2\" class=\"data row8 col2\" >0.187989</td>\n",
              "                        <td id=\"T_a66cb3a6_c7f1_11eb_a50b_0242ac1c0002row8_col3\" class=\"data row8 col3\" >0.067780</td>\n",
              "                        <td id=\"T_a66cb3a6_c7f1_11eb_a50b_0242ac1c0002row8_col4\" class=\"data row8 col4\" >-0.000922</td>\n",
              "                        <td id=\"T_a66cb3a6_c7f1_11eb_a50b_0242ac1c0002row8_col5\" class=\"data row8 col5\" >0.005186</td>\n",
              "                        <td id=\"T_a66cb3a6_c7f1_11eb_a50b_0242ac1c0002row8_col6\" class=\"data row8 col6\" >0.010354</td>\n",
              "                        <td id=\"T_a66cb3a6_c7f1_11eb_a50b_0242ac1c0002row8_col7\" class=\"data row8 col7\" >-0.004756</td>\n",
              "                        <td id=\"T_a66cb3a6_c7f1_11eb_a50b_0242ac1c0002row8_col8\" class=\"data row8 col8\" >1.000000</td>\n",
              "                        <td id=\"T_a66cb3a6_c7f1_11eb_a50b_0242ac1c0002row8_col9\" class=\"data row8 col9\" >0.340094</td>\n",
              "                        <td id=\"T_a66cb3a6_c7f1_11eb_a50b_0242ac1c0002row8_col10\" class=\"data row8 col10\" >0.025858</td>\n",
              "                        <td id=\"T_a66cb3a6_c7f1_11eb_a50b_0242ac1c0002row8_col11\" class=\"data row8 col11\" >-0.015486</td>\n",
              "                        <td id=\"T_a66cb3a6_c7f1_11eb_a50b_0242ac1c0002row8_col12\" class=\"data row8 col12\" >-0.027219</td>\n",
              "                        <td id=\"T_a66cb3a6_c7f1_11eb_a50b_0242ac1c0002row8_col13\" class=\"data row8 col13\" >-0.047632</td>\n",
              "                        <td id=\"T_a66cb3a6_c7f1_11eb_a50b_0242ac1c0002row8_col14\" class=\"data row8 col14\" >-0.028854</td>\n",
              "            </tr>\n",
              "            <tr>\n",
              "                        <th id=\"T_a66cb3a6_c7f1_11eb_a50b_0242ac1c0002level0_row9\" class=\"row_heading level0 row9\" >alco</th>\n",
              "                        <td id=\"T_a66cb3a6_c7f1_11eb_a50b_0242ac1c0002row9_col0\" class=\"data row9 col0\" >0.001210</td>\n",
              "                        <td id=\"T_a66cb3a6_c7f1_11eb_a50b_0242ac1c0002row9_col1\" class=\"data row9 col1\" >0.170966</td>\n",
              "                        <td id=\"T_a66cb3a6_c7f1_11eb_a50b_0242ac1c0002row9_col2\" class=\"data row9 col2\" >0.094419</td>\n",
              "                        <td id=\"T_a66cb3a6_c7f1_11eb_a50b_0242ac1c0002row9_col3\" class=\"data row9 col3\" >0.067113</td>\n",
              "                        <td id=\"T_a66cb3a6_c7f1_11eb_a50b_0242ac1c0002row9_col4\" class=\"data row9 col4\" >0.001408</td>\n",
              "                        <td id=\"T_a66cb3a6_c7f1_11eb_a50b_0242ac1c0002row9_col5\" class=\"data row9 col5\" >0.010601</td>\n",
              "                        <td id=\"T_a66cb3a6_c7f1_11eb_a50b_0242ac1c0002row9_col6\" class=\"data row9 col6\" >0.035760</td>\n",
              "                        <td id=\"T_a66cb3a6_c7f1_11eb_a50b_0242ac1c0002row9_col7\" class=\"data row9 col7\" >0.011246</td>\n",
              "                        <td id=\"T_a66cb3a6_c7f1_11eb_a50b_0242ac1c0002row9_col8\" class=\"data row9 col8\" >0.340094</td>\n",
              "                        <td id=\"T_a66cb3a6_c7f1_11eb_a50b_0242ac1c0002row9_col9\" class=\"data row9 col9\" >1.000000</td>\n",
              "                        <td id=\"T_a66cb3a6_c7f1_11eb_a50b_0242ac1c0002row9_col10\" class=\"data row9 col10\" >0.025476</td>\n",
              "                        <td id=\"T_a66cb3a6_c7f1_11eb_a50b_0242ac1c0002row9_col11\" class=\"data row9 col11\" >-0.007330</td>\n",
              "                        <td id=\"T_a66cb3a6_c7f1_11eb_a50b_0242ac1c0002row9_col12\" class=\"data row9 col12\" >0.014389</td>\n",
              "                        <td id=\"T_a66cb3a6_c7f1_11eb_a50b_0242ac1c0002row9_col13\" class=\"data row9 col13\" >-0.029724</td>\n",
              "                        <td id=\"T_a66cb3a6_c7f1_11eb_a50b_0242ac1c0002row9_col14\" class=\"data row9 col14\" >0.014483</td>\n",
              "            </tr>\n",
              "            <tr>\n",
              "                        <th id=\"T_a66cb3a6_c7f1_11eb_a50b_0242ac1c0002level0_row10\" class=\"row_heading level0 row10\" >active</th>\n",
              "                        <td id=\"T_a66cb3a6_c7f1_11eb_a50b_0242ac1c0002row10_col0\" class=\"data row10 col0\" >0.003755</td>\n",
              "                        <td id=\"T_a66cb3a6_c7f1_11eb_a50b_0242ac1c0002row10_col1\" class=\"data row10 col1\" >0.005866</td>\n",
              "                        <td id=\"T_a66cb3a6_c7f1_11eb_a50b_0242ac1c0002row10_col2\" class=\"data row10 col2\" >-0.006570</td>\n",
              "                        <td id=\"T_a66cb3a6_c7f1_11eb_a50b_0242ac1c0002row10_col3\" class=\"data row10 col3\" >-0.016867</td>\n",
              "                        <td id=\"T_a66cb3a6_c7f1_11eb_a50b_0242ac1c0002row10_col4\" class=\"data row10 col4\" >-0.000033</td>\n",
              "                        <td id=\"T_a66cb3a6_c7f1_11eb_a50b_0242ac1c0002row10_col5\" class=\"data row10 col5\" >0.004780</td>\n",
              "                        <td id=\"T_a66cb3a6_c7f1_11eb_a50b_0242ac1c0002row10_col6\" class=\"data row10 col6\" >0.009911</td>\n",
              "                        <td id=\"T_a66cb3a6_c7f1_11eb_a50b_0242ac1c0002row10_col7\" class=\"data row10 col7\" >-0.006770</td>\n",
              "                        <td id=\"T_a66cb3a6_c7f1_11eb_a50b_0242ac1c0002row10_col8\" class=\"data row10 col8\" >0.025858</td>\n",
              "                        <td id=\"T_a66cb3a6_c7f1_11eb_a50b_0242ac1c0002row10_col9\" class=\"data row10 col9\" >0.025476</td>\n",
              "                        <td id=\"T_a66cb3a6_c7f1_11eb_a50b_0242ac1c0002row10_col10\" class=\"data row10 col10\" >1.000000</td>\n",
              "                        <td id=\"T_a66cb3a6_c7f1_11eb_a50b_0242ac1c0002row10_col11\" class=\"data row10 col11\" >-0.035653</td>\n",
              "                        <td id=\"T_a66cb3a6_c7f1_11eb_a50b_0242ac1c0002row10_col12\" class=\"data row10 col12\" >-0.014266</td>\n",
              "                        <td id=\"T_a66cb3a6_c7f1_11eb_a50b_0242ac1c0002row10_col13\" class=\"data row10 col13\" >-0.009925</td>\n",
              "                        <td id=\"T_a66cb3a6_c7f1_11eb_a50b_0242ac1c0002row10_col14\" class=\"data row10 col14\" >-0.012073</td>\n",
              "            </tr>\n",
              "            <tr>\n",
              "                        <th id=\"T_a66cb3a6_c7f1_11eb_a50b_0242ac1c0002level0_row11\" class=\"row_heading level0 row11\" >cardio</th>\n",
              "                        <td id=\"T_a66cb3a6_c7f1_11eb_a50b_0242ac1c0002row11_col0\" class=\"data row11 col0\" >0.003799</td>\n",
              "                        <td id=\"T_a66cb3a6_c7f1_11eb_a50b_0242ac1c0002row11_col1\" class=\"data row11 col1\" >0.008109</td>\n",
              "                        <td id=\"T_a66cb3a6_c7f1_11eb_a50b_0242ac1c0002row11_col2\" class=\"data row11 col2\" >-0.010821</td>\n",
              "                        <td id=\"T_a66cb3a6_c7f1_11eb_a50b_0242ac1c0002row11_col3\" class=\"data row11 col3\" >0.181660</td>\n",
              "                        <td id=\"T_a66cb3a6_c7f1_11eb_a50b_0242ac1c0002row11_col4\" class=\"data row11 col4\" >0.054475</td>\n",
              "                        <td id=\"T_a66cb3a6_c7f1_11eb_a50b_0242ac1c0002row11_col5\" class=\"data row11 col5\" >0.065719</td>\n",
              "                        <td id=\"T_a66cb3a6_c7f1_11eb_a50b_0242ac1c0002row11_col6\" class=\"data row11 col6\" >0.221147</td>\n",
              "                        <td id=\"T_a66cb3a6_c7f1_11eb_a50b_0242ac1c0002row11_col7\" class=\"data row11 col7\" >0.089307</td>\n",
              "                        <td id=\"T_a66cb3a6_c7f1_11eb_a50b_0242ac1c0002row11_col8\" class=\"data row11 col8\" >-0.015486</td>\n",
              "                        <td id=\"T_a66cb3a6_c7f1_11eb_a50b_0242ac1c0002row11_col9\" class=\"data row11 col9\" >-0.007330</td>\n",
              "                        <td id=\"T_a66cb3a6_c7f1_11eb_a50b_0242ac1c0002row11_col10\" class=\"data row11 col10\" >-0.035653</td>\n",
              "                        <td id=\"T_a66cb3a6_c7f1_11eb_a50b_0242ac1c0002row11_col11\" class=\"data row11 col11\" >1.000000</td>\n",
              "                        <td id=\"T_a66cb3a6_c7f1_11eb_a50b_0242ac1c0002row11_col12\" class=\"data row11 col12\" >0.165633</td>\n",
              "                        <td id=\"T_a66cb3a6_c7f1_11eb_a50b_0242ac1c0002row11_col13\" class=\"data row11 col13\" >0.238159</td>\n",
              "                        <td id=\"T_a66cb3a6_c7f1_11eb_a50b_0242ac1c0002row11_col14\" class=\"data row11 col14\" >0.156804</td>\n",
              "            </tr>\n",
              "            <tr>\n",
              "                        <th id=\"T_a66cb3a6_c7f1_11eb_a50b_0242ac1c0002level0_row12\" class=\"row_heading level0 row12\" >bmi</th>\n",
              "                        <td id=\"T_a66cb3a6_c7f1_11eb_a50b_0242ac1c0002row12_col0\" class=\"data row12 col0\" >-0.001378</td>\n",
              "                        <td id=\"T_a66cb3a6_c7f1_11eb_a50b_0242ac1c0002row12_col1\" class=\"data row12 col1\" >-0.096533</td>\n",
              "                        <td id=\"T_a66cb3a6_c7f1_11eb_a50b_0242ac1c0002row12_col2\" class=\"data row12 col2\" >-0.290642</td>\n",
              "                        <td id=\"T_a66cb3a6_c7f1_11eb_a50b_0242ac1c0002row12_col3\" class=\"data row12 col3\" >0.762003</td>\n",
              "                        <td id=\"T_a66cb3a6_c7f1_11eb_a50b_0242ac1c0002row12_col4\" class=\"data row12 col4\" >0.024851</td>\n",
              "                        <td id=\"T_a66cb3a6_c7f1_11eb_a50b_0242ac1c0002row12_col5\" class=\"data row12 col5\" >0.035344</td>\n",
              "                        <td id=\"T_a66cb3a6_c7f1_11eb_a50b_0242ac1c0002row12_col6\" class=\"data row12 col6\" >0.146268</td>\n",
              "                        <td id=\"T_a66cb3a6_c7f1_11eb_a50b_0242ac1c0002row12_col7\" class=\"data row12 col7\" >0.101393</td>\n",
              "                        <td id=\"T_a66cb3a6_c7f1_11eb_a50b_0242ac1c0002row12_col8\" class=\"data row12 col8\" >-0.027219</td>\n",
              "                        <td id=\"T_a66cb3a6_c7f1_11eb_a50b_0242ac1c0002row12_col9\" class=\"data row12 col9\" >0.014389</td>\n",
              "                        <td id=\"T_a66cb3a6_c7f1_11eb_a50b_0242ac1c0002row12_col10\" class=\"data row12 col10\" >-0.014266</td>\n",
              "                        <td id=\"T_a66cb3a6_c7f1_11eb_a50b_0242ac1c0002row12_col11\" class=\"data row12 col11\" >0.165633</td>\n",
              "                        <td id=\"T_a66cb3a6_c7f1_11eb_a50b_0242ac1c0002row12_col12\" class=\"data row12 col12\" >1.000000</td>\n",
              "                        <td id=\"T_a66cb3a6_c7f1_11eb_a50b_0242ac1c0002row12_col13\" class=\"data row12 col13\" >0.085510</td>\n",
              "                        <td id=\"T_a66cb3a6_c7f1_11eb_a50b_0242ac1c0002row12_col14\" class=\"data row12 col14\" >0.704168</td>\n",
              "            </tr>\n",
              "            <tr>\n",
              "                        <th id=\"T_a66cb3a6_c7f1_11eb_a50b_0242ac1c0002level0_row13\" class=\"row_heading level0 row13\" >age_y</th>\n",
              "                        <td id=\"T_a66cb3a6_c7f1_11eb_a50b_0242ac1c0002row13_col0\" class=\"data row13 col0\" >0.003457</td>\n",
              "                        <td id=\"T_a66cb3a6_c7f1_11eb_a50b_0242ac1c0002row13_col1\" class=\"data row13 col1\" >-0.022812</td>\n",
              "                        <td id=\"T_a66cb3a6_c7f1_11eb_a50b_0242ac1c0002row13_col2\" class=\"data row13 col2\" >-0.081516</td>\n",
              "                        <td id=\"T_a66cb3a6_c7f1_11eb_a50b_0242ac1c0002row13_col3\" class=\"data row13 col3\" >0.053682</td>\n",
              "                        <td id=\"T_a66cb3a6_c7f1_11eb_a50b_0242ac1c0002row13_col4\" class=\"data row13 col4\" >0.020764</td>\n",
              "                        <td id=\"T_a66cb3a6_c7f1_11eb_a50b_0242ac1c0002row13_col5\" class=\"data row13 col5\" >0.017647</td>\n",
              "                        <td id=\"T_a66cb3a6_c7f1_11eb_a50b_0242ac1c0002row13_col6\" class=\"data row13 col6\" >0.154426</td>\n",
              "                        <td id=\"T_a66cb3a6_c7f1_11eb_a50b_0242ac1c0002row13_col7\" class=\"data row13 col7\" >0.098703</td>\n",
              "                        <td id=\"T_a66cb3a6_c7f1_11eb_a50b_0242ac1c0002row13_col8\" class=\"data row13 col8\" >-0.047632</td>\n",
              "                        <td id=\"T_a66cb3a6_c7f1_11eb_a50b_0242ac1c0002row13_col9\" class=\"data row13 col9\" >-0.029724</td>\n",
              "                        <td id=\"T_a66cb3a6_c7f1_11eb_a50b_0242ac1c0002row13_col10\" class=\"data row13 col10\" >-0.009925</td>\n",
              "                        <td id=\"T_a66cb3a6_c7f1_11eb_a50b_0242ac1c0002row13_col11\" class=\"data row13 col11\" >0.238159</td>\n",
              "                        <td id=\"T_a66cb3a6_c7f1_11eb_a50b_0242ac1c0002row13_col12\" class=\"data row13 col12\" >0.085510</td>\n",
              "                        <td id=\"T_a66cb3a6_c7f1_11eb_a50b_0242ac1c0002row13_col13\" class=\"data row13 col13\" >1.000000</td>\n",
              "                        <td id=\"T_a66cb3a6_c7f1_11eb_a50b_0242ac1c0002row13_col14\" class=\"data row13 col14\" >0.081354</td>\n",
              "            </tr>\n",
              "            <tr>\n",
              "                        <th id=\"T_a66cb3a6_c7f1_11eb_a50b_0242ac1c0002level0_row14\" class=\"row_heading level0 row14\" >bmi_high</th>\n",
              "                        <td id=\"T_a66cb3a6_c7f1_11eb_a50b_0242ac1c0002row14_col0\" class=\"data row14 col0\" >0.002849</td>\n",
              "                        <td id=\"T_a66cb3a6_c7f1_11eb_a50b_0242ac1c0002row14_col1\" class=\"data row14 col1\" >-0.110007</td>\n",
              "                        <td id=\"T_a66cb3a6_c7f1_11eb_a50b_0242ac1c0002row14_col2\" class=\"data row14 col2\" >-0.189375</td>\n",
              "                        <td id=\"T_a66cb3a6_c7f1_11eb_a50b_0242ac1c0002row14_col3\" class=\"data row14 col3\" >0.675777</td>\n",
              "                        <td id=\"T_a66cb3a6_c7f1_11eb_a50b_0242ac1c0002row14_col4\" class=\"data row14 col4\" >0.022592</td>\n",
              "                        <td id=\"T_a66cb3a6_c7f1_11eb_a50b_0242ac1c0002row14_col5\" class=\"data row14 col5\" >0.033401</td>\n",
              "                        <td id=\"T_a66cb3a6_c7f1_11eb_a50b_0242ac1c0002row14_col6\" class=\"data row14 col6\" >0.155228</td>\n",
              "                        <td id=\"T_a66cb3a6_c7f1_11eb_a50b_0242ac1c0002row14_col7\" class=\"data row14 col7\" >0.106888</td>\n",
              "                        <td id=\"T_a66cb3a6_c7f1_11eb_a50b_0242ac1c0002row14_col8\" class=\"data row14 col8\" >-0.028854</td>\n",
              "                        <td id=\"T_a66cb3a6_c7f1_11eb_a50b_0242ac1c0002row14_col9\" class=\"data row14 col9\" >0.014483</td>\n",
              "                        <td id=\"T_a66cb3a6_c7f1_11eb_a50b_0242ac1c0002row14_col10\" class=\"data row14 col10\" >-0.012073</td>\n",
              "                        <td id=\"T_a66cb3a6_c7f1_11eb_a50b_0242ac1c0002row14_col11\" class=\"data row14 col11\" >0.156804</td>\n",
              "                        <td id=\"T_a66cb3a6_c7f1_11eb_a50b_0242ac1c0002row14_col12\" class=\"data row14 col12\" >0.704168</td>\n",
              "                        <td id=\"T_a66cb3a6_c7f1_11eb_a50b_0242ac1c0002row14_col13\" class=\"data row14 col13\" >0.081354</td>\n",
              "                        <td id=\"T_a66cb3a6_c7f1_11eb_a50b_0242ac1c0002row14_col14\" class=\"data row14 col14\" >1.000000</td>\n",
              "            </tr>\n",
              "    </tbody></table>"
            ],
            "text/plain": [
              "<pandas.io.formats.style.Styler at 0x7f80c94758d0>"
            ]
          },
          "metadata": {
            "tags": []
          },
          "execution_count": 119
        }
      ]
    },
    {
      "cell_type": "markdown",
      "metadata": {
        "id": "OQOwK8NK-4WP"
      },
      "source": [
        "After analyzing the dataset we can infere that the best possible option for being our dependent variable is cardio that is a dummy variable. Cardio tell us if there is a presence or absence of cardiovascular disease and 0 stands for absence of cardiovascular disease and 1 stands for presence of cardiovascular disease."
      ]
    },
    {
      "cell_type": "code",
      "metadata": {
        "colab": {
          "base_uri": "https://localhost:8080/",
          "height": 319
        },
        "id": "2_KLHqVC7xZG",
        "outputId": "4dc509ec-df26-460b-ac3b-aa023b204475"
      },
      "source": [
        "#Visualizing Dummy and categorical variables and its effects on cardio\n",
        "Colunas = ('gender', 'cholesterol',\t'gluc',\t'smoke',\t'alco',\t'active',\t'bmi_high')\n",
        "fig=plt.figure(figsize=(20,20))\n",
        "j = 1\n",
        "for i in Colunas :\n",
        "  ax=fig.add_subplot(8,8,j)\n",
        "  j = j + 1\n",
        "  plt.figure(figsize=(2, 2))\n",
        "  sns.barplot(x=i,y='cardio',data=Cardio_disease2,ci=None,ax=ax)\n",
        "  fig.tight_layout()  \n",
        "plt.show()"
      ],
      "execution_count": null,
      "outputs": [
        {
          "output_type": "display_data",
          "data": {
            "image/png": "[encoded data removed]",
            "text/plain": [
              "<Figure size 1440x1440 with 7 Axes>"
            ]
          },
          "metadata": {
            "tags": []
          }
        },
        {
          "output_type": "display_data",
          "data": {
            "text/plain": [
              "<Figure size 144x144 with 0 Axes>"
            ]
          },
          "metadata": {
            "tags": []
          }
        },
        {
          "output_type": "display_data",
          "data": {
            "text/plain": [
              "<Figure size 144x144 with 0 Axes>"
            ]
          },
          "metadata": {
            "tags": []
          }
        },
        {
          "output_type": "display_data",
          "data": {
            "text/plain": [
              "<Figure size 144x144 with 0 Axes>"
            ]
          },
          "metadata": {
            "tags": []
          }
        },
        {
          "output_type": "display_data",
          "data": {
            "text/plain": [
              "<Figure size 144x144 with 0 Axes>"
            ]
          },
          "metadata": {
            "tags": []
          }
        },
        {
          "output_type": "display_data",
          "data": {
            "text/plain": [
              "<Figure size 144x144 with 0 Axes>"
            ]
          },
          "metadata": {
            "tags": []
          }
        },
        {
          "output_type": "display_data",
          "data": {
            "text/plain": [
              "<Figure size 144x144 with 0 Axes>"
            ]
          },
          "metadata": {
            "tags": []
          }
        },
        {
          "output_type": "display_data",
          "data": {
            "text/plain": [
              "<Figure size 144x144 with 0 Axes>"
            ]
          },
          "metadata": {
            "tags": []
          }
        }
      ]
    },
    {
      "cell_type": "markdown",
      "metadata": {
        "id": "GraWVn4t6THl"
      },
      "source": [
        "********************DATA TRANSFORMATION************************"
      ]
    },
    {
      "cell_type": "code",
      "metadata": {
        "colab": {
          "base_uri": "https://localhost:8080/",
          "height": 514
        },
        "id": "oPBRdD9ycxKI",
        "outputId": "e4d34438-1085-43fa-f585-ee2d08263660"
      },
      "source": [
        "#For better understanding about our dummy variable gender that takes values 1 being as female and 2 being as male its better to factorized these values into 0 and 1 where 0 stands for female and 1 as male.\n",
        "Cardio_disease2['gender_transformed'] = Cardio_disease2['gender'] - 1\n",
        "Cardio_disease2.head(15)"
      ],
      "execution_count": 8,
      "outputs": [
        {
          "output_type": "execute_result",
          "data": {
            "text/html": [
              "<div>\n",
              "<style scoped>\n",
              "    .dataframe tbody tr th:only-of-type {\n",
              "        vertical-align: middle;\n",
              "    }\n",
              "\n",
              "    .dataframe tbody tr th {\n",
              "        vertical-align: top;\n",
              "    }\n",
              "\n",
              "    .dataframe thead th {\n",
              "        text-align: right;\n",
              "    }\n",
              "</style>\n",
              "<table border=\"1\" class=\"dataframe\">\n",
              "  <thead>\n",
              "    <tr style=\"text-align: right;\">\n",
              "      <th></th>\n",
              "      <th>id</th>\n",
              "      <th>age</th>\n",
              "      <th>gender</th>\n",
              "      <th>height</th>\n",
              "      <th>weight</th>\n",
              "      <th>ap_hi</th>\n",
              "      <th>ap_lo</th>\n",
              "      <th>cholesterol</th>\n",
              "      <th>gluc</th>\n",
              "      <th>smoke</th>\n",
              "      <th>alco</th>\n",
              "      <th>active</th>\n",
              "      <th>cardio</th>\n",
              "      <th>gender_dummy</th>\n",
              "      <th>gender_transformed</th>\n",
              "    </tr>\n",
              "  </thead>\n",
              "  <tbody>\n",
              "    <tr>\n",
              "      <th>0</th>\n",
              "      <td>0</td>\n",
              "      <td>18393</td>\n",
              "      <td>2</td>\n",
              "      <td>168</td>\n",
              "      <td>62.0</td>\n",
              "      <td>110</td>\n",
              "      <td>80</td>\n",
              "      <td>1</td>\n",
              "      <td>1</td>\n",
              "      <td>0</td>\n",
              "      <td>0</td>\n",
              "      <td>1</td>\n",
              "      <td>0</td>\n",
              "      <td>1</td>\n",
              "      <td>1</td>\n",
              "    </tr>\n",
              "    <tr>\n",
              "      <th>1</th>\n",
              "      <td>1</td>\n",
              "      <td>20228</td>\n",
              "      <td>1</td>\n",
              "      <td>156</td>\n",
              "      <td>85.0</td>\n",
              "      <td>140</td>\n",
              "      <td>90</td>\n",
              "      <td>3</td>\n",
              "      <td>1</td>\n",
              "      <td>0</td>\n",
              "      <td>0</td>\n",
              "      <td>1</td>\n",
              "      <td>1</td>\n",
              "      <td>0</td>\n",
              "      <td>0</td>\n",
              "    </tr>\n",
              "    <tr>\n",
              "      <th>2</th>\n",
              "      <td>2</td>\n",
              "      <td>18857</td>\n",
              "      <td>1</td>\n",
              "      <td>165</td>\n",
              "      <td>64.0</td>\n",
              "      <td>130</td>\n",
              "      <td>70</td>\n",
              "      <td>3</td>\n",
              "      <td>1</td>\n",
              "      <td>0</td>\n",
              "      <td>0</td>\n",
              "      <td>0</td>\n",
              "      <td>1</td>\n",
              "      <td>0</td>\n",
              "      <td>0</td>\n",
              "    </tr>\n",
              "    <tr>\n",
              "      <th>3</th>\n",
              "      <td>3</td>\n",
              "      <td>17623</td>\n",
              "      <td>2</td>\n",
              "      <td>169</td>\n",
              "      <td>82.0</td>\n",
              "      <td>150</td>\n",
              "      <td>100</td>\n",
              "      <td>1</td>\n",
              "      <td>1</td>\n",
              "      <td>0</td>\n",
              "      <td>0</td>\n",
              "      <td>1</td>\n",
              "      <td>1</td>\n",
              "      <td>1</td>\n",
              "      <td>1</td>\n",
              "    </tr>\n",
              "    <tr>\n",
              "      <th>4</th>\n",
              "      <td>4</td>\n",
              "      <td>17474</td>\n",
              "      <td>1</td>\n",
              "      <td>156</td>\n",
              "      <td>56.0</td>\n",
              "      <td>100</td>\n",
              "      <td>60</td>\n",
              "      <td>1</td>\n",
              "      <td>1</td>\n",
              "      <td>0</td>\n",
              "      <td>0</td>\n",
              "      <td>0</td>\n",
              "      <td>0</td>\n",
              "      <td>0</td>\n",
              "      <td>0</td>\n",
              "    </tr>\n",
              "    <tr>\n",
              "      <th>5</th>\n",
              "      <td>8</td>\n",
              "      <td>21914</td>\n",
              "      <td>1</td>\n",
              "      <td>151</td>\n",
              "      <td>67.0</td>\n",
              "      <td>120</td>\n",
              "      <td>80</td>\n",
              "      <td>2</td>\n",
              "      <td>2</td>\n",
              "      <td>0</td>\n",
              "      <td>0</td>\n",
              "      <td>0</td>\n",
              "      <td>0</td>\n",
              "      <td>0</td>\n",
              "      <td>0</td>\n",
              "    </tr>\n",
              "    <tr>\n",
              "      <th>6</th>\n",
              "      <td>9</td>\n",
              "      <td>22113</td>\n",
              "      <td>1</td>\n",
              "      <td>157</td>\n",
              "      <td>93.0</td>\n",
              "      <td>130</td>\n",
              "      <td>80</td>\n",
              "      <td>3</td>\n",
              "      <td>1</td>\n",
              "      <td>0</td>\n",
              "      <td>0</td>\n",
              "      <td>1</td>\n",
              "      <td>0</td>\n",
              "      <td>0</td>\n",
              "      <td>0</td>\n",
              "    </tr>\n",
              "    <tr>\n",
              "      <th>7</th>\n",
              "      <td>12</td>\n",
              "      <td>22584</td>\n",
              "      <td>2</td>\n",
              "      <td>178</td>\n",
              "      <td>95.0</td>\n",
              "      <td>130</td>\n",
              "      <td>90</td>\n",
              "      <td>3</td>\n",
              "      <td>3</td>\n",
              "      <td>0</td>\n",
              "      <td>0</td>\n",
              "      <td>1</td>\n",
              "      <td>1</td>\n",
              "      <td>1</td>\n",
              "      <td>1</td>\n",
              "    </tr>\n",
              "    <tr>\n",
              "      <th>8</th>\n",
              "      <td>13</td>\n",
              "      <td>17668</td>\n",
              "      <td>1</td>\n",
              "      <td>158</td>\n",
              "      <td>71.0</td>\n",
              "      <td>110</td>\n",
              "      <td>70</td>\n",
              "      <td>1</td>\n",
              "      <td>1</td>\n",
              "      <td>0</td>\n",
              "      <td>0</td>\n",
              "      <td>1</td>\n",
              "      <td>0</td>\n",
              "      <td>0</td>\n",
              "      <td>0</td>\n",
              "    </tr>\n",
              "    <tr>\n",
              "      <th>9</th>\n",
              "      <td>14</td>\n",
              "      <td>19834</td>\n",
              "      <td>1</td>\n",
              "      <td>164</td>\n",
              "      <td>68.0</td>\n",
              "      <td>110</td>\n",
              "      <td>60</td>\n",
              "      <td>1</td>\n",
              "      <td>1</td>\n",
              "      <td>0</td>\n",
              "      <td>0</td>\n",
              "      <td>0</td>\n",
              "      <td>0</td>\n",
              "      <td>0</td>\n",
              "      <td>0</td>\n",
              "    </tr>\n",
              "    <tr>\n",
              "      <th>10</th>\n",
              "      <td>15</td>\n",
              "      <td>22530</td>\n",
              "      <td>1</td>\n",
              "      <td>169</td>\n",
              "      <td>80.0</td>\n",
              "      <td>120</td>\n",
              "      <td>80</td>\n",
              "      <td>1</td>\n",
              "      <td>1</td>\n",
              "      <td>0</td>\n",
              "      <td>0</td>\n",
              "      <td>1</td>\n",
              "      <td>0</td>\n",
              "      <td>0</td>\n",
              "      <td>0</td>\n",
              "    </tr>\n",
              "    <tr>\n",
              "      <th>11</th>\n",
              "      <td>16</td>\n",
              "      <td>18815</td>\n",
              "      <td>2</td>\n",
              "      <td>173</td>\n",
              "      <td>60.0</td>\n",
              "      <td>120</td>\n",
              "      <td>80</td>\n",
              "      <td>1</td>\n",
              "      <td>1</td>\n",
              "      <td>0</td>\n",
              "      <td>0</td>\n",
              "      <td>1</td>\n",
              "      <td>0</td>\n",
              "      <td>1</td>\n",
              "      <td>1</td>\n",
              "    </tr>\n",
              "    <tr>\n",
              "      <th>12</th>\n",
              "      <td>18</td>\n",
              "      <td>14791</td>\n",
              "      <td>2</td>\n",
              "      <td>165</td>\n",
              "      <td>60.0</td>\n",
              "      <td>120</td>\n",
              "      <td>80</td>\n",
              "      <td>1</td>\n",
              "      <td>1</td>\n",
              "      <td>0</td>\n",
              "      <td>0</td>\n",
              "      <td>0</td>\n",
              "      <td>0</td>\n",
              "      <td>1</td>\n",
              "      <td>1</td>\n",
              "    </tr>\n",
              "    <tr>\n",
              "      <th>13</th>\n",
              "      <td>21</td>\n",
              "      <td>19809</td>\n",
              "      <td>1</td>\n",
              "      <td>158</td>\n",
              "      <td>78.0</td>\n",
              "      <td>110</td>\n",
              "      <td>70</td>\n",
              "      <td>1</td>\n",
              "      <td>1</td>\n",
              "      <td>0</td>\n",
              "      <td>0</td>\n",
              "      <td>1</td>\n",
              "      <td>0</td>\n",
              "      <td>0</td>\n",
              "      <td>0</td>\n",
              "    </tr>\n",
              "    <tr>\n",
              "      <th>14</th>\n",
              "      <td>23</td>\n",
              "      <td>14532</td>\n",
              "      <td>2</td>\n",
              "      <td>181</td>\n",
              "      <td>95.0</td>\n",
              "      <td>130</td>\n",
              "      <td>90</td>\n",
              "      <td>1</td>\n",
              "      <td>1</td>\n",
              "      <td>1</td>\n",
              "      <td>1</td>\n",
              "      <td>1</td>\n",
              "      <td>0</td>\n",
              "      <td>1</td>\n",
              "      <td>1</td>\n",
              "    </tr>\n",
              "  </tbody>\n",
              "</table>\n",
              "</div>"
            ],
            "text/plain": [
              "    id    age  gender  height  ...  active  cardio  gender_dummy  gender_transformed\n",
              "0    0  18393       2     168  ...       1       0             1                   1\n",
              "1    1  20228       1     156  ...       1       1             0                   0\n",
              "2    2  18857       1     165  ...       0       1             0                   0\n",
              "3    3  17623       2     169  ...       1       1             1                   1\n",
              "4    4  17474       1     156  ...       0       0             0                   0\n",
              "5    8  21914       1     151  ...       0       0             0                   0\n",
              "6    9  22113       1     157  ...       1       0             0                   0\n",
              "7   12  22584       2     178  ...       1       1             1                   1\n",
              "8   13  17668       1     158  ...       1       0             0                   0\n",
              "9   14  19834       1     164  ...       0       0             0                   0\n",
              "10  15  22530       1     169  ...       1       0             0                   0\n",
              "11  16  18815       2     173  ...       1       0             1                   1\n",
              "12  18  14791       2     165  ...       0       0             1                   1\n",
              "13  21  19809       1     158  ...       1       0             0                   0\n",
              "14  23  14532       2     181  ...       1       0             1                   1\n",
              "\n",
              "[15 rows x 15 columns]"
            ]
          },
          "metadata": {
            "tags": []
          },
          "execution_count": 8
        }
      ]
    },
    {
      "cell_type": "code",
      "metadata": {
        "id": "U-WIBGvbeKci"
      },
      "source": [
        "#No need to keep original variables of \"gender\"\n",
        "del Cardio_disease2['gender']"
      ],
      "execution_count": null,
      "outputs": []
    },
    {
      "cell_type": "code",
      "metadata": {
        "id": "AWgEUMHQ5tve"
      },
      "source": [
        "# Creation of new Variables\n",
        "#NEW VARIABLE = age_y\n",
        "Cardio_disease2['age_y'] = (Cardio_disease2['age']/365).round(decimals=2)    # Age in years -> AGE divided by 365\n"
      ],
      "execution_count": null,
      "outputs": []
    },
    {
      "cell_type": "code",
      "metadata": {
        "id": "cLfuE21ZC91M",
        "colab": {
          "base_uri": "https://localhost:8080/",
          "height": 519
        },
        "outputId": "936c43f8-9a9f-4ede-8778-87c744928844"
      },
      "source": [
        "sns.histplot(data=Cardio_disease2,x='age_y',bins=30,palette=\"Paired\", alpha=0.9)   "
      ],
      "execution_count": null,
      "outputs": [
        {
          "output_type": "execute_result",
          "data": {
            "text/plain": [
              "<matplotlib.axes._subplots.AxesSubplot at 0x7f80c8c2f950>"
            ]
          },
          "metadata": {
            "tags": []
          },
          "execution_count": 138
        },
        {
          "output_type": "display_data",
          "data": {
            "image/png": "[encoded data removed]",
            "text/plain": [
              "<Figure size 576x576 with 1 Axes>"
            ]
          },
          "metadata": {
            "tags": []
          }
        }
      ]
    },
    {
      "cell_type": "code",
      "metadata": {
        "id": "L49WjkwZGDG_"
      },
      "source": [
        "#2ND NEW VARIABLE\n",
        "Cardio_disease2['bmi'] = (Cardio_disease2['weight'] / (((Cardio_disease2['height']/100)**2))).round(decimals=2)   # Body mass index\n",
        "\n",
        "\n",
        "# Creating Flags for categories as 0-1. 0 stands for not having high BMI 1 stands for having high BM1\n",
        "\n",
        "Cardio_disease2['bmi_high'] = (Cardio_disease2['bmi'] >= 30).astype(int)"
      ],
      "execution_count": null,
      "outputs": []
    },
    {
      "cell_type": "code",
      "metadata": {
        "colab": {
          "base_uri": "https://localhost:8080/",
          "height": 644
        },
        "id": "6cl475twFqdG",
        "outputId": "bd0fd14d-8133-40c2-f620-11e61949ae39"
      },
      "source": [
        "Cardio_disease2.hist(column=['bmi'], bins=50, figsize=(15, 10), color='#b4d997', edgecolor='black')"
      ],
      "execution_count": null,
      "outputs": [
        {
          "output_type": "execute_result",
          "data": {
            "text/plain": [
              "array([[<matplotlib.axes._subplots.AxesSubplot object at 0x7f80c8aaae10>]],\n",
              "      dtype=object)"
            ]
          },
          "metadata": {
            "tags": []
          },
          "execution_count": 140
        },
        {
          "output_type": "display_data",
          "data": {
            "image/png": "[encoded data removed]",
            "text/plain": [
              "<Figure size 1080x720 with 1 Axes>"
            ]
          },
          "metadata": {
            "tags": []
          }
        }
      ]
    },
    {
      "cell_type": "code",
      "metadata": {
        "colab": {
          "base_uri": "https://localhost:8080/",
          "height": 111
        },
        "id": "if8jGUiJIabM",
        "outputId": "06e0453c-5ecd-4fe9-fa77-614597738623"
      },
      "source": [
        "# We can observe the total number of patients with high body mass index and people who don't have high BMI\n",
        "display(pd.DataFrame(Cardio_disease2['bmi_high'].value_counts()))"
      ],
      "execution_count": null,
      "outputs": [
        {
          "output_type": "display_data",
          "data": {
            "text/html": [
              "<div>\n",
              "<style scoped>\n",
              "    .dataframe tbody tr th:only-of-type {\n",
              "        vertical-align: middle;\n",
              "    }\n",
              "\n",
              "    .dataframe tbody tr th {\n",
              "        vertical-align: top;\n",
              "    }\n",
              "\n",
              "    .dataframe thead th {\n",
              "        text-align: right;\n",
              "    }\n",
              "</style>\n",
              "<table border=\"1\" class=\"dataframe\">\n",
              "  <thead>\n",
              "    <tr style=\"text-align: right;\">\n",
              "      <th></th>\n",
              "      <th>bmi_high</th>\n",
              "    </tr>\n",
              "  </thead>\n",
              "  <tbody>\n",
              "    <tr>\n",
              "      <th>0</th>\n",
              "      <td>51475</td>\n",
              "    </tr>\n",
              "    <tr>\n",
              "      <th>1</th>\n",
              "      <td>18525</td>\n",
              "    </tr>\n",
              "  </tbody>\n",
              "</table>\n",
              "</div>"
            ],
            "text/plain": [
              "   bmi_high\n",
              "0     51475\n",
              "1     18525"
            ]
          },
          "metadata": {
            "tags": []
          }
        }
      ]
    },
    {
      "cell_type": "code",
      "metadata": {
        "colab": {
          "base_uri": "https://localhost:8080/"
        },
        "id": "9L6q052U7CM2",
        "outputId": "e293d56b-d62f-42e6-f02f-052601c45b0a"
      },
      "source": [
        "print(Cardio_disease2)"
      ],
      "execution_count": null,
      "outputs": [
        {
          "output_type": "stream",
          "text": [
            "          id  gender  height  weight  ...  cardio    bmi  age_y  bmi_high\n",
            "0          0       2     168    62.0  ...       0  21.97  50.39         0\n",
            "1          1       1     156    85.0  ...       1  34.93  55.42         1\n",
            "2          2       1     165    64.0  ...       1  23.51  51.66         0\n",
            "3          3       2     169    82.0  ...       1  28.71  48.28         0\n",
            "4          4       1     156    56.0  ...       0  23.01  47.87         0\n",
            "...      ...     ...     ...     ...  ...     ...    ...    ...       ...\n",
            "69995  99993       2     168    76.0  ...       0  26.93  52.71         0\n",
            "69996  99995       1     158   126.0  ...       1  50.47  61.92         1\n",
            "69997  99996       2     183   105.0  ...       1  31.35  52.24         1\n",
            "69998  99998       1     163    72.0  ...       1  27.10  61.45         0\n",
            "69999  99999       1     170    72.0  ...       0  24.91  56.27         0\n",
            "\n",
            "[70000 rows x 15 columns]\n"
          ],
          "name": "stdout"
        }
      ]
    },
    {
      "cell_type": "code",
      "metadata": {
        "id": "qrcWr6jv7x3U"
      },
      "source": [
        "#No need to keep age column since it was transformed already\n",
        "del Cardio_disease2['age']"
      ],
      "execution_count": null,
      "outputs": []
    },
    {
      "cell_type": "code",
      "metadata": {
        "colab": {
          "base_uri": "https://localhost:8080/",
          "height": 204
        },
        "id": "HaGwiT8w7fe6",
        "outputId": "3a627ea7-2db7-4e89-ed4b-daf2b099220c"
      },
      "source": [
        "Cardio_disease2.head()"
      ],
      "execution_count": 9,
      "outputs": [
        {
          "output_type": "execute_result",
          "data": {
            "text/html": [
              "<div>\n",
              "<style scoped>\n",
              "    .dataframe tbody tr th:only-of-type {\n",
              "        vertical-align: middle;\n",
              "    }\n",
              "\n",
              "    .dataframe tbody tr th {\n",
              "        vertical-align: top;\n",
              "    }\n",
              "\n",
              "    .dataframe thead th {\n",
              "        text-align: right;\n",
              "    }\n",
              "</style>\n",
              "<table border=\"1\" class=\"dataframe\">\n",
              "  <thead>\n",
              "    <tr style=\"text-align: right;\">\n",
              "      <th></th>\n",
              "      <th>id</th>\n",
              "      <th>age</th>\n",
              "      <th>gender</th>\n",
              "      <th>height</th>\n",
              "      <th>weight</th>\n",
              "      <th>ap_hi</th>\n",
              "      <th>ap_lo</th>\n",
              "      <th>cholesterol</th>\n",
              "      <th>gluc</th>\n",
              "      <th>smoke</th>\n",
              "      <th>alco</th>\n",
              "      <th>active</th>\n",
              "      <th>cardio</th>\n",
              "      <th>gender_dummy</th>\n",
              "      <th>gender_transformed</th>\n",
              "    </tr>\n",
              "  </thead>\n",
              "  <tbody>\n",
              "    <tr>\n",
              "      <th>0</th>\n",
              "      <td>0</td>\n",
              "      <td>18393</td>\n",
              "      <td>2</td>\n",
              "      <td>168</td>\n",
              "      <td>62.0</td>\n",
              "      <td>110</td>\n",
              "      <td>80</td>\n",
              "      <td>1</td>\n",
              "      <td>1</td>\n",
              "      <td>0</td>\n",
              "      <td>0</td>\n",
              "      <td>1</td>\n",
              "      <td>0</td>\n",
              "      <td>1</td>\n",
              "      <td>1</td>\n",
              "    </tr>\n",
              "    <tr>\n",
              "      <th>1</th>\n",
              "      <td>1</td>\n",
              "      <td>20228</td>\n",
              "      <td>1</td>\n",
              "      <td>156</td>\n",
              "      <td>85.0</td>\n",
              "      <td>140</td>\n",
              "      <td>90</td>\n",
              "      <td>3</td>\n",
              "      <td>1</td>\n",
              "      <td>0</td>\n",
              "      <td>0</td>\n",
              "      <td>1</td>\n",
              "      <td>1</td>\n",
              "      <td>0</td>\n",
              "      <td>0</td>\n",
              "    </tr>\n",
              "    <tr>\n",
              "      <th>2</th>\n",
              "      <td>2</td>\n",
              "      <td>18857</td>\n",
              "      <td>1</td>\n",
              "      <td>165</td>\n",
              "      <td>64.0</td>\n",
              "      <td>130</td>\n",
              "      <td>70</td>\n",
              "      <td>3</td>\n",
              "      <td>1</td>\n",
              "      <td>0</td>\n",
              "      <td>0</td>\n",
              "      <td>0</td>\n",
              "      <td>1</td>\n",
              "      <td>0</td>\n",
              "      <td>0</td>\n",
              "    </tr>\n",
              "    <tr>\n",
              "      <th>3</th>\n",
              "      <td>3</td>\n",
              "      <td>17623</td>\n",
              "      <td>2</td>\n",
              "      <td>169</td>\n",
              "      <td>82.0</td>\n",
              "      <td>150</td>\n",
              "      <td>100</td>\n",
              "      <td>1</td>\n",
              "      <td>1</td>\n",
              "      <td>0</td>\n",
              "      <td>0</td>\n",
              "      <td>1</td>\n",
              "      <td>1</td>\n",
              "      <td>1</td>\n",
              "      <td>1</td>\n",
              "    </tr>\n",
              "    <tr>\n",
              "      <th>4</th>\n",
              "      <td>4</td>\n",
              "      <td>17474</td>\n",
              "      <td>1</td>\n",
              "      <td>156</td>\n",
              "      <td>56.0</td>\n",
              "      <td>100</td>\n",
              "      <td>60</td>\n",
              "      <td>1</td>\n",
              "      <td>1</td>\n",
              "      <td>0</td>\n",
              "      <td>0</td>\n",
              "      <td>0</td>\n",
              "      <td>0</td>\n",
              "      <td>0</td>\n",
              "      <td>0</td>\n",
              "    </tr>\n",
              "  </tbody>\n",
              "</table>\n",
              "</div>"
            ],
            "text/plain": [
              "   id    age  gender  height  ...  active  cardio  gender_dummy  gender_transformed\n",
              "0   0  18393       2     168  ...       1       0             1                   1\n",
              "1   1  20228       1     156  ...       1       1             0                   0\n",
              "2   2  18857       1     165  ...       0       1             0                   0\n",
              "3   3  17623       2     169  ...       1       1             1                   1\n",
              "4   4  17474       1     156  ...       0       0             0                   0\n",
              "\n",
              "[5 rows x 15 columns]"
            ]
          },
          "metadata": {
            "tags": []
          },
          "execution_count": 9
        }
      ]
    },
    {
      "cell_type": "code",
      "metadata": {
        "colab": {
          "base_uri": "https://localhost:8080/",
          "height": 456
        },
        "id": "ZtDOHetve1i2",
        "outputId": "ae5f4043-2638-4820-8dcb-f3e6ebba1232"
      },
      "source": [
        "#As it was mentioned we have outliers that need to be removed from both blood pressures levels Systolic and Diastolic\n",
        "\n",
        "# First criteria is that we are going to discard the values in which DIastolic is > Systolic because this can not be possible\n",
        "ap_logreaterthanap_hi = Cardio_disease2[Cardio_disease2['ap_lo'] > Cardio_disease2['ap_hi']].index \n",
        "\n",
        "# For the variable ap_hi that is Systolic blood pressure let's drop values higher than 200 or lower than 80\n",
        "Adjusted_ap_hi = Cardio_disease2[(Cardio_disease2['ap_hi'] > 200) | (Cardio_disease2['ap_hi'] < 80)].index\n",
        "\n",
        "# For the variable ap_lo that is Diastolic blood pressure let's drop values higher than 160 or lower than 10\n",
        "Adjusted_ap_lo = Cardio_disease2[(Cardio_disease2['ap_lo'] > 160) | (Cardio_disease2['ap_lo'] < 40)].index\n",
        "\n",
        "# number of records to be removed\n",
        "Adjusted_blood = Adjusted_ap_hi.union(Adjusted_ap_lo)\n",
        "Adjusted_blood.union(Adjusted_ap_lo)\n",
        "print(Adjusted_blood.size)\n",
        "1276\n",
        "# remove the records\n",
        "Cardio_disease2.drop(Adjusted_blood, inplace = True)\n",
        "\n",
        "\n",
        "#creating the threshold 0 -> 1 for ap_hi\n",
        "\n",
        "Cardio_disease2['ap_hi_norm'] = (Cardio_disease2['ap_hi'] < 120).astype(int)\n",
        "Cardio_disease2['ap_hi_elevated'] = ((Cardio_disease2['ap_hi'] >= 120) & (Cardio_disease2['ap_hi'] <=139)).astype(int)\n",
        "Cardio_disease2['ap_hi_hypertension']= ((Cardio_disease2['ap_hi'] >=140) & (Cardio_disease2['ap_hi'] <=179)).astype(int)\n",
        "Cardio_disease2['ap_hi_hyper_crisis']= (Cardio_disease2['ap_hi'] >=180).astype(int)\n",
        "#creating the threshold 0 -> 1 for ap_lo \n",
        "\n",
        "Cardio_disease2['ap_lo_norm'] = (Cardio_disease2['ap_lo'] < 80).astype(int)\n",
        "Cardio_disease2['ap_lo_elevated'] = ((Cardio_disease2['ap_lo'] >= 80) & (Cardio_disease2['ap_lo'] <=89)).astype(int)\n",
        "Cardio_disease2['ap_lo_hypertension']= (Cardio_disease2['ap_lo'] >=90).astype(int)\n",
        "Cardio_disease2['ap_lo_hyper_crisis']= (Cardio_disease2['ap_lo'] >=180).astype(int)\n",
        "Cardio_disease2"
      ],
      "execution_count": 12,
      "outputs": [
        {
          "output_type": "stream",
          "text": [
            "0\n"
          ],
          "name": "stdout"
        },
        {
          "output_type": "execute_result",
          "data": {
            "text/html": [
              "<div>\n",
              "<style scoped>\n",
              "    .dataframe tbody tr th:only-of-type {\n",
              "        vertical-align: middle;\n",
              "    }\n",
              "\n",
              "    .dataframe tbody tr th {\n",
              "        vertical-align: top;\n",
              "    }\n",
              "\n",
              "    .dataframe thead th {\n",
              "        text-align: right;\n",
              "    }\n",
              "</style>\n",
              "<table border=\"1\" class=\"dataframe\">\n",
              "  <thead>\n",
              "    <tr style=\"text-align: right;\">\n",
              "      <th></th>\n",
              "      <th>id</th>\n",
              "      <th>age</th>\n",
              "      <th>gender</th>\n",
              "      <th>height</th>\n",
              "      <th>weight</th>\n",
              "      <th>ap_hi</th>\n",
              "      <th>ap_lo</th>\n",
              "      <th>cholesterol</th>\n",
              "      <th>gluc</th>\n",
              "      <th>smoke</th>\n",
              "      <th>alco</th>\n",
              "      <th>active</th>\n",
              "      <th>cardio</th>\n",
              "      <th>gender_dummy</th>\n",
              "      <th>gender_transformed</th>\n",
              "      <th>ap_hi_norm</th>\n",
              "      <th>ap_hi_at_risk</th>\n",
              "      <th>ap_hi_hypertension</th>\n",
              "      <th>ap_lo_norm</th>\n",
              "      <th>ap_lo_at_risk</th>\n",
              "      <th>ap_lo_hypertension</th>\n",
              "      <th>ap_hi_elevated</th>\n",
              "      <th>ap_hi_hyper_crisis</th>\n",
              "      <th>ap_lo_elevated</th>\n",
              "      <th>ap_lo_hyper_crisis</th>\n",
              "    </tr>\n",
              "  </thead>\n",
              "  <tbody>\n",
              "    <tr>\n",
              "      <th>0</th>\n",
              "      <td>0</td>\n",
              "      <td>18393</td>\n",
              "      <td>2</td>\n",
              "      <td>168</td>\n",
              "      <td>62.0</td>\n",
              "      <td>110</td>\n",
              "      <td>80</td>\n",
              "      <td>1</td>\n",
              "      <td>1</td>\n",
              "      <td>0</td>\n",
              "      <td>0</td>\n",
              "      <td>1</td>\n",
              "      <td>0</td>\n",
              "      <td>1</td>\n",
              "      <td>1</td>\n",
              "      <td>1</td>\n",
              "      <td>0</td>\n",
              "      <td>0</td>\n",
              "      <td>0</td>\n",
              "      <td>1</td>\n",
              "      <td>0</td>\n",
              "      <td>0</td>\n",
              "      <td>0</td>\n",
              "      <td>1</td>\n",
              "      <td>0</td>\n",
              "    </tr>\n",
              "    <tr>\n",
              "      <th>1</th>\n",
              "      <td>1</td>\n",
              "      <td>20228</td>\n",
              "      <td>1</td>\n",
              "      <td>156</td>\n",
              "      <td>85.0</td>\n",
              "      <td>140</td>\n",
              "      <td>90</td>\n",
              "      <td>3</td>\n",
              "      <td>1</td>\n",
              "      <td>0</td>\n",
              "      <td>0</td>\n",
              "      <td>1</td>\n",
              "      <td>1</td>\n",
              "      <td>0</td>\n",
              "      <td>0</td>\n",
              "      <td>0</td>\n",
              "      <td>0</td>\n",
              "      <td>1</td>\n",
              "      <td>0</td>\n",
              "      <td>0</td>\n",
              "      <td>1</td>\n",
              "      <td>0</td>\n",
              "      <td>0</td>\n",
              "      <td>0</td>\n",
              "      <td>0</td>\n",
              "    </tr>\n",
              "    <tr>\n",
              "      <th>2</th>\n",
              "      <td>2</td>\n",
              "      <td>18857</td>\n",
              "      <td>1</td>\n",
              "      <td>165</td>\n",
              "      <td>64.0</td>\n",
              "      <td>130</td>\n",
              "      <td>70</td>\n",
              "      <td>3</td>\n",
              "      <td>1</td>\n",
              "      <td>0</td>\n",
              "      <td>0</td>\n",
              "      <td>0</td>\n",
              "      <td>1</td>\n",
              "      <td>0</td>\n",
              "      <td>0</td>\n",
              "      <td>0</td>\n",
              "      <td>1</td>\n",
              "      <td>0</td>\n",
              "      <td>1</td>\n",
              "      <td>0</td>\n",
              "      <td>0</td>\n",
              "      <td>1</td>\n",
              "      <td>0</td>\n",
              "      <td>0</td>\n",
              "      <td>0</td>\n",
              "    </tr>\n",
              "    <tr>\n",
              "      <th>3</th>\n",
              "      <td>3</td>\n",
              "      <td>17623</td>\n",
              "      <td>2</td>\n",
              "      <td>169</td>\n",
              "      <td>82.0</td>\n",
              "      <td>150</td>\n",
              "      <td>100</td>\n",
              "      <td>1</td>\n",
              "      <td>1</td>\n",
              "      <td>0</td>\n",
              "      <td>0</td>\n",
              "      <td>1</td>\n",
              "      <td>1</td>\n",
              "      <td>1</td>\n",
              "      <td>1</td>\n",
              "      <td>0</td>\n",
              "      <td>0</td>\n",
              "      <td>1</td>\n",
              "      <td>0</td>\n",
              "      <td>0</td>\n",
              "      <td>1</td>\n",
              "      <td>0</td>\n",
              "      <td>0</td>\n",
              "      <td>0</td>\n",
              "      <td>0</td>\n",
              "    </tr>\n",
              "    <tr>\n",
              "      <th>4</th>\n",
              "      <td>4</td>\n",
              "      <td>17474</td>\n",
              "      <td>1</td>\n",
              "      <td>156</td>\n",
              "      <td>56.0</td>\n",
              "      <td>100</td>\n",
              "      <td>60</td>\n",
              "      <td>1</td>\n",
              "      <td>1</td>\n",
              "      <td>0</td>\n",
              "      <td>0</td>\n",
              "      <td>0</td>\n",
              "      <td>0</td>\n",
              "      <td>0</td>\n",
              "      <td>0</td>\n",
              "      <td>1</td>\n",
              "      <td>0</td>\n",
              "      <td>0</td>\n",
              "      <td>1</td>\n",
              "      <td>0</td>\n",
              "      <td>0</td>\n",
              "      <td>0</td>\n",
              "      <td>0</td>\n",
              "      <td>0</td>\n",
              "      <td>0</td>\n",
              "    </tr>\n",
              "    <tr>\n",
              "      <th>...</th>\n",
              "      <td>...</td>\n",
              "      <td>...</td>\n",
              "      <td>...</td>\n",
              "      <td>...</td>\n",
              "      <td>...</td>\n",
              "      <td>...</td>\n",
              "      <td>...</td>\n",
              "      <td>...</td>\n",
              "      <td>...</td>\n",
              "      <td>...</td>\n",
              "      <td>...</td>\n",
              "      <td>...</td>\n",
              "      <td>...</td>\n",
              "      <td>...</td>\n",
              "      <td>...</td>\n",
              "      <td>...</td>\n",
              "      <td>...</td>\n",
              "      <td>...</td>\n",
              "      <td>...</td>\n",
              "      <td>...</td>\n",
              "      <td>...</td>\n",
              "      <td>...</td>\n",
              "      <td>...</td>\n",
              "      <td>...</td>\n",
              "      <td>...</td>\n",
              "    </tr>\n",
              "    <tr>\n",
              "      <th>69995</th>\n",
              "      <td>99993</td>\n",
              "      <td>19240</td>\n",
              "      <td>2</td>\n",
              "      <td>168</td>\n",
              "      <td>76.0</td>\n",
              "      <td>120</td>\n",
              "      <td>80</td>\n",
              "      <td>1</td>\n",
              "      <td>1</td>\n",
              "      <td>1</td>\n",
              "      <td>0</td>\n",
              "      <td>1</td>\n",
              "      <td>0</td>\n",
              "      <td>1</td>\n",
              "      <td>1</td>\n",
              "      <td>0</td>\n",
              "      <td>1</td>\n",
              "      <td>0</td>\n",
              "      <td>0</td>\n",
              "      <td>1</td>\n",
              "      <td>0</td>\n",
              "      <td>1</td>\n",
              "      <td>0</td>\n",
              "      <td>1</td>\n",
              "      <td>0</td>\n",
              "    </tr>\n",
              "    <tr>\n",
              "      <th>69996</th>\n",
              "      <td>99995</td>\n",
              "      <td>22601</td>\n",
              "      <td>1</td>\n",
              "      <td>158</td>\n",
              "      <td>126.0</td>\n",
              "      <td>140</td>\n",
              "      <td>90</td>\n",
              "      <td>2</td>\n",
              "      <td>2</td>\n",
              "      <td>0</td>\n",
              "      <td>0</td>\n",
              "      <td>1</td>\n",
              "      <td>1</td>\n",
              "      <td>0</td>\n",
              "      <td>0</td>\n",
              "      <td>0</td>\n",
              "      <td>0</td>\n",
              "      <td>1</td>\n",
              "      <td>0</td>\n",
              "      <td>0</td>\n",
              "      <td>1</td>\n",
              "      <td>0</td>\n",
              "      <td>0</td>\n",
              "      <td>0</td>\n",
              "      <td>0</td>\n",
              "    </tr>\n",
              "    <tr>\n",
              "      <th>69997</th>\n",
              "      <td>99996</td>\n",
              "      <td>19066</td>\n",
              "      <td>2</td>\n",
              "      <td>183</td>\n",
              "      <td>105.0</td>\n",
              "      <td>180</td>\n",
              "      <td>90</td>\n",
              "      <td>3</td>\n",
              "      <td>1</td>\n",
              "      <td>0</td>\n",
              "      <td>1</td>\n",
              "      <td>0</td>\n",
              "      <td>1</td>\n",
              "      <td>1</td>\n",
              "      <td>1</td>\n",
              "      <td>0</td>\n",
              "      <td>0</td>\n",
              "      <td>0</td>\n",
              "      <td>0</td>\n",
              "      <td>0</td>\n",
              "      <td>1</td>\n",
              "      <td>0</td>\n",
              "      <td>1</td>\n",
              "      <td>0</td>\n",
              "      <td>0</td>\n",
              "    </tr>\n",
              "    <tr>\n",
              "      <th>69998</th>\n",
              "      <td>99998</td>\n",
              "      <td>22431</td>\n",
              "      <td>1</td>\n",
              "      <td>163</td>\n",
              "      <td>72.0</td>\n",
              "      <td>135</td>\n",
              "      <td>80</td>\n",
              "      <td>1</td>\n",
              "      <td>2</td>\n",
              "      <td>0</td>\n",
              "      <td>0</td>\n",
              "      <td>0</td>\n",
              "      <td>1</td>\n",
              "      <td>0</td>\n",
              "      <td>0</td>\n",
              "      <td>0</td>\n",
              "      <td>1</td>\n",
              "      <td>0</td>\n",
              "      <td>0</td>\n",
              "      <td>1</td>\n",
              "      <td>0</td>\n",
              "      <td>1</td>\n",
              "      <td>0</td>\n",
              "      <td>1</td>\n",
              "      <td>0</td>\n",
              "    </tr>\n",
              "    <tr>\n",
              "      <th>69999</th>\n",
              "      <td>99999</td>\n",
              "      <td>20540</td>\n",
              "      <td>1</td>\n",
              "      <td>170</td>\n",
              "      <td>72.0</td>\n",
              "      <td>120</td>\n",
              "      <td>80</td>\n",
              "      <td>2</td>\n",
              "      <td>1</td>\n",
              "      <td>0</td>\n",
              "      <td>0</td>\n",
              "      <td>1</td>\n",
              "      <td>0</td>\n",
              "      <td>0</td>\n",
              "      <td>0</td>\n",
              "      <td>0</td>\n",
              "      <td>1</td>\n",
              "      <td>0</td>\n",
              "      <td>0</td>\n",
              "      <td>1</td>\n",
              "      <td>0</td>\n",
              "      <td>1</td>\n",
              "      <td>0</td>\n",
              "      <td>1</td>\n",
              "      <td>0</td>\n",
              "    </tr>\n",
              "  </tbody>\n",
              "</table>\n",
              "<p>68694 rows × 25 columns</p>\n",
              "</div>"
            ],
            "text/plain": [
              "          id    age  ...  ap_lo_elevated  ap_lo_hyper_crisis\n",
              "0          0  18393  ...               1                   0\n",
              "1          1  20228  ...               0                   0\n",
              "2          2  18857  ...               0                   0\n",
              "3          3  17623  ...               0                   0\n",
              "4          4  17474  ...               0                   0\n",
              "...      ...    ...  ...             ...                 ...\n",
              "69995  99993  19240  ...               1                   0\n",
              "69996  99995  22601  ...               0                   0\n",
              "69997  99996  19066  ...               0                   0\n",
              "69998  99998  22431  ...               1                   0\n",
              "69999  99999  20540  ...               1                   0\n",
              "\n",
              "[68694 rows x 25 columns]"
            ]
          },
          "metadata": {
            "tags": []
          },
          "execution_count": 12
        }
      ]
    },
    {
      "cell_type": "markdown",
      "metadata": {
        "id": "G0NmNuELngKp"
      },
      "source": [
        "8 new dummy variables were created band the criteria was based on the thresholds that are shown in the image above.\n",
        "\n",
        "1. ap_hi_norm\n",
        "2. ap_hi_elevated\n",
        "3. ap_hi_hypertension\n",
        "4. ap_hi_hyper_crisis\n",
        "5. ap_lo_norm\n",
        "6. ap_lo_elevated\n",
        "7. ap_lo_hypertension\n",
        "8. ap_lo_hyper_crisis"
      ]
    },
    {
      "cell_type": "code",
      "metadata": {
        "colab": {
          "base_uri": "https://localhost:8080/",
          "height": 824
        },
        "id": "elGIoj7qqnn2",
        "outputId": "d83bf207-0118-437c-ca49-077ef81d5ef0"
      },
      "source": [
        "#Lets see some descriptive statistics about our new dataset\n",
        "display(Cardio_disease2.describe().T)"
      ],
      "execution_count": 14,
      "outputs": [
        {
          "output_type": "display_data",
          "data": {
            "text/html": [
              "<div>\n",
              "<style scoped>\n",
              "    .dataframe tbody tr th:only-of-type {\n",
              "        vertical-align: middle;\n",
              "    }\n",
              "\n",
              "    .dataframe tbody tr th {\n",
              "        vertical-align: top;\n",
              "    }\n",
              "\n",
              "    .dataframe thead th {\n",
              "        text-align: right;\n",
              "    }\n",
              "</style>\n",
              "<table border=\"1\" class=\"dataframe\">\n",
              "  <thead>\n",
              "    <tr style=\"text-align: right;\">\n",
              "      <th></th>\n",
              "      <th>count</th>\n",
              "      <th>mean</th>\n",
              "      <th>std</th>\n",
              "      <th>min</th>\n",
              "      <th>25%</th>\n",
              "      <th>50%</th>\n",
              "      <th>75%</th>\n",
              "      <th>max</th>\n",
              "    </tr>\n",
              "  </thead>\n",
              "  <tbody>\n",
              "    <tr>\n",
              "      <th>id</th>\n",
              "      <td>68694.0</td>\n",
              "      <td>49975.566454</td>\n",
              "      <td>28846.153483</td>\n",
              "      <td>0.0</td>\n",
              "      <td>25003.75</td>\n",
              "      <td>50014.5</td>\n",
              "      <td>74872.25</td>\n",
              "      <td>99999.0</td>\n",
              "    </tr>\n",
              "    <tr>\n",
              "      <th>age</th>\n",
              "      <td>68694.0</td>\n",
              "      <td>19464.076994</td>\n",
              "      <td>2468.271007</td>\n",
              "      <td>10798.0</td>\n",
              "      <td>17657.00</td>\n",
              "      <td>19700.0</td>\n",
              "      <td>21324.00</td>\n",
              "      <td>23713.0</td>\n",
              "    </tr>\n",
              "    <tr>\n",
              "      <th>gender</th>\n",
              "      <td>68694.0</td>\n",
              "      <td>1.348604</td>\n",
              "      <td>0.476532</td>\n",
              "      <td>1.0</td>\n",
              "      <td>1.00</td>\n",
              "      <td>1.0</td>\n",
              "      <td>2.00</td>\n",
              "      <td>2.0</td>\n",
              "    </tr>\n",
              "    <tr>\n",
              "      <th>height</th>\n",
              "      <td>68694.0</td>\n",
              "      <td>164.360133</td>\n",
              "      <td>8.184948</td>\n",
              "      <td>55.0</td>\n",
              "      <td>159.00</td>\n",
              "      <td>165.0</td>\n",
              "      <td>170.00</td>\n",
              "      <td>250.0</td>\n",
              "    </tr>\n",
              "    <tr>\n",
              "      <th>weight</th>\n",
              "      <td>68694.0</td>\n",
              "      <td>74.114806</td>\n",
              "      <td>14.325042</td>\n",
              "      <td>11.0</td>\n",
              "      <td>65.00</td>\n",
              "      <td>72.0</td>\n",
              "      <td>82.00</td>\n",
              "      <td>200.0</td>\n",
              "    </tr>\n",
              "    <tr>\n",
              "      <th>ap_hi</th>\n",
              "      <td>68694.0</td>\n",
              "      <td>126.557385</td>\n",
              "      <td>16.545113</td>\n",
              "      <td>80.0</td>\n",
              "      <td>120.00</td>\n",
              "      <td>120.0</td>\n",
              "      <td>140.00</td>\n",
              "      <td>200.0</td>\n",
              "    </tr>\n",
              "    <tr>\n",
              "      <th>ap_lo</th>\n",
              "      <td>68694.0</td>\n",
              "      <td>81.335444</td>\n",
              "      <td>9.525037</td>\n",
              "      <td>40.0</td>\n",
              "      <td>80.00</td>\n",
              "      <td>80.0</td>\n",
              "      <td>90.00</td>\n",
              "      <td>160.0</td>\n",
              "    </tr>\n",
              "    <tr>\n",
              "      <th>cholesterol</th>\n",
              "      <td>68694.0</td>\n",
              "      <td>1.364501</td>\n",
              "      <td>0.678871</td>\n",
              "      <td>1.0</td>\n",
              "      <td>1.00</td>\n",
              "      <td>1.0</td>\n",
              "      <td>1.00</td>\n",
              "      <td>3.0</td>\n",
              "    </tr>\n",
              "    <tr>\n",
              "      <th>gluc</th>\n",
              "      <td>68694.0</td>\n",
              "      <td>1.225784</td>\n",
              "      <td>0.571782</td>\n",
              "      <td>1.0</td>\n",
              "      <td>1.00</td>\n",
              "      <td>1.0</td>\n",
              "      <td>1.00</td>\n",
              "      <td>3.0</td>\n",
              "    </tr>\n",
              "    <tr>\n",
              "      <th>smoke</th>\n",
              "      <td>68694.0</td>\n",
              "      <td>0.087984</td>\n",
              "      <td>0.283274</td>\n",
              "      <td>0.0</td>\n",
              "      <td>0.00</td>\n",
              "      <td>0.0</td>\n",
              "      <td>0.00</td>\n",
              "      <td>1.0</td>\n",
              "    </tr>\n",
              "    <tr>\n",
              "      <th>alco</th>\n",
              "      <td>68694.0</td>\n",
              "      <td>0.053542</td>\n",
              "      <td>0.225113</td>\n",
              "      <td>0.0</td>\n",
              "      <td>0.00</td>\n",
              "      <td>0.0</td>\n",
              "      <td>0.00</td>\n",
              "      <td>1.0</td>\n",
              "    </tr>\n",
              "    <tr>\n",
              "      <th>active</th>\n",
              "      <td>68694.0</td>\n",
              "      <td>0.803433</td>\n",
              "      <td>0.397405</td>\n",
              "      <td>0.0</td>\n",
              "      <td>1.00</td>\n",
              "      <td>1.0</td>\n",
              "      <td>1.00</td>\n",
              "      <td>1.0</td>\n",
              "    </tr>\n",
              "    <tr>\n",
              "      <th>cardio</th>\n",
              "      <td>68694.0</td>\n",
              "      <td>0.494716</td>\n",
              "      <td>0.499976</td>\n",
              "      <td>0.0</td>\n",
              "      <td>0.00</td>\n",
              "      <td>0.0</td>\n",
              "      <td>1.00</td>\n",
              "      <td>1.0</td>\n",
              "    </tr>\n",
              "    <tr>\n",
              "      <th>gender_dummy</th>\n",
              "      <td>68694.0</td>\n",
              "      <td>0.348604</td>\n",
              "      <td>0.476532</td>\n",
              "      <td>0.0</td>\n",
              "      <td>0.00</td>\n",
              "      <td>0.0</td>\n",
              "      <td>1.00</td>\n",
              "      <td>1.0</td>\n",
              "    </tr>\n",
              "    <tr>\n",
              "      <th>gender_transformed</th>\n",
              "      <td>68694.0</td>\n",
              "      <td>0.348604</td>\n",
              "      <td>0.476532</td>\n",
              "      <td>0.0</td>\n",
              "      <td>0.00</td>\n",
              "      <td>0.0</td>\n",
              "      <td>1.00</td>\n",
              "      <td>1.0</td>\n",
              "    </tr>\n",
              "    <tr>\n",
              "      <th>ap_hi_norm</th>\n",
              "      <td>68694.0</td>\n",
              "      <td>0.186435</td>\n",
              "      <td>0.389461</td>\n",
              "      <td>0.0</td>\n",
              "      <td>0.00</td>\n",
              "      <td>0.0</td>\n",
              "      <td>0.00</td>\n",
              "      <td>1.0</td>\n",
              "    </tr>\n",
              "    <tr>\n",
              "      <th>ap_hi_at_risk</th>\n",
              "      <td>68694.0</td>\n",
              "      <td>0.545404</td>\n",
              "      <td>0.497938</td>\n",
              "      <td>0.0</td>\n",
              "      <td>0.00</td>\n",
              "      <td>1.0</td>\n",
              "      <td>1.00</td>\n",
              "      <td>1.0</td>\n",
              "    </tr>\n",
              "    <tr>\n",
              "      <th>ap_hi_hypertension</th>\n",
              "      <td>68694.0</td>\n",
              "      <td>0.256005</td>\n",
              "      <td>0.436428</td>\n",
              "      <td>0.0</td>\n",
              "      <td>0.00</td>\n",
              "      <td>0.0</td>\n",
              "      <td>1.00</td>\n",
              "      <td>1.0</td>\n",
              "    </tr>\n",
              "    <tr>\n",
              "      <th>ap_lo_norm</th>\n",
              "      <td>68694.0</td>\n",
              "      <td>0.203963</td>\n",
              "      <td>0.402944</td>\n",
              "      <td>0.0</td>\n",
              "      <td>0.00</td>\n",
              "      <td>0.0</td>\n",
              "      <td>0.00</td>\n",
              "      <td>1.0</td>\n",
              "    </tr>\n",
              "    <tr>\n",
              "      <th>ap_lo_at_risk</th>\n",
              "      <td>68694.0</td>\n",
              "      <td>0.514441</td>\n",
              "      <td>0.499795</td>\n",
              "      <td>0.0</td>\n",
              "      <td>0.00</td>\n",
              "      <td>1.0</td>\n",
              "      <td>1.00</td>\n",
              "      <td>1.0</td>\n",
              "    </tr>\n",
              "    <tr>\n",
              "      <th>ap_lo_hypertension</th>\n",
              "      <td>68694.0</td>\n",
              "      <td>0.281597</td>\n",
              "      <td>0.449781</td>\n",
              "      <td>0.0</td>\n",
              "      <td>0.00</td>\n",
              "      <td>0.0</td>\n",
              "      <td>1.00</td>\n",
              "      <td>1.0</td>\n",
              "    </tr>\n",
              "    <tr>\n",
              "      <th>ap_hi_elevated</th>\n",
              "      <td>68694.0</td>\n",
              "      <td>0.545404</td>\n",
              "      <td>0.497938</td>\n",
              "      <td>0.0</td>\n",
              "      <td>0.00</td>\n",
              "      <td>1.0</td>\n",
              "      <td>1.00</td>\n",
              "      <td>1.0</td>\n",
              "    </tr>\n",
              "    <tr>\n",
              "      <th>ap_hi_hyper_crisis</th>\n",
              "      <td>68694.0</td>\n",
              "      <td>0.012155</td>\n",
              "      <td>0.109580</td>\n",
              "      <td>0.0</td>\n",
              "      <td>0.00</td>\n",
              "      <td>0.0</td>\n",
              "      <td>0.00</td>\n",
              "      <td>1.0</td>\n",
              "    </tr>\n",
              "    <tr>\n",
              "      <th>ap_lo_elevated</th>\n",
              "      <td>68694.0</td>\n",
              "      <td>0.514441</td>\n",
              "      <td>0.499795</td>\n",
              "      <td>0.0</td>\n",
              "      <td>0.00</td>\n",
              "      <td>1.0</td>\n",
              "      <td>1.00</td>\n",
              "      <td>1.0</td>\n",
              "    </tr>\n",
              "    <tr>\n",
              "      <th>ap_lo_hyper_crisis</th>\n",
              "      <td>68694.0</td>\n",
              "      <td>0.000000</td>\n",
              "      <td>0.000000</td>\n",
              "      <td>0.0</td>\n",
              "      <td>0.00</td>\n",
              "      <td>0.0</td>\n",
              "      <td>0.00</td>\n",
              "      <td>0.0</td>\n",
              "    </tr>\n",
              "  </tbody>\n",
              "</table>\n",
              "</div>"
            ],
            "text/plain": [
              "                      count          mean  ...       75%      max\n",
              "id                  68694.0  49975.566454  ...  74872.25  99999.0\n",
              "age                 68694.0  19464.076994  ...  21324.00  23713.0\n",
              "gender              68694.0      1.348604  ...      2.00      2.0\n",
              "height              68694.0    164.360133  ...    170.00    250.0\n",
              "weight              68694.0     74.114806  ...     82.00    200.0\n",
              "ap_hi               68694.0    126.557385  ...    140.00    200.0\n",
              "ap_lo               68694.0     81.335444  ...     90.00    160.0\n",
              "cholesterol         68694.0      1.364501  ...      1.00      3.0\n",
              "gluc                68694.0      1.225784  ...      1.00      3.0\n",
              "smoke               68694.0      0.087984  ...      0.00      1.0\n",
              "alco                68694.0      0.053542  ...      0.00      1.0\n",
              "active              68694.0      0.803433  ...      1.00      1.0\n",
              "cardio              68694.0      0.494716  ...      1.00      1.0\n",
              "gender_dummy        68694.0      0.348604  ...      1.00      1.0\n",
              "gender_transformed  68694.0      0.348604  ...      1.00      1.0\n",
              "ap_hi_norm          68694.0      0.186435  ...      0.00      1.0\n",
              "ap_hi_at_risk       68694.0      0.545404  ...      1.00      1.0\n",
              "ap_hi_hypertension  68694.0      0.256005  ...      1.00      1.0\n",
              "ap_lo_norm          68694.0      0.203963  ...      0.00      1.0\n",
              "ap_lo_at_risk       68694.0      0.514441  ...      1.00      1.0\n",
              "ap_lo_hypertension  68694.0      0.281597  ...      1.00      1.0\n",
              "ap_hi_elevated      68694.0      0.545404  ...      1.00      1.0\n",
              "ap_hi_hyper_crisis  68694.0      0.012155  ...      0.00      1.0\n",
              "ap_lo_elevated      68694.0      0.514441  ...      1.00      1.0\n",
              "ap_lo_hyper_crisis  68694.0      0.000000  ...      0.00      0.0\n",
              "\n",
              "[25 rows x 8 columns]"
            ]
          },
          "metadata": {
            "tags": []
          }
        }
      ]
    },
    {
      "cell_type": "code",
      "metadata": {
        "colab": {
          "base_uri": "https://localhost:8080/",
          "height": 930
        },
        "id": "GtX3ZVChqLbX",
        "outputId": "7ccc0014-89a6-43ea-c608-fddd8bef967b"
      },
      "source": [
        "# Histograms for dummy variables ao_hi & ap_lo\n",
        "Cardio_disease2.hist(column=['ap_hi','ap_lo'], bins=25, figsize=(20, 15), color='#b4d997', edgecolor='black')"
      ],
      "execution_count": 13,
      "outputs": [
        {
          "output_type": "execute_result",
          "data": {
            "text/plain": [
              "array([[<matplotlib.axes._subplots.AxesSubplot object at 0x7f7fccf0e890>,\n",
              "        <matplotlib.axes._subplots.AxesSubplot object at 0x7f7fccec1fd0>]],\n",
              "      dtype=object)"
            ]
          },
          "metadata": {
            "tags": []
          },
          "execution_count": 13
        },
        {
          "output_type": "display_data",
          "data": {
            "image/png": "[encoded data removed]",
            "text/plain": [
              "<Figure size 1440x1080 with 2 Axes>"
            ]
          },
          "metadata": {
            "tags": [],
            "needs_background": "light"
          }
        }
      ]
    },
    {
      "cell_type": "markdown",
      "metadata": {
        "id": "ASuvJ7SFsEC4"
      },
      "source": [
        "After the standardization of the data for ap_hi and ap_lo and creations of new dummy variables.\n",
        "Both variables follows a symmetrical distribution, the mean and the median are close together  if we ordered from smallest to largest the middle value in the data set, resembles the balancing point in the data close to the median and mean. Having a close median to the mean merely indicates the distribution is not skewed too badly. \n",
        "Showing us that the data near the mean are more frequent in occurrence than data far from the mean.\n"
      ]
    },
    {
      "cell_type": "markdown",
      "metadata": {
        "id": "g5TQ8QM9uR4O"
      },
      "source": [
        "****DATA VISUALIZATION OF THE DATA AFTER BEING TRANSFORMED***"
      ]
    },
    {
      "cell_type": "code",
      "metadata": {
        "id": "T02OqbVtKAHi",
        "colab": {
          "base_uri": "https://localhost:8080/",
          "height": 1000
        },
        "outputId": "a73135f9-ad02-4928-af24-3a3e4580b6b0"
      },
      "source": [
        "def pie_chart(Cardio_disease2, col, labels):\n",
        "    data = Cardio_disease2[col].value_counts().to_numpy()\n",
        "    def absolute_value(val):\n",
        "        a  = np.round(val / 100 * data.sum(), 0)\n",
        "        return str('%0.0f' % a) + '\\n(' + ('%0.2f' % val) + '%)'\n",
        "    plt.pie(data, labels = labels, autopct=absolute_value, colors=colors)\n",
        "    plt.legend(title=col)\n",
        "    plt.show() \n",
        "\n",
        "pie_chart(Cardio_disease2, 'gender_dummy', ['Female','Male'])\n",
        "pie_chart(Cardio_disease2, 'cardio', ['No','Yes'])\n",
        "pie_chart(Cardio_disease2, 'cholesterol', ['Normal', 'Above normal', 'Well above normal'])\n",
        "pie_chart(Cardio_disease2, 'gluc', ['Normal', 'Above normal', 'Well above normal'])\n",
        "pie_chart(Cardio_disease2, 'smoke', ['No', 'Yes'])\n",
        "pie_chart(Cardio_disease2, 'alco', ['No','Yes'])\n",
        "pie_chart(Cardio_disease2, 'active', ['No','Yes'])\n",
        "\n",
        "#ap_hi \n",
        "\n",
        "pie_chart(Cardio_disease2, 'ap_hi_norm', ['No','Yes'])\n",
        "pie_chart(Cardio_disease2, 'ap_hi_elevated', ['No','Yes'])\n",
        "pie_chart(Cardio_disease2, 'ap_hi_hypertension', ['No','Yes'])\n",
        "pie_chart(Cardio_disease2, 'ap_hi_hyper_crisis', ['No','Yes'])\n",
        "\n",
        "#ap_lo \n",
        "pie_chart(Cardio_disease2, 'ap_lo_norm', ['No','Yes'])\n",
        "pie_chart(Cardio_disease2, 'ap_lo_elevated', ['No','Yes'])\n",
        "pie_chart(Cardio_disease2, 'ap_lo_hypertension', ['No','Yes'])\n",
        "pie_chart(Cardio_disease2, 'ap_lo_hyper_crisis', ['No','Yes'])"
      ],
      "execution_count": 55,
      "outputs": [
        {
          "output_type": "display_data",
          "data": {
            "image/png": "[encoded data removed]",
            "text/plain": [
              "<Figure size 432x288 with 1 Axes>"
            ]
          },
          "metadata": {
            "tags": []
          }
        },
        {
          "output_type": "display_data",
          "data": {
            "image/png": "[encoded data removed]",
            "text/plain": [
              "<Figure size 432x288 with 1 Axes>"
            ]
          },
          "metadata": {
            "tags": []
          }
        },
        {
          "output_type": "display_data",
          "data": {
            "image/png": "[encoded data removed]",
            "text/plain": [
              "<Figure size 432x288 with 1 Axes>"
            ]
          },
          "metadata": {
            "tags": []
          }
        },
        {
          "output_type": "display_data",
          "data": {
            "image/png": "[encoded data removed]",
            "text/plain": [
              "<Figure size 432x288 with 1 Axes>"
            ]
          },
          "metadata": {
            "tags": []
          }
        },
        {
          "output_type": "display_data",
          "data": {
            "image/png": "[encoded data removed]",
            "text/plain": [
              "<Figure size 432x288 with 1 Axes>"
            ]
          },
          "metadata": {
            "tags": []
          }
        },
        {
          "output_type": "display_data",
          "data": {
            "image/png": "[encoded data removed]",
            "text/plain": [
              "<Figure size 432x288 with 1 Axes>"
            ]
          },
          "metadata": {
            "tags": []
          }
        },
        {
          "output_type": "display_data",
          "data": {
            "image/png": "[encoded data removed]",
            "text/plain": [
              "<Figure size 432x288 with 1 Axes>"
            ]
          },
          "metadata": {
            "tags": []
          }
        },
        {
          "output_type": "display_data",
          "data": {
            "image/png": "[encoded data removed]",
            "text/plain": [
              "<Figure size 432x288 with 1 Axes>"
            ]
          },
          "metadata": {
            "tags": []
          }
        },
        {
          "output_type": "display_data",
          "data": {
            "image/png": "[encoded data removed]",
            "text/plain": [
              "<Figure size 432x288 with 1 Axes>"
            ]
          },
          "metadata": {
            "tags": []
          }
        },
        {
          "output_type": "display_data",
          "data": {
            "image/png": "[encoded data removed]",
            "text/plain": [
              "<Figure size 432x288 with 1 Axes>"
            ]
          },
          "metadata": {
            "tags": []
          }
        },
        {
          "output_type": "display_data",
          "data": {
            "image/png": "[encoded data removed]",
            "text/plain": [
              "<Figure size 432x288 with 1 Axes>"
            ]
          },
          "metadata": {
            "tags": []
          }
        },
        {
          "output_type": "display_data",
          "data": {
            "image/png": "[encoded data removed]",
            "text/plain": [
              "<Figure size 432x288 with 1 Axes>"
            ]
          },
          "metadata": {
            "tags": []
          }
        },
        {
          "output_type": "display_data",
          "data": {
            "image/png": "[encoded data removed]",
            "text/plain": [
              "<Figure size 432x288 with 1 Axes>"
            ]
          },
          "metadata": {
            "tags": []
          }
        },
        {
          "output_type": "display_data",
          "data": {
            "image/png": "[encoded data removed]",
            "text/plain": [
              "<Figure size 432x288 with 1 Axes>"
            ]
          },
          "metadata": {
            "tags": []
          }
        },
        {
          "output_type": "error",
          "ename": "ValueError",
          "evalue": "ignored",
          "traceback": [
            "\u001b[0;31m---------------------------------------------------------------------------\u001b[0m",
            "\u001b[0;31mValueError\u001b[0m                                Traceback (most recent call last)",
            "\u001b[0;32m<ipython-input-55-9a36c77aa103>\u001b[0m in \u001b[0;36m<module>\u001b[0;34m()\u001b[0m\n\u001b[1;32m     27\u001b[0m \u001b[0mpie_chart\u001b[0m\u001b[0;34m(\u001b[0m\u001b[0mCardio_disease2\u001b[0m\u001b[0;34m,\u001b[0m \u001b[0;34m'ap_lo_elevated'\u001b[0m\u001b[0;34m,\u001b[0m \u001b[0;34m[\u001b[0m\u001b[0;34m'No'\u001b[0m\u001b[0;34m,\u001b[0m\u001b[0;34m'Yes'\u001b[0m\u001b[0;34m]\u001b[0m\u001b[0;34m)\u001b[0m\u001b[0;34m\u001b[0m\u001b[0;34m\u001b[0m\u001b[0m\n\u001b[1;32m     28\u001b[0m \u001b[0mpie_chart\u001b[0m\u001b[0;34m(\u001b[0m\u001b[0mCardio_disease2\u001b[0m\u001b[0;34m,\u001b[0m \u001b[0;34m'ap_lo_hypertension'\u001b[0m\u001b[0;34m,\u001b[0m \u001b[0;34m[\u001b[0m\u001b[0;34m'No'\u001b[0m\u001b[0;34m,\u001b[0m\u001b[0;34m'Yes'\u001b[0m\u001b[0;34m]\u001b[0m\u001b[0;34m)\u001b[0m\u001b[0;34m\u001b[0m\u001b[0;34m\u001b[0m\u001b[0m\n\u001b[0;32m---> 29\u001b[0;31m \u001b[0mpie_chart\u001b[0m\u001b[0;34m(\u001b[0m\u001b[0mCardio_disease2\u001b[0m\u001b[0;34m,\u001b[0m \u001b[0;34m'ap_lo_hyper_crisis'\u001b[0m\u001b[0;34m,\u001b[0m \u001b[0;34m[\u001b[0m\u001b[0;34m'No'\u001b[0m\u001b[0;34m,\u001b[0m\u001b[0;34m'Yes'\u001b[0m\u001b[0;34m]\u001b[0m\u001b[0;34m)\u001b[0m\u001b[0;34m\u001b[0m\u001b[0;34m\u001b[0m\u001b[0m\n\u001b[0m",
            "\u001b[0;32m<ipython-input-55-9a36c77aa103>\u001b[0m in \u001b[0;36mpie_chart\u001b[0;34m(Cardio_disease2, col, labels)\u001b[0m\n\u001b[1;32m      4\u001b[0m         \u001b[0ma\u001b[0m  \u001b[0;34m=\u001b[0m \u001b[0mnp\u001b[0m\u001b[0;34m.\u001b[0m\u001b[0mround\u001b[0m\u001b[0;34m(\u001b[0m\u001b[0mval\u001b[0m \u001b[0;34m/\u001b[0m \u001b[0;36m100\u001b[0m \u001b[0;34m*\u001b[0m \u001b[0mdata\u001b[0m\u001b[0;34m.\u001b[0m\u001b[0msum\u001b[0m\u001b[0;34m(\u001b[0m\u001b[0;34m)\u001b[0m\u001b[0;34m,\u001b[0m \u001b[0;36m0\u001b[0m\u001b[0;34m)\u001b[0m\u001b[0;34m\u001b[0m\u001b[0;34m\u001b[0m\u001b[0m\n\u001b[1;32m      5\u001b[0m         \u001b[0;32mreturn\u001b[0m \u001b[0mstr\u001b[0m\u001b[0;34m(\u001b[0m\u001b[0;34m'%0.0f'\u001b[0m \u001b[0;34m%\u001b[0m \u001b[0ma\u001b[0m\u001b[0;34m)\u001b[0m \u001b[0;34m+\u001b[0m \u001b[0;34m'\\n('\u001b[0m \u001b[0;34m+\u001b[0m \u001b[0;34m(\u001b[0m\u001b[0;34m'%0.2f'\u001b[0m \u001b[0;34m%\u001b[0m \u001b[0mval\u001b[0m\u001b[0;34m)\u001b[0m \u001b[0;34m+\u001b[0m \u001b[0;34m'%)'\u001b[0m\u001b[0;34m\u001b[0m\u001b[0;34m\u001b[0m\u001b[0m\n\u001b[0;32m----> 6\u001b[0;31m     \u001b[0mplt\u001b[0m\u001b[0;34m.\u001b[0m\u001b[0mpie\u001b[0m\u001b[0;34m(\u001b[0m\u001b[0mdata\u001b[0m\u001b[0;34m,\u001b[0m \u001b[0mlabels\u001b[0m \u001b[0;34m=\u001b[0m \u001b[0mlabels\u001b[0m\u001b[0;34m,\u001b[0m \u001b[0mautopct\u001b[0m\u001b[0;34m=\u001b[0m\u001b[0mabsolute_value\u001b[0m\u001b[0;34m,\u001b[0m \u001b[0mcolors\u001b[0m\u001b[0;34m=\u001b[0m\u001b[0mcolors\u001b[0m\u001b[0;34m)\u001b[0m\u001b[0;34m\u001b[0m\u001b[0;34m\u001b[0m\u001b[0m\n\u001b[0m\u001b[1;32m      7\u001b[0m     \u001b[0mplt\u001b[0m\u001b[0;34m.\u001b[0m\u001b[0mlegend\u001b[0m\u001b[0;34m(\u001b[0m\u001b[0mtitle\u001b[0m\u001b[0;34m=\u001b[0m\u001b[0mcol\u001b[0m\u001b[0;34m)\u001b[0m\u001b[0;34m\u001b[0m\u001b[0;34m\u001b[0m\u001b[0m\n\u001b[1;32m      8\u001b[0m     \u001b[0mplt\u001b[0m\u001b[0;34m.\u001b[0m\u001b[0mshow\u001b[0m\u001b[0;34m(\u001b[0m\u001b[0;34m)\u001b[0m\u001b[0;34m\u001b[0m\u001b[0;34m\u001b[0m\u001b[0m\n",
            "\u001b[0;32m/usr/local/lib/python3.7/dist-packages/matplotlib/pyplot.py\u001b[0m in \u001b[0;36mpie\u001b[0;34m(x, explode, labels, colors, autopct, pctdistance, shadow, labeldistance, startangle, radius, counterclock, wedgeprops, textprops, center, frame, rotatelabels, data)\u001b[0m\n\u001b[1;32m   2753\u001b[0m         \u001b[0mwedgeprops\u001b[0m\u001b[0;34m=\u001b[0m\u001b[0mwedgeprops\u001b[0m\u001b[0;34m,\u001b[0m \u001b[0mtextprops\u001b[0m\u001b[0;34m=\u001b[0m\u001b[0mtextprops\u001b[0m\u001b[0;34m,\u001b[0m \u001b[0mcenter\u001b[0m\u001b[0;34m=\u001b[0m\u001b[0mcenter\u001b[0m\u001b[0;34m,\u001b[0m\u001b[0;34m\u001b[0m\u001b[0;34m\u001b[0m\u001b[0m\n\u001b[1;32m   2754\u001b[0m         frame=frame, rotatelabels=rotatelabels, **({\"data\": data} if\n\u001b[0;32m-> 2755\u001b[0;31m         data is not None else {}))\n\u001b[0m\u001b[1;32m   2756\u001b[0m \u001b[0;34m\u001b[0m\u001b[0m\n\u001b[1;32m   2757\u001b[0m \u001b[0;34m\u001b[0m\u001b[0m\n",
            "\u001b[0;32m/usr/local/lib/python3.7/dist-packages/matplotlib/__init__.py\u001b[0m in \u001b[0;36minner\u001b[0;34m(ax, data, *args, **kwargs)\u001b[0m\n\u001b[1;32m   1563\u001b[0m     \u001b[0;32mdef\u001b[0m \u001b[0minner\u001b[0m\u001b[0;34m(\u001b[0m\u001b[0max\u001b[0m\u001b[0;34m,\u001b[0m \u001b[0;34m*\u001b[0m\u001b[0margs\u001b[0m\u001b[0;34m,\u001b[0m \u001b[0mdata\u001b[0m\u001b[0;34m=\u001b[0m\u001b[0;32mNone\u001b[0m\u001b[0;34m,\u001b[0m \u001b[0;34m**\u001b[0m\u001b[0mkwargs\u001b[0m\u001b[0;34m)\u001b[0m\u001b[0;34m:\u001b[0m\u001b[0;34m\u001b[0m\u001b[0;34m\u001b[0m\u001b[0m\n\u001b[1;32m   1564\u001b[0m         \u001b[0;32mif\u001b[0m \u001b[0mdata\u001b[0m \u001b[0;32mis\u001b[0m \u001b[0;32mNone\u001b[0m\u001b[0;34m:\u001b[0m\u001b[0;34m\u001b[0m\u001b[0;34m\u001b[0m\u001b[0m\n\u001b[0;32m-> 1565\u001b[0;31m             \u001b[0;32mreturn\u001b[0m \u001b[0mfunc\u001b[0m\u001b[0;34m(\u001b[0m\u001b[0max\u001b[0m\u001b[0;34m,\u001b[0m \u001b[0;34m*\u001b[0m\u001b[0mmap\u001b[0m\u001b[0;34m(\u001b[0m\u001b[0msanitize_sequence\u001b[0m\u001b[0;34m,\u001b[0m \u001b[0margs\u001b[0m\u001b[0;34m)\u001b[0m\u001b[0;34m,\u001b[0m \u001b[0;34m**\u001b[0m\u001b[0mkwargs\u001b[0m\u001b[0;34m)\u001b[0m\u001b[0;34m\u001b[0m\u001b[0;34m\u001b[0m\u001b[0m\n\u001b[0m\u001b[1;32m   1566\u001b[0m \u001b[0;34m\u001b[0m\u001b[0m\n\u001b[1;32m   1567\u001b[0m         \u001b[0mbound\u001b[0m \u001b[0;34m=\u001b[0m \u001b[0mnew_sig\u001b[0m\u001b[0;34m.\u001b[0m\u001b[0mbind\u001b[0m\u001b[0;34m(\u001b[0m\u001b[0max\u001b[0m\u001b[0;34m,\u001b[0m \u001b[0;34m*\u001b[0m\u001b[0margs\u001b[0m\u001b[0;34m,\u001b[0m \u001b[0;34m**\u001b[0m\u001b[0mkwargs\u001b[0m\u001b[0;34m)\u001b[0m\u001b[0;34m\u001b[0m\u001b[0;34m\u001b[0m\u001b[0m\n",
            "\u001b[0;32m/usr/local/lib/python3.7/dist-packages/matplotlib/axes/_axes.py\u001b[0m in \u001b[0;36mpie\u001b[0;34m(self, x, explode, labels, colors, autopct, pctdistance, shadow, labeldistance, startangle, radius, counterclock, wedgeprops, textprops, center, frame, rotatelabels)\u001b[0m\n\u001b[1;32m   2927\u001b[0m             \u001b[0mexplode\u001b[0m \u001b[0;34m=\u001b[0m \u001b[0;34m[\u001b[0m\u001b[0;36m0\u001b[0m\u001b[0;34m]\u001b[0m \u001b[0;34m*\u001b[0m \u001b[0mlen\u001b[0m\u001b[0;34m(\u001b[0m\u001b[0mx\u001b[0m\u001b[0;34m)\u001b[0m\u001b[0;34m\u001b[0m\u001b[0;34m\u001b[0m\u001b[0m\n\u001b[1;32m   2928\u001b[0m         \u001b[0;32mif\u001b[0m \u001b[0mlen\u001b[0m\u001b[0;34m(\u001b[0m\u001b[0mx\u001b[0m\u001b[0;34m)\u001b[0m \u001b[0;34m!=\u001b[0m \u001b[0mlen\u001b[0m\u001b[0;34m(\u001b[0m\u001b[0mlabels\u001b[0m\u001b[0;34m)\u001b[0m\u001b[0;34m:\u001b[0m\u001b[0;34m\u001b[0m\u001b[0;34m\u001b[0m\u001b[0m\n\u001b[0;32m-> 2929\u001b[0;31m             \u001b[0;32mraise\u001b[0m \u001b[0mValueError\u001b[0m\u001b[0;34m(\u001b[0m\u001b[0;34m\"'label' must be of length 'x'\"\u001b[0m\u001b[0;34m)\u001b[0m\u001b[0;34m\u001b[0m\u001b[0;34m\u001b[0m\u001b[0m\n\u001b[0m\u001b[1;32m   2930\u001b[0m         \u001b[0;32mif\u001b[0m \u001b[0mlen\u001b[0m\u001b[0;34m(\u001b[0m\u001b[0mx\u001b[0m\u001b[0;34m)\u001b[0m \u001b[0;34m!=\u001b[0m \u001b[0mlen\u001b[0m\u001b[0;34m(\u001b[0m\u001b[0mexplode\u001b[0m\u001b[0;34m)\u001b[0m\u001b[0;34m:\u001b[0m\u001b[0;34m\u001b[0m\u001b[0;34m\u001b[0m\u001b[0m\n\u001b[1;32m   2931\u001b[0m             \u001b[0;32mraise\u001b[0m \u001b[0mValueError\u001b[0m\u001b[0;34m(\u001b[0m\u001b[0;34m\"'explode' must be of length 'x'\"\u001b[0m\u001b[0;34m)\u001b[0m\u001b[0;34m\u001b[0m\u001b[0;34m\u001b[0m\u001b[0m\n",
            "\u001b[0;31mValueError\u001b[0m: 'label' must be of length 'x'"
          ]
        },
        {
          "output_type": "display_data",
          "data": {
            "image/png": "[encoded data removed]",
            "text/plain": [
              "<Figure size 432x288 with 1 Axes>"
            ]
          },
          "metadata": {
            "tags": [],
            "needs_background": "light"
          }
        }
      ]
    },
    {
      "cell_type": "markdown",
      "metadata": {
        "id": "_lDXTw_j-2Sv"
      },
      "source": [
        "From the pie charts we can observe that majority of people from the population are female, presence or absence for cardiovascular disease is almost the same. Most of the people with 75% out of the total population have normal cholesterol same as controlled glucose 85% of people are on the noraml level of glucose. Very high percentage 91.20% of people don't smoke. Majority of people 94.65% don't consume alcohol but no active 80.34%.\n",
        "We can also notice there was not level of hyper_crisis just small number in ap_hi and 28% and 25% of people have hypertension and 50% have elevated blood pressure."
      ]
    },
    {
      "cell_type": "code",
      "metadata": {
        "colab": {
          "base_uri": "https://localhost:8080/",
          "height": 231
        },
        "id": "UphSQCTsKAM-",
        "outputId": "18fb3147-5af0-4091-c5dd-9ccc2f13a2cd"
      },
      "source": [
        "from sklearn.linear_model import LogisticRegression\n",
        "model = LogisticRegression()\n",
        "#Fit the model\n",
        "model.fit(x_train, y_train)\n",
        "y_pred = model.predict(x_test)\n",
        "#Score/Accuracy\n",
        "acc_logreg=model.score(x_test, y_test)*100\n",
        "acc_logreg"
      ],
      "execution_count": 34,
      "outputs": [
        {
          "output_type": "error",
          "ename": "NameError",
          "evalue": "ignored",
          "traceback": [
            "\u001b[0;31m---------------------------------------------------------------------------\u001b[0m",
            "\u001b[0;31mNameError\u001b[0m                                 Traceback (most recent call last)",
            "\u001b[0;32m<ipython-input-34-22c3235b0cb8>\u001b[0m in \u001b[0;36m<module>\u001b[0;34m()\u001b[0m\n\u001b[1;32m      2\u001b[0m \u001b[0mmodel\u001b[0m \u001b[0;34m=\u001b[0m \u001b[0mLogisticRegression\u001b[0m\u001b[0;34m(\u001b[0m\u001b[0;34m)\u001b[0m\u001b[0;34m\u001b[0m\u001b[0;34m\u001b[0m\u001b[0m\n\u001b[1;32m      3\u001b[0m \u001b[0;31m#Fit the model\u001b[0m\u001b[0;34m\u001b[0m\u001b[0;34m\u001b[0m\u001b[0;34m\u001b[0m\u001b[0m\n\u001b[0;32m----> 4\u001b[0;31m \u001b[0mmodel\u001b[0m\u001b[0;34m.\u001b[0m\u001b[0mfit\u001b[0m\u001b[0;34m(\u001b[0m\u001b[0mx_train\u001b[0m\u001b[0;34m,\u001b[0m \u001b[0my_train\u001b[0m\u001b[0;34m)\u001b[0m\u001b[0;34m\u001b[0m\u001b[0;34m\u001b[0m\u001b[0m\n\u001b[0m\u001b[1;32m      5\u001b[0m \u001b[0my_pred\u001b[0m \u001b[0;34m=\u001b[0m \u001b[0mmodel\u001b[0m\u001b[0;34m.\u001b[0m\u001b[0mpredict\u001b[0m\u001b[0;34m(\u001b[0m\u001b[0mx_test\u001b[0m\u001b[0;34m)\u001b[0m\u001b[0;34m\u001b[0m\u001b[0;34m\u001b[0m\u001b[0m\n\u001b[1;32m      6\u001b[0m \u001b[0;31m#Score/Accuracy\u001b[0m\u001b[0;34m\u001b[0m\u001b[0;34m\u001b[0m\u001b[0;34m\u001b[0m\u001b[0m\n",
            "\u001b[0;31mNameError\u001b[0m: name 'x_train' is not defined"
          ]
        }
      ]
    },
    {
      "cell_type": "code",
      "metadata": {
        "id": "ca7fEtUJJ_xz"
      },
      "source": [
        ""
      ],
      "execution_count": null,
      "outputs": []
    },
    {
      "cell_type": "code",
      "metadata": {
        "id": "Iy_oxxhkKAQM"
      },
      "source": [
        "x=Cardio.drop('COVID-19',axis=1)\n",
        "y=Cardio_disease2['cardio']"
      ],
      "execution_count": null,
      "outputs": []
    },
    {
      "cell_type": "code",
      "metadata": {
        "id": "GV8oRKFlJ_p7"
      },
      "source": [
        ""
      ],
      "execution_count": null,
      "outputs": []
    }
  ]
}